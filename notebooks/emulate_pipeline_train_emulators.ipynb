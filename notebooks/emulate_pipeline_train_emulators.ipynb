{
 "cells": [
  {
   "cell_type": "code",
   "execution_count": null,
   "id": "a9919ffe",
   "metadata": {},
   "outputs": [],
   "source": [
    "import os\n",
    "import pandas as pd\n",
    "from autoemulate.core.compare import AutoEmulate\n",
    "import torch\n",
    "figsize = (9, 5)"
   ]
  },
  {
   "cell_type": "code",
   "execution_count": null,
   "id": "e7637a4e",
   "metadata": {},
   "outputs": [],
   "source": [
    "param_filename = 'parameters_naghavi_constrained_fixed_T_v_tot_v_ref_lower_k_pas'\n",
    "\n",
    "n_samples = 2048\n",
    "\n",
    "simulation_out_path = f'../outputs/simulations/output_{n_samples}_samples_{param_filename}/'\n",
    "\n",
    "parameters_json_file = os.path.join(simulation_out_path, 'parameters.json')\n",
    "\n",
    "# Load the simulation input parameters\n",
    "input_params = pd.read_csv(os.path.join(simulation_out_path, f'input_samples_{n_samples}.csv'))\n",
    "\n",
    "# Load the summary statistics\n",
    "summary_stats = pd.read_csv(os.path.join(simulation_out_path, f'simulations_summary.csv'))"
   ]
  },
  {
   "cell_type": "code",
   "execution_count": null,
   "id": "e4793cd3",
   "metadata": {},
   "outputs": [],
   "source": [
    "# Get column names for parameters up to 'lv.k_pas'\n",
    "parameter_names = list(input_params.columns[:input_params.columns.get_loc('lv.k_pas') + 1])\n",
    "\n",
    "input_params[parameter_names]"
   ]
  },
  {
   "cell_type": "code",
   "execution_count": null,
   "id": "3867603b",
   "metadata": {},
   "outputs": [],
   "source": [
    "len(summary_stats.columns)"
   ]
  },
  {
   "cell_type": "code",
   "execution_count": null,
   "id": "d7a8931b",
   "metadata": {},
   "outputs": [],
   "source": [
    "summary_stats.columns"
   ]
  },
  {
   "cell_type": "code",
   "execution_count": null,
   "id": "1b082254",
   "metadata": {},
   "outputs": [],
   "source": [
    "# Turn x into a pytorch tensor\n",
    "x = torch.tensor(input_params[parameter_names].values, dtype=torch.float32)\n",
    "\n",
    "for i_output in summary_stats.columns:\n",
    "    \n",
    "    print(f'Processing {i_output}')\n",
    "\n",
    "    # Create a directory for the emulators\n",
    "    emulators_path = os.path.join(simulation_out_path, 'emulators', i_output)\n",
    "    os.makedirs(emulators_path, exist_ok=True)\n",
    "\n",
    "    # Get the target variable\n",
    "    Y = summary_stats[i_output].values\n",
    "    y = torch.tensor(Y, dtype=torch.float32)\n",
    "\n",
    "    print(x.shape, y.shape)\n",
    "\n",
    "    # Initialize the AutoEmulate class\n",
    "    ae = AutoEmulate(x = x,\n",
    "                     y = y,\n",
    "                     models=[\"GP\"])\n",
    "\n",
    "    print(ae.summarise())\n",
    "\n",
    "    best = ae.best_result()\n",
    "\n",
    "    print(f'Best model is: {best.model_name}')\n",
    "\n",
    "    # Save the best model\n",
    "    print('Saving the best model...')\n",
    "    ae.save(model_obj=best,\n",
    "            path=emulators_path,\n",
    "            use_timestamp=False)\n",
    "    \n"
   ]
  }
 ],
 "metadata": {
  "kernelspec": {
   "display_name": "venv",
   "language": "python",
   "name": "python3"
  },
  "language_info": {
   "codemirror_mode": {
    "name": "ipython",
    "version": 3
   },
   "file_extension": ".py",
   "mimetype": "text/x-python",
   "name": "python",
   "nbconvert_exporter": "python",
   "pygments_lexer": "ipython3",
   "version": "3.12.11"
  }
 },
 "nbformat": 4,
 "nbformat_minor": 5
}
