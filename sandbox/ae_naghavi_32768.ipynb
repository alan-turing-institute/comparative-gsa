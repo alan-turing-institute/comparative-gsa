{
 "cells": [
  {
   "cell_type": "code",
   "execution_count": null,
   "id": "a9919ffe",
   "metadata": {},
   "outputs": [],
   "source": [
    "import os\n",
    "import numpy as np\n",
    "import pandas as pd\n",
    "import matplotlib.pyplot as plt\n",
    "from tqdm import tqdm\n",
    "from autoemulate.compare import AutoEmulate\n",
    "from sklearn.metrics import r2_score\n",
    "\n",
    "from autoemulate.experimental_design import LatinHypercube\n",
    "from autoemulate.simulations.flow_functions import FlowProblem\n",
    "\n",
    "import json\n",
    "\n",
    "show_progress = False if os.getenv(\"JUPYTER_BOOK_BUILD\", \"false\").lower() == \"true\" else True"
   ]
  },
  {
   "cell_type": "code",
   "execution_count": null,
   "id": "e7637a4e",
   "metadata": {},
   "outputs": [],
   "source": [
    "# Load the simulation input parameters and summary statistics\n",
    "\n",
    "n_samples = 32768 ## compare with separate notebook 32768\n",
    "\n",
    "sim_path = f'./outputs/simulations/output_{n_samples}_samples/'\n",
    "\n",
    "# Load the simulation input parameters\n",
    "input_params = pd.read_csv(os.path.join(sim_path, f'input_samples_{n_samples}.csv'))\n",
    "\n",
    "# Load the boolean mask for failed simulations\n",
    "with open(os.path.join(sim_path, 'bool_indices.json'), 'r') as f:\n",
    "    bool_indices = json.load(f)\n",
    "\n",
    "# Load the summary statistics\n",
    "summary_stats = pd.read_csv(os.path.join(sim_path, f'simulations_summary.csv'))\n",
    "\n",
    "# Create folder for r2\n",
    "save_folder = \"outputs/emulator_r2/r2_values\"\n",
    "os.makedirs(save_folder, exist_ok=True)\n",
    "\n",
    "r2 = eval_df['r2'].iloc[0]\n",
    "r2_path = os.path.join(save_folder, f\"r2_{n_samples}.txt\")\n",
    "with open(r2_path, \"w\") as f:\n",
    "    f.write(str(r2))\n",
    "print(f\"Saved R² value ({r2:.4f}) to {r2_path}\")"
   ]
  },
  {
   "cell_type": "code",
   "execution_count": null,
   "id": "e4793cd3",
   "metadata": {},
   "outputs": [],
   "source": [
    "# Get column names for parameters up to 'T'\n",
    "parameter_names = list(input_params.columns[:input_params.columns.get_loc('T') + 1])\n",
    "\n",
    "input_params[parameter_names]"
   ]
  },
  {
   "cell_type": "code",
   "execution_count": null,
   "id": "18feb6de",
   "metadata": {},
   "outputs": [],
   "source": [
    "# Drop all the rows from input_params that correspond to entries in bool_indices\n",
    "input_params = input_params.drop(bool_indices)"
   ]
  },
  {
   "cell_type": "code",
   "execution_count": null,
   "id": "39a28dc0",
   "metadata": {},
   "outputs": [],
   "source": [
    "Y = summary_stats['p_ao_mean'].values"
   ]
  },
  {
   "cell_type": "code",
   "execution_count": null,
   "id": "b0ae186c",
   "metadata": {},
   "outputs": [],
   "source": [
    "em = AutoEmulate()\n",
    "em.setup(X = input_params[parameter_names], \n",
    "         y = Y, \n",
    "         models = ['gp'], ## Stick to gp\n",
    "         n_jobs=-8)"
   ]
  },
  {
   "cell_type": "code",
   "execution_count": null,
   "id": "52ae5723",
   "metadata": {},
   "outputs": [],
   "source": [
    "best_model = em.compare()"
   ]
  },
  {
   "cell_type": "code",
   "execution_count": null,
   "id": "f673fa6c",
   "metadata": {},
   "outputs": [],
   "source": [
    "em.summarise_cv()"
   ]
  },
  {
   "cell_type": "code",
   "execution_count": null,
   "id": "1d714d23",
   "metadata": {},
   "outputs": [],
   "source": [
    "gp = em.get_model(\"GaussianProcess\")\n",
    "em.evaluate(gp)\n",
    "eval_df = em.evaluate(gp)"
   ]
  },
  {
   "cell_type": "code",
   "execution_count": null,
   "id": "54b59bfa",
   "metadata": {},
   "outputs": [],
   "source": [
    "import os\n",
    "save_folder = \"outputs/emulator_r2/r2_values\"\n",
    "os.makedirs(save_folder, exist_ok=True)\n",
    "\n",
    "r2_path = os.path.join(save_folder, f\"r2_{n_samples}.txt\")\n",
    "with open(r2_path, \"w\") as f:\n",
    "    f.write(str(r2))\n",
    "print(f\"Saved R² value ({r2:.4f}) to {r2_path}\")"
   ]
  },
  {
   "cell_type": "code",
   "execution_count": null,
   "id": "a678a26b",
   "metadata": {},
   "outputs": [],
   "source": [
    "em.plot_eval(gp)"
   ]
  },
  {
   "cell_type": "code",
   "execution_count": null,
   "id": "01dec86a",
   "metadata": {},
   "outputs": [],
   "source": [
    "best_emulator = em.refit(gp)"
   ]
  }
 ],
 "metadata": {
  "kernelspec": {
   "display_name": "venv",
   "language": "python",
   "name": "python3"
  },
  "language_info": {
   "codemirror_mode": {
    "name": "ipython",
    "version": 3
   },
   "file_extension": ".py",
   "mimetype": "text/x-python",
   "name": "python",
   "nbconvert_exporter": "python",
   "pygments_lexer": "ipython3",
   "version": "3.11.13"
  }
 },
 "nbformat": 4,
 "nbformat_minor": 5
}
