{
 "cells": [
  {
   "cell_type": "code",
   "execution_count": null,
   "id": "a9919ffe",
   "metadata": {},
   "outputs": [],
   "source": [
    "import os\n",
    "import pandas as pd\n",
    "from autoemulate.core.compare import AutoEmulate\n",
    "import torch\n",
    "figsize = (9, 5)\n",
    "\n",
    "import matplotlib.pyplot as plt\n",
    "\n",
    "import matplotlib.pyplot as plt\n",
    "import seaborn as sns\n",
    "import numpy as np"
   ]
  },
  {
   "cell_type": "code",
   "execution_count": null,
   "id": "aacb21aa",
   "metadata": {},
   "outputs": [],
   "source": [
    "param_filename = 'parameters_naghavi_constrained_fixed_T_v_tot_v_ref_lower_k_pas_further'\n",
    "\n",
    "save_dir = f'../../outputs/sa_results/plots/{param_filename}'"
   ]
  },
  {
   "cell_type": "code",
   "execution_count": null,
   "id": "9ab0ead5",
   "metadata": {},
   "outputs": [],
   "source": [
    "# Load the combined sobol df\n",
    "combined_sobol_df = pd.read_csv(os.path.join('../../outputs/sa_results/aggregated_dfs/',\n",
    "                                             param_filename,\n",
    "                                             'combined_sobol_df.csv'))"
   ]
  },
  {
   "cell_type": "code",
   "execution_count": null,
   "id": "4a2abd0b",
   "metadata": {},
   "outputs": [],
   "source": [
    "data_type = 'simulations'\n",
    "\n",
    "sims_df = combined_sobol_df[combined_sobol_df['data_type'] == data_type]"
   ]
  },
  {
   "cell_type": "code",
   "execution_count": null,
   "id": "0a220217",
   "metadata": {},
   "outputs": [],
   "source": [
    "index_to_plot = 'S1'\n",
    "\n",
    "# Set style once outside the loop\n",
    "sns.set_style(\"whitegrid\")\n",
    "\n",
    "# Plot the index convergence for simulations\n",
    "df = sims_df[sims_df['index'] == index_to_plot]\n",
    "\n",
    "output_to_plot = ['p_ao_min',\n",
    "                  'p_ao_max']\n",
    "\n",
    "# Define different markers for each parameter\n",
    "markers = ['o', 's', '^', 'D', 'v', '<', '>', 'p', '*', 'h', 'H', '+', 'x']\n",
    "\n",
    "for i_feature in output_to_plot:\n",
    "\n",
    "    print('Plotting for ', i_feature)\n",
    "\n",
    "    i_df = df[df['output'] == i_feature]\n",
    "\n",
    "    plt.figure(figsize=(10, 6))\n",
    "    \n",
    "    # Get unique parameters for plotting\n",
    "    parameters = i_df['parameter'].unique()\n",
    "    \n",
    "    for i, param in enumerate(parameters):\n",
    "        param_data = i_df[i_df['parameter'] == param].sort_values('n_model_evals')\n",
    "\n",
    "        x = param_data['n_model_evals']\n",
    "        y = param_data['value']\n",
    "        ci = param_data['confidence']\n",
    "        \n",
    "        # Calculate confidence bounds\n",
    "        y_lower = y - ci/2\n",
    "        y_upper = y + ci/2\n",
    "        \n",
    "        # Plot the line with different markers\n",
    "        marker = markers[i % len(markers)]  # Cycle through markers if more parameters than markers\n",
    "        plt.plot(x, y, marker=marker, label=param, linewidth=2, markersize=6)\n",
    "        \n",
    "        # Add confidence interval shading\n",
    "        plt.fill_between(x, y_lower, y_upper, alpha=0.2)\n",
    "\n",
    "    # Use log scale for x-axis\n",
    "    plt.xscale('log', base=2)\n",
    "\n",
    "    # Set y axis scale manually\n",
    "    if index_to_plot == 'S1':\n",
    "        plt.ylim(-0.2, 0.6)\n",
    "    elif index_to_plot == 'ST':\n",
    "        plt.ylim(0, 0.5)\n",
    "\n",
    "    # Set x-axis ticks to actual n_model_evals values\n",
    "    unique_x_vals_n_model_evals = sorted(i_df['n_model_evals'].unique())\n",
    "    \n",
    "    # Create custom labels showing both values\n",
    "    custom_labels = []\n",
    "    for n_evals in unique_x_vals_n_model_evals:\n",
    "        # Find corresponding n_saltelli_samples for this n_model_evals\n",
    "        n_samples = i_df[i_df['n_model_evals'] == n_evals]['n_saltelli_samples'].iloc[0]\n",
    "        custom_labels.append(f\"{int(n_samples)}\\n({int(n_evals):,})\")\n",
    "    \n",
    "    plt.xticks(unique_x_vals_n_model_evals, custom_labels)\n",
    "\n",
    "    # Optional: Format large numbers with commas for readability\n",
    "    # ax = plt.gca()\n",
    "    # ax.xaxis.set_major_formatter(plt.FuncFormatter(lambda x, p: format(int(x), ',')))\n",
    "    font_size = 20\n",
    "\n",
    "    plt.xlabel('Samples (N Model Evals) \\n(log scale)', size=font_size)\n",
    "    plt.ylabel(f'{index_to_plot} Sensitivity Index', size=font_size)\n",
    "    plt.title(f'{index_to_plot} Index Convergence for {i_feature}', size=font_size)\n",
    "    plt.legend(bbox_to_anchor=(-0.1, 1), loc='upper right')\n",
    "    plt.grid(True, alpha=0.3)\n",
    "    plt.tight_layout()\n",
    "    plt.savefig(f'{save_dir}/gsa_{index_to_plot}_convergence_{i_feature}.png', dpi=300, bbox_inches='tight')\n",
    "\n",
    "    plt.show()"
   ]
  }
 ],
 "metadata": {
  "kernelspec": {
   "display_name": "venv",
   "language": "python",
   "name": "python3"
  },
  "language_info": {
   "codemirror_mode": {
    "name": "ipython",
    "version": 3
   },
   "file_extension": ".py",
   "mimetype": "text/x-python",
   "name": "python",
   "nbconvert_exporter": "python",
   "pygments_lexer": "ipython3",
   "version": "3.12.11"
  }
 },
 "nbformat": 4,
 "nbformat_minor": 5
}
