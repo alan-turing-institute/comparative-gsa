{
 "cells": [
  {
   "cell_type": "markdown",
   "id": "f8797999",
   "metadata": {},
   "source": [
    "Notebook to perform sensitivity analysis on either direct simulations or emulations"
   ]
  },
  {
   "cell_type": "code",
   "execution_count": null,
   "id": "a9b5c525",
   "metadata": {},
   "outputs": [],
   "source": [
    "# Import relevant libraries\n",
    "import os\n",
    "import pandas as pd\n",
    "\n",
    "from SALib.analyze.sobol import analyze\n",
    "import matplotlib.pyplot as plt\n",
    "import pickle\n",
    "import pandas as pd\n",
    "\n",
    "from comparative_gsa.utils import helpers\n",
    "\n",
    "import torch\n",
    "\n",
    "from autoemulate.core.sensitivity_analysis import SensitivityAnalysis\n",
    "from autoemulate.core.sensitivity_analysis import _sobol_results_to_df \n",
    "\n",
    "figsize = (9, 5)"
   ]
  },
  {
   "cell_type": "code",
   "execution_count": null,
   "id": "ee593217",
   "metadata": {},
   "outputs": [],
   "source": [
    "param_path = '../inputs/parameters_naghavi_constrained_fixed_T_v_tot_v_ref_lower_k_pas_further.json'\n",
    "# Get the filename from the path, without extension\n",
    "param_filename = os.path.splitext(os.path.basename(param_path))[0]\n",
    "\n",
    "n_saltelli_samples = [2048, 4096]\n",
    "n_model_evals      = [61440, 122880]"
   ]
  },
  {
   "cell_type": "code",
   "execution_count": null,
   "id": "4c50a927",
   "metadata": {},
   "outputs": [],
   "source": [
    "data_type = 'simulations' # 'simulations' or 'emulations'\n",
    "\n",
    "for i_n_saltelli_samples, i_n_model_evals in zip(n_saltelli_samples, n_model_evals):\n",
    "    print(f'Processing {i_n_saltelli_samples} samples and {i_n_model_evals} model evaluations...')\n",
    "\n",
    "    simulation_out_path = f'../outputs/simulations_for_sa/n_samples_{i_n_saltelli_samples}_n_evals_{i_n_model_evals}_{param_filename}/'\n",
    "\n",
    "    # Load the problem pickle file\n",
    "    problem_path = os.path.join(simulation_out_path, 'problem.pkl')\n",
    "\n",
    "    with open(problem_path, 'rb') as f:\n",
    "        problem = pickle.load(f)\n",
    "\n",
    "    # Load the simulation summary results\n",
    "    simulations_summary = pd.read_csv(os.path.join(simulation_out_path, f'simulations_summary.csv'))\n",
    "\n",
    "    # Load the parameter values\n",
    "    parameters_csv = pd.read_csv(os.path.join(simulation_out_path,'saltelli_samples.csv'))\n",
    "\n",
    "    # Turn x into a pytorch tensor, for emulators to predict on\n",
    "    x = torch.tensor(parameters_csv.values, dtype=torch.float32)\n",
    "\n",
    "    # Loop over each feature\n",
    "    for i_output_feature in simulations_summary.columns:\n",
    "\n",
    "        print(f'Analysing {i_output_feature} with {data_type}')\n",
    "\n",
    "        Y_feature = simulations_summary[i_output_feature].values\n",
    "       \n",
    "        # Do the sobol_analyse for GSA\n",
    "        sobol_indices = analyze(problem, Y_feature, calc_second_order=True)\n",
    "        \n",
    "        # Transform to a dataframe  \n",
    "        sobol_df = _sobol_results_to_df({i_output_feature: sobol_indices})\n",
    "\n",
    "        # Swap S1 ST due to bug\n",
    "        print('Warning, swapping S1 and ST because of a bug in Autoemulate plotting')\n",
    "        sobol_df = helpers.swap_s1_st(sobol_df=sobol_df)\n",
    "\n",
    "        # Save the sobol_indices and sobol df\n",
    "        save_dir = os.path.join('../outputs/sa_results/'\n",
    "                                f'n_samples_{i_n_saltelli_samples}_n_evals_{i_n_model_evals}_{param_filename}/',\n",
    "                                i_output_feature,\n",
    "                                data_type)\n",
    "\n",
    "        os.makedirs(save_dir, exist_ok=True)\n",
    "        sobol_df.to_csv(os.path.join(save_dir,'sobol_df.csv'), index=False)\n",
    "\n",
    "        # Plot the figures and save\n",
    "        fig_s1 = SensitivityAnalysis.plot_sobol(sobol_df, index=\"S1\", figsize=figsize) \n",
    "        fig_s1.savefig(os.path.join(save_dir, f's1_indices.png'), \n",
    "                dpi=300, bbox_inches='tight')\n",
    "        plt.close(fig_s1)  # Close the figure to free memory\n",
    "        fig_st = SensitivityAnalysis.plot_sobol(sobol_df, index=\"ST\", figsize=figsize) \n",
    "        fig_st.savefig(os.path.join(save_dir, f'st_indices.png'), \n",
    "                dpi=300, bbox_inches='tight')    \n",
    "        plt.close(fig_st)  # Close the figure to free memory        "
   ]
  }
 ],
 "metadata": {
  "kernelspec": {
   "display_name": "venv",
   "language": "python",
   "name": "python3"
  },
  "language_info": {
   "codemirror_mode": {
    "name": "ipython",
    "version": 3
   },
   "file_extension": ".py",
   "mimetype": "text/x-python",
   "name": "python",
   "nbconvert_exporter": "python",
   "pygments_lexer": "ipython3",
   "version": "3.12.11"
  }
 },
 "nbformat": 4,
 "nbformat_minor": 5
}
