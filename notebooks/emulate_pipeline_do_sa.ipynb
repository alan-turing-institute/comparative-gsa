{
 "cells": [
  {
   "cell_type": "code",
   "execution_count": 75,
   "id": "a9919ffe",
   "metadata": {},
   "outputs": [],
   "source": [
    "import os\n",
    "import pandas as pd\n",
    "from autoemulate.core.compare import AutoEmulate\n",
    "from autoemulate.core.sensitivity_analysis import SensitivityAnalysis\n",
    "from ModularCirc import BatchRunner\n",
    "import torch\n",
    "from autoemulate.core.save import ModelSerialiser\n",
    "from autoemulate.core.logging_config import get_configured_logger\n",
    "import matplotlib.pyplot as plt\n",
    "\n",
    "from comparative_gsa.utils import helpers\n",
    "figsize = (9, 5)"
   ]
  },
  {
   "cell_type": "code",
   "execution_count": null,
   "id": "e7637a4e",
   "metadata": {},
   "outputs": [],
   "source": [
    "param_filename = 'parameters_naghavi_constrained_fixed_T_v_tot_v_ref_lower_k_pas_ao_r_c_ranges'\n",
    "\n",
    "n_samples = 2048\n",
    "\n",
    "simulation_out_path = f'../outputs/simulations/output_{n_samples}_samples_{param_filename}/'\n",
    "\n",
    "parameters_json_file = os.path.join(simulation_out_path, 'parameters.json')\n",
    "\n",
    "# Load the simulation input parameters\n",
    "input_params = pd.read_csv(os.path.join(simulation_out_path, f'input_samples_{n_samples}.csv'))\n",
    "\n",
    "# Load the summary statistics\n",
    "summary_stats = pd.read_csv(os.path.join(simulation_out_path, f'simulations_summary.csv'))\n",
    "\n",
    "output_to_emulate = 'p_ao_max'\n",
    "\n",
    "emulators_path = os.path.join(simulation_out_path, 'emulators', output_to_emulate)"
   ]
  },
  {
   "cell_type": "code",
   "execution_count": 77,
   "id": "6d01b70f",
   "metadata": {},
   "outputs": [
    {
     "data": {
      "text/plain": [
       "{'ao.r': (1950.0, 3250.0),\n",
       " 'ao.c': (0.22499999999999998, 0.375),\n",
       " 'art.r': (843.75, 1406.25),\n",
       " 'art.c': (2.25, 3.75),\n",
       " 'ven.r': (6.75, 11.25),\n",
       " 'ven.c': (84.975, 141.625),\n",
       " 'av.r': (4.5, 7.5),\n",
       " 'mv.r': (3.0749999999999997, 5.125),\n",
       " 'la.E_pas': (0.22499999999999998, 0.375),\n",
       " 'la.E_act': (0.41250000000000003, 0.6875),\n",
       " 'la.k_pas': (0.00666, 0.03),\n",
       " 'lv.E_pas': (0.75, 1.25),\n",
       " 'lv.E_act': (2.25, 3.75),\n",
       " 'lv.k_pas': (0.00666, 0.03)}"
      ]
     },
     "execution_count": 77,
     "metadata": {},
     "output_type": "execute_result"
    }
   ],
   "source": [
    "# Use ModularCirc's BatchRunner to condense parameter names. This requires setting up the sampler first.\n",
    "br = BatchRunner()\n",
    "\n",
    "br.setup_sampler(parameters_json_file)\n",
    "\n",
    "br._parameters_2_sample"
   ]
  },
  {
   "cell_type": "code",
   "execution_count": 78,
   "id": "e4793cd3",
   "metadata": {},
   "outputs": [],
   "source": [
    "# Get column names for parameters up to 'lv.k_pas'\n",
    "parameter_names = list(input_params.columns[:input_params.columns.get_loc('lv.k_pas') + 1])"
   ]
  },
  {
   "cell_type": "code",
   "execution_count": 79,
   "id": "d2b9f90e",
   "metadata": {},
   "outputs": [
    {
     "data": {
      "text/plain": [
       "[(1950.0, 3250.0),\n",
       " (0.22499999999999998, 0.375),\n",
       " (843.75, 1406.25),\n",
       " (2.25, 3.75),\n",
       " (6.75, 11.25),\n",
       " (84.975, 141.625),\n",
       " (4.5, 7.5),\n",
       " (3.0749999999999997, 5.125),\n",
       " (0.22499999999999998, 0.375),\n",
       " (0.41250000000000003, 0.6875),\n",
       " (0.00666, 0.03),\n",
       " (0.75, 1.25),\n",
       " (2.25, 3.75),\n",
       " (0.00666, 0.03)]"
      ]
     },
     "execution_count": 79,
     "metadata": {},
     "output_type": "execute_result"
    }
   ],
   "source": [
    "# Extract parameter names and bounds from the dictionary\n",
    "parameters_range = br._parameters_2_sample\n",
    "\n",
    "parameter_names = list(parameters_range.keys())\n",
    "parameter_bounds = list(parameters_range.values())\n",
    "\n",
    "parameter_bounds"
   ]
  },
  {
   "cell_type": "code",
   "execution_count": null,
   "id": "ac334029",
   "metadata": {},
   "outputs": [],
   "source": [
    "problem = {\n",
    "    'num_vars': len(parameter_names),\n",
    "    'names': parameter_names,\n",
    "    'bounds': parameter_bounds,\n",
    "}\n",
    "ae_results = helpers.ae_load_result(os.path.join(emulators_path, 'GaussianProcess_0_20250821_142302'))\n",
    "sa = SensitivityAnalysis(ae_results.model, problem=problem)"
   ]
  },
  {
   "cell_type": "code",
   "execution_count": 81,
   "id": "05770221",
   "metadata": {},
   "outputs": [
    {
     "name": "stderr",
     "output_type": "stream",
     "text": [
      "/Users/syonis/project/comparative-gsa/venv/lib/python3.12/site-packages/SALib/util/__init__.py:274: FutureWarning: unique with argument that is not not a Series, Index, ExtensionArray, or np.ndarray is deprecated and will raise in a future version.\n",
      "  names = list(pd.unique(groups))\n"
     ]
    },
    {
     "data": {
      "application/vnd.microsoft.datawrangler.viewer.v0+json": {
       "columns": [
        {
         "name": "index",
         "rawType": "int64",
         "type": "integer"
        },
        {
         "name": "output",
         "rawType": "object",
         "type": "string"
        },
        {
         "name": "parameter",
         "rawType": "object",
         "type": "unknown"
        },
        {
         "name": "index",
         "rawType": "object",
         "type": "string"
        },
        {
         "name": "value",
         "rawType": "float64",
         "type": "float"
        },
        {
         "name": "confidence",
         "rawType": "float64",
         "type": "float"
        }
       ],
       "ref": "5f6aa2f1-51d6-42b6-a5e3-f81ffd2a7875",
       "rows": [
        [
         "0",
         "y1",
         "ao.r",
         "S1",
         "0.009056928640515452",
         "0.0004773911833901036"
        ],
        [
         "1",
         "y1",
         "ao.c",
         "S1",
         "0.006287584394371133",
         "0.00042666708334539985"
        ],
        [
         "2",
         "y1",
         "art.r",
         "S1",
         "0.0005684465598862992",
         "6.462743304540328e-05"
        ],
        [
         "3",
         "y1",
         "art.c",
         "S1",
         "0.0031655721042051638",
         "0.0002697035585514066"
        ],
        [
         "4",
         "y1",
         "ven.r",
         "S1",
         "0.001193367542658727",
         "7.150342167880191e-05"
        ],
        [
         "5",
         "y1",
         "ven.c",
         "S1",
         "0.008948690820094484",
         "0.0005178845019708109"
        ],
        [
         "6",
         "y1",
         "av.r",
         "S1",
         "6.250433295266488e-06",
         "6.522584909791353e-07"
        ],
        [
         "7",
         "y1",
         "mv.r",
         "S1",
         "0.00034782898377044396",
         "3.015036329180675e-05"
        ],
        [
         "8",
         "y1",
         "la.E_pas",
         "S1",
         "0.0008069454184268339",
         "4.447661815352812e-05"
        ],
        [
         "9",
         "y1",
         "la.E_act",
         "S1",
         "0.0007577491622241026",
         "4.0718769505792716e-05"
        ],
        [
         "10",
         "y1",
         "la.k_pas",
         "S1",
         "0.06534733199079297",
         "0.003296554151804669"
        ],
        [
         "11",
         "y1",
         "lv.E_pas",
         "S1",
         "0.011500851397754622",
         "0.0005188682954086997"
        ],
        [
         "12",
         "y1",
         "lv.E_act",
         "S1",
         "0.06245730354014998",
         "0.002884260123561304"
        ],
        [
         "13",
         "y1",
         "lv.k_pas",
         "S1",
         "0.8432672686032049",
         "0.03203429521838436"
        ],
        [
         "0",
         "y1",
         "ao.r",
         "ST",
         "0.006354880249183353",
         "0.003820963071243464"
        ],
        [
         "1",
         "y1",
         "ao.c",
         "ST",
         "0.004253398716437965",
         "0.0032302767165440106"
        ],
        [
         "2",
         "y1",
         "art.r",
         "ST",
         "0.0006331375707493326",
         "0.001058807981504511"
        ],
        [
         "3",
         "y1",
         "art.c",
         "ST",
         "0.00216244878231772",
         "0.0025577913887846154"
        ],
        [
         "4",
         "y1",
         "ven.r",
         "ST",
         "0.0008085581506120335",
         "0.0014762241458199728"
        ],
        [
         "5",
         "y1",
         "ven.c",
         "ST",
         "0.00697200824236354",
         "0.004121208921929778"
        ],
        [
         "6",
         "y1",
         "av.r",
         "ST",
         "-3.487063453106133e-05",
         "0.00010438458966866316"
        ],
        [
         "7",
         "y1",
         "mv.r",
         "ST",
         "0.00020527645414390264",
         "0.0008068390036685857"
        ],
        [
         "8",
         "y1",
         "la.E_pas",
         "ST",
         "0.0007725439417413519",
         "0.0013832199234520015"
        ],
        [
         "9",
         "y1",
         "la.E_act",
         "ST",
         "0.0006429262132070501",
         "0.0013054802968136363"
        ],
        [
         "10",
         "y1",
         "la.k_pas",
         "ST",
         "0.061275819951143985",
         "0.010956848080710178"
        ],
        [
         "11",
         "y1",
         "lv.E_pas",
         "ST",
         "0.011438736766404391",
         "0.004474308296136545"
        ],
        [
         "12",
         "y1",
         "lv.E_act",
         "ST",
         "0.05988566862996869",
         "0.010567802046730598"
        ],
        [
         "13",
         "y1",
         "lv.k_pas",
         "ST",
         "0.8295966017036461",
         "0.03880587414079319"
        ],
        [
         "0",
         "y1",
         "('ao.r', 'ao.c')",
         "S2",
         "0.0017841595570315567",
         "0.005520360909033046"
        ],
        [
         "1",
         "y1",
         "('ao.r', 'art.r')",
         "S2",
         "0.0017019501816360207",
         "0.005497203013299809"
        ],
        [
         "2",
         "y1",
         "('ao.r', 'art.c')",
         "S2",
         "0.0017067028811155825",
         "0.005497015175492799"
        ],
        [
         "3",
         "y1",
         "('ao.r', 'ven.r')",
         "S2",
         "0.0016724192070396982",
         "0.005461617829932055"
        ],
        [
         "4",
         "y1",
         "('ao.r', 'ven.c')",
         "S2",
         "0.001486733750022188",
         "0.005496118375920501"
        ],
        [
         "5",
         "y1",
         "('ao.r', 'av.r')",
         "S2",
         "0.0016969868600518196",
         "0.005476395466627804"
        ],
        [
         "6",
         "y1",
         "('ao.r', 'mv.r')",
         "S2",
         "0.0016728419706076331",
         "0.005446532788080186"
        ],
        [
         "7",
         "y1",
         "('ao.r', 'la.E_pas')",
         "S2",
         "0.0017008004940397509",
         "0.005492483019523393"
        ],
        [
         "8",
         "y1",
         "('ao.r', 'la.E_act')",
         "S2",
         "0.001705774642278898",
         "0.00546551200199908"
        ],
        [
         "9",
         "y1",
         "('ao.r', 'la.k_pas')",
         "S2",
         "0.001450290154370558",
         "0.005807947500409936"
        ],
        [
         "10",
         "y1",
         "('ao.r', 'lv.E_pas')",
         "S2",
         "0.0017705039912932242",
         "0.005530093450111295"
        ],
        [
         "11",
         "y1",
         "('ao.r', 'lv.E_act')",
         "S2",
         "0.0019585743010060927",
         "0.0056659882389781405"
        ],
        [
         "12",
         "y1",
         "('ao.r', 'lv.k_pas')",
         "S2",
         "0.0028906208921742893",
         "0.008257981369336675"
        ],
        [
         "13",
         "y1",
         "('ao.c', 'art.r')",
         "S2",
         "0.00027896107124974025",
         "0.004712604319402804"
        ],
        [
         "14",
         "y1",
         "('ao.c', 'art.c')",
         "S2",
         "0.0003244788552130085",
         "0.004746092790465898"
        ],
        [
         "15",
         "y1",
         "('ao.c', 'ven.r')",
         "S2",
         "0.00028477557111551764",
         "0.004709821063362355"
        ],
        [
         "16",
         "y1",
         "('ao.c', 'ven.c')",
         "S2",
         "0.0005710380164156226",
         "0.004692888131630146"
        ],
        [
         "17",
         "y1",
         "('ao.c', 'av.r')",
         "S2",
         "0.0002991030140339866",
         "0.004721948395851305"
        ],
        [
         "18",
         "y1",
         "('ao.c', 'mv.r')",
         "S2",
         "0.0002912940957365285",
         "0.004707903782445517"
        ],
        [
         "19",
         "y1",
         "('ao.c', 'la.E_pas')",
         "S2",
         "0.0002672925490170097",
         "0.004716935635811203"
        ],
        [
         "20",
         "y1",
         "('ao.c', 'la.E_act')",
         "S2",
         "0.0002863550422244189",
         "0.004706505215478168"
        ],
        [
         "21",
         "y1",
         "('ao.c', 'la.k_pas')",
         "S2",
         "0.00042307011305499354",
         "0.005063159029673849"
        ]
       ],
       "shape": {
        "columns": 5,
        "rows": 119
       }
      },
      "text/html": [
       "<div>\n",
       "<style scoped>\n",
       "    .dataframe tbody tr th:only-of-type {\n",
       "        vertical-align: middle;\n",
       "    }\n",
       "\n",
       "    .dataframe tbody tr th {\n",
       "        vertical-align: top;\n",
       "    }\n",
       "\n",
       "    .dataframe thead th {\n",
       "        text-align: right;\n",
       "    }\n",
       "</style>\n",
       "<table border=\"1\" class=\"dataframe\">\n",
       "  <thead>\n",
       "    <tr style=\"text-align: right;\">\n",
       "      <th></th>\n",
       "      <th>output</th>\n",
       "      <th>parameter</th>\n",
       "      <th>index</th>\n",
       "      <th>value</th>\n",
       "      <th>confidence</th>\n",
       "    </tr>\n",
       "  </thead>\n",
       "  <tbody>\n",
       "    <tr>\n",
       "      <th>0</th>\n",
       "      <td>y1</td>\n",
       "      <td>ao.r</td>\n",
       "      <td>S1</td>\n",
       "      <td>0.009057</td>\n",
       "      <td>0.000477</td>\n",
       "    </tr>\n",
       "    <tr>\n",
       "      <th>1</th>\n",
       "      <td>y1</td>\n",
       "      <td>ao.c</td>\n",
       "      <td>S1</td>\n",
       "      <td>0.006288</td>\n",
       "      <td>0.000427</td>\n",
       "    </tr>\n",
       "    <tr>\n",
       "      <th>2</th>\n",
       "      <td>y1</td>\n",
       "      <td>art.r</td>\n",
       "      <td>S1</td>\n",
       "      <td>0.000568</td>\n",
       "      <td>0.000065</td>\n",
       "    </tr>\n",
       "    <tr>\n",
       "      <th>3</th>\n",
       "      <td>y1</td>\n",
       "      <td>art.c</td>\n",
       "      <td>S1</td>\n",
       "      <td>0.003166</td>\n",
       "      <td>0.000270</td>\n",
       "    </tr>\n",
       "    <tr>\n",
       "      <th>4</th>\n",
       "      <td>y1</td>\n",
       "      <td>ven.r</td>\n",
       "      <td>S1</td>\n",
       "      <td>0.001193</td>\n",
       "      <td>0.000072</td>\n",
       "    </tr>\n",
       "    <tr>\n",
       "      <th>...</th>\n",
       "      <td>...</td>\n",
       "      <td>...</td>\n",
       "      <td>...</td>\n",
       "      <td>...</td>\n",
       "      <td>...</td>\n",
       "    </tr>\n",
       "    <tr>\n",
       "      <th>86</th>\n",
       "      <td>y1</td>\n",
       "      <td>(la.k_pas, lv.E_act)</td>\n",
       "      <td>S2</td>\n",
       "      <td>-0.000089</td>\n",
       "      <td>0.016183</td>\n",
       "    </tr>\n",
       "    <tr>\n",
       "      <th>87</th>\n",
       "      <td>y1</td>\n",
       "      <td>(la.k_pas, lv.k_pas)</td>\n",
       "      <td>S2</td>\n",
       "      <td>0.003632</td>\n",
       "      <td>0.021534</td>\n",
       "    </tr>\n",
       "    <tr>\n",
       "      <th>88</th>\n",
       "      <td>y1</td>\n",
       "      <td>(lv.E_pas, lv.E_act)</td>\n",
       "      <td>S2</td>\n",
       "      <td>-0.000987</td>\n",
       "      <td>0.006769</td>\n",
       "    </tr>\n",
       "    <tr>\n",
       "      <th>89</th>\n",
       "      <td>y1</td>\n",
       "      <td>(lv.E_pas, lv.k_pas)</td>\n",
       "      <td>S2</td>\n",
       "      <td>-0.000015</td>\n",
       "      <td>0.008660</td>\n",
       "    </tr>\n",
       "    <tr>\n",
       "      <th>90</th>\n",
       "      <td>y1</td>\n",
       "      <td>(lv.E_act, lv.k_pas)</td>\n",
       "      <td>S2</td>\n",
       "      <td>0.002224</td>\n",
       "      <td>0.020867</td>\n",
       "    </tr>\n",
       "  </tbody>\n",
       "</table>\n",
       "<p>119 rows × 5 columns</p>\n",
       "</div>"
      ],
      "text/plain": [
       "   output             parameter index     value  confidence\n",
       "0      y1                  ao.r    S1  0.009057    0.000477\n",
       "1      y1                  ao.c    S1  0.006288    0.000427\n",
       "2      y1                 art.r    S1  0.000568    0.000065\n",
       "3      y1                 art.c    S1  0.003166    0.000270\n",
       "4      y1                 ven.r    S1  0.001193    0.000072\n",
       "..    ...                   ...   ...       ...         ...\n",
       "86     y1  (la.k_pas, lv.E_act)    S2 -0.000089    0.016183\n",
       "87     y1  (la.k_pas, lv.k_pas)    S2  0.003632    0.021534\n",
       "88     y1  (lv.E_pas, lv.E_act)    S2 -0.000987    0.006769\n",
       "89     y1  (lv.E_pas, lv.k_pas)    S2 -0.000015    0.008660\n",
       "90     y1  (lv.E_act, lv.k_pas)    S2  0.002224    0.020867\n",
       "\n",
       "[119 rows x 5 columns]"
      ]
     },
     "execution_count": 81,
     "metadata": {},
     "output_type": "execute_result"
    }
   ],
   "source": [
    "sobol_df = sa.run(method=\"sobol\", n_samples=1024*2*2)\n",
    "sobol_df"
   ]
  },
  {
   "cell_type": "code",
   "execution_count": 82,
   "id": "534d7187",
   "metadata": {},
   "outputs": [],
   "source": [
    "# Due to a bug in autoemulate plotting, we must swap ST and S1 rows.\n",
    "\n",
    "# Get the indices of rows where index == 'ST'\n",
    "mask_st = sobol_df['index'] == 'ST'\n",
    "mask_s1 = sobol_df['index'] == 'S1'\n",
    "\n",
    "# For those rows, change the index to be 'S1'\n",
    "sobol_df.loc[mask_st, 'index'] = 'S1'\n",
    "\n",
    "# For those rows, change the index to be 'ST'\n",
    "sobol_df.loc[mask_s1, 'index'] = 'ST'"
   ]
  },
  {
   "cell_type": "code",
   "execution_count": 83,
   "id": "110dbd05",
   "metadata": {},
   "outputs": [
    {
     "data": {
      "image/png": "[encoded data removed]",
      "text/plain": [
       "<Figure size 900x500 with 1 Axes>"
      ]
     },
     "execution_count": 83,
     "metadata": {},
     "output_type": "execute_result"
    }
   ],
   "source": [
    "sa.plot_sobol(sobol_df, index=\"ST\", figsize=figsize) "
   ]
  },
  {
   "cell_type": "code",
   "execution_count": 84,
   "id": "4a6d7ece",
   "metadata": {},
   "outputs": [
    {
     "data": {
      "image/png": "[encoded data removed]",
      "text/plain": [
       "<Figure size 900x500 with 1 Axes>"
      ]
     },
     "execution_count": 84,
     "metadata": {},
     "output_type": "execute_result"
    }
   ],
   "source": [
    "sa.plot_sobol(sobol_df, index=\"S1\", figsize=figsize) "
   ]
  },
  {
   "cell_type": "code",
   "execution_count": 85,
   "id": "f883632e",
   "metadata": {},
   "outputs": [
    {
     "name": "stdout",
     "output_type": "stream",
     "text": [
      "S1 plot saved to: ../outputs/simulations/output_2048_samples_parameters_naghavi_constrained_fixed_T_v_tot_v_ref_lower_k_pas_high_ao_r/plots/p_ao_max_2048_samples\n",
      "ST plot saved to: ../outputs/simulations/output_2048_samples_parameters_naghavi_constrained_fixed_T_v_tot_v_ref_lower_k_pas_high_ao_r/plots/p_ao_max_2048_samples\n"
     ]
    }
   ],
   "source": [
    "# Create directories for saving plots if they don't exist\n",
    "plots_dir = os.path.join(simulation_out_path, 'plots', f'{output_to_emulate}_{n_samples}_samples')\n",
    "os.makedirs(plots_dir, exist_ok=True)\n",
    "\n",
    "figsize = (9, 5)\n",
    "\n",
    "# Plot and save S1\n",
    "fig_S1 = SensitivityAnalysis.plot_sobol(sobol_df, index=\"S1\", figsize=figsize)\n",
    "if fig_S1 is None:\n",
    "    # If the function does not return a fig, get the current figure instead\n",
    "    fig_S1 = plt.gcf()\n",
    "fig_S1.savefig(os.path.join(plots_dir, f'S1_{output_to_emulate}_{n_samples}_samples.png'), \n",
    "               dpi=300, bbox_inches='tight')\n",
    "fig_S1.savefig(os.path.join(plots_dir, f'S1_{output_to_emulate}_{n_samples}_samples.pdf'), \n",
    "               bbox_inches='tight')\n",
    "plt.close(fig_S1)  # Close the figure to free memory\n",
    "\n",
    "print(f\"S1 plot saved to: {plots_dir}\")\n",
    "\n",
    "# Plot and save ST\n",
    "fig_ST = SensitivityAnalysis.plot_sobol(sobol_df, index=\"ST\", figsize=figsize)\n",
    "if fig_ST is None:\n",
    "    fig_ST = plt.gcf()\n",
    "fig_ST.savefig(os.path.join(plots_dir, f'ST_{output_to_emulate}_{n_samples}_samples.png'), \n",
    "               dpi=300, bbox_inches='tight')\n",
    "fig_ST.savefig(os.path.join(plots_dir, f'ST_{output_to_emulate}_{n_samples}_samples.pdf'), \n",
    "               bbox_inches='tight')\n",
    "plt.close(fig_ST)\n",
    "\n",
    "print(f\"ST plot saved to: {plots_dir}\")"
   ]
  }
 ],
 "metadata": {
  "kernelspec": {
   "display_name": "venv",
   "language": "python",
   "name": "python3"
  },
  "language_info": {
   "codemirror_mode": {
    "name": "ipython",
    "version": 3
   },
   "file_extension": ".py",
   "mimetype": "text/x-python",
   "name": "python",
   "nbconvert_exporter": "python",
   "pygments_lexer": "ipython3",
   "version": "3.12.11"
  }
 },
 "nbformat": 4,
 "nbformat_minor": 5
}
