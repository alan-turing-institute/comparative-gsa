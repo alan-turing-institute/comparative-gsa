{
 "cells": [
  {
   "cell_type": "code",
   "execution_count": null,
   "id": "12dbd550",
   "metadata": {},
   "outputs": [],
   "source": [
    "# Import relevant libraries\n",
    "import os\n",
    "import pandas as pd\n",
    "\n",
    "from ModularCirc.Models.NaghaviModel import NaghaviModel, NaghaviModelParameters, TEMPLATE_TIME_SETUP_DICT\n",
    "\n",
    "import numpy as np\n",
    "\n",
    "from SALib.sample import saltelli\n",
    "\n",
    "from comparative_gsa.sample_input_space import sample_input_space\n",
    "\n",
    "import json\n",
    "\n",
    "from ModularCirc import BatchRunner\n",
    "\n",
    "from comparative_gsa.simulate_data import simulate_data\n",
    "from comparative_gsa.calculate_output_features import calculate_output_features\n",
    "\n",
    "from SALib.analyze.sobol import analyze"
   ]
  },
  {
   "cell_type": "code",
   "execution_count": null,
   "id": "c720b988",
   "metadata": {},
   "outputs": [],
   "source": [
    "param_path = '../inputs/parameters_naghavi_constrained_fixed_T_v_tot.json'\n",
    "# Get the filename from the path, without extension\n",
    "param_filename = os.path.splitext(os.path.basename(param_path))[0]\n",
    "\n",
    "n_samples = 10**7"
   ]
  },
  {
   "cell_type": "code",
   "execution_count": null,
   "id": "31075319",
   "metadata": {},
   "outputs": [],
   "source": [
    "# Set up the batch runner\n",
    "\n",
    "## read in save parameters to the folder where simulations r saved.\n",
    "with open(param_path, 'r') as f:\n",
    "    params = json.load(f)\n",
    "\n",
    "# Set up the batch runner\n",
    "br = BatchRunner('Sobol', 0) # why are we using 'Sobol' here?\n",
    "br.setup_sampler(param_path)\n",
    "br.sample(n_samples)"
   ]
  },
  {
   "cell_type": "code",
   "execution_count": null,
   "id": "30eaa304",
   "metadata": {},
   "outputs": [],
   "source": [
    "br.samples"
   ]
  },
  {
   "cell_type": "code",
   "execution_count": null,
   "id": "3f403847",
   "metadata": {},
   "outputs": [],
   "source": [
    "br._parameters_2_sample"
   ]
  },
  {
   "cell_type": "code",
   "execution_count": null,
   "id": "298c33c0",
   "metadata": {},
   "outputs": [],
   "source": [
    "# Now, generate samples for sensitivity analysis by taking the keys of _parameters_2_sample and turning into a list\n",
    "relevant_columns = list(br._parameters_2_sample.keys())\n",
    "relevant_columns"
   ]
  },
  {
   "cell_type": "code",
   "execution_count": null,
   "id": "cd2a8982",
   "metadata": {},
   "outputs": [],
   "source": [
    "problem = {\n",
    "    'num_vars': len(relevant_columns),\n",
    "    'names': relevant_columns,\n",
    "    'bounds' : br.samples[relevant_columns].describe().loc[['min', 'max']].T.values\n",
    "}"
   ]
  },
  {
   "cell_type": "code",
   "execution_count": null,
   "id": "e4448443",
   "metadata": {},
   "outputs": [],
   "source": [
    "param_values = saltelli.sample(problem, 1024\n",
    ", calc_second_order=True)\n",
    "param_values.shape"
   ]
  },
  {
   "cell_type": "code",
   "execution_count": null,
   "id": "3e8c870c",
   "metadata": {},
   "outputs": [],
   "source": [
    "param_values"
   ]
  },
  {
   "cell_type": "code",
   "execution_count": null,
   "id": "761c19f9",
   "metadata": {},
   "outputs": [],
   "source": [
    "param_values = pd.DataFrame(param_values) \n",
    "\n",
    "param_values.columns = relevant_columns\n",
    "\n",
    "param_values"
   ]
  },
  {
   "cell_type": "code",
   "execution_count": null,
   "id": "55e238c6",
   "metadata": {},
   "outputs": [],
   "source": [
    "br._samples"
   ]
  },
  {
   "cell_type": "code",
   "execution_count": null,
   "id": "d54694f8",
   "metadata": {},
   "outputs": [],
   "source": [
    "# How many rows are in param_values\n",
    "param_values.shape[0]\n",
    "\n",
    "# Truncate br.samples to be only the first n_samples rows\n",
    "br._samples = br._samples.iloc[:param_values.shape[0]].copy()"
   ]
  },
  {
   "cell_type": "code",
   "execution_count": null,
   "id": "b84eaf95",
   "metadata": {},
   "outputs": [],
   "source": [
    "br.samples"
   ]
  },
  {
   "cell_type": "code",
   "execution_count": null,
   "id": "d5d9ade4",
   "metadata": {},
   "outputs": [],
   "source": [
    "n_samples = param_values.shape[0]\n",
    "\n",
    "simulation_out_path = f'../outputs/simulations/output_{n_samples}_samples_{param_filename}/'\n",
    "\n",
    "# Make this directory if it doesn't exist\n",
    "os.makedirs(simulation_out_path, exist_ok=True)"
   ]
  },
  {
   "cell_type": "code",
   "execution_count": null,
   "id": "deb7b58c",
   "metadata": {},
   "outputs": [],
   "source": [
    "# Now finish setting up the batch runner\n",
    "map_ = {\n",
    "    'lv.t_tr' : ['lv.t_tr',],\n",
    "    'la.t_tr' : ['la.t_tr',],\n",
    "    'la.delay' : ['la.delay',],\n",
    "    'lv.tau' : ['lv.tau',],\n",
    "    'la.tau' : ['la.tau',],\n",
    "    'lv.t_max' : ['lv.t_max',],\n",
    "    'la.t_max' : ['la.t_max',],\n",
    "}\n",
    "\n",
    "# Map the sample timings\n",
    "br.map_sample_timings(\n",
    "    ref_time=1000., # double check if 1000 or 1\n",
    "    map=map_\n",
    "    )"
   ]
  },
  {
   "cell_type": "code",
   "execution_count": null,
   "id": "14796082",
   "metadata": {},
   "outputs": [],
   "source": [
    "# Map the vessel volumes\n",
    "br.map_vessel_volume()\n",
    "\n",
    "\n",
    "# Save the samples to a CSV file\n",
    "br.samples.to_csv(os.path.join(simulation_out_path,\n",
    "                                f'input_samples_{n_samples}.csv'),\n",
    "                                index=False)\n",
    "\n",
    "# Set up the model with the parameters and time setup\n",
    "br.setup_model(model=NaghaviModel, po=NaghaviModelParameters,\n",
    "                time_setup=TEMPLATE_TIME_SETUP_DICT)"
   ]
  },
  {
   "cell_type": "code",
   "execution_count": null,
   "id": "38621991",
   "metadata": {},
   "outputs": [],
   "source": [
    "simulations, bool_indices = simulate_data(\n",
    "    batch_runner=br,\n",
    "    simulation_out_path=simulation_out_path\n",
    ")"
   ]
  },
  {
   "cell_type": "code",
   "execution_count": null,
   "id": "46855877",
   "metadata": {},
   "outputs": [],
   "source": [
    "summary_df = calculate_output_features(\n",
    "        simulations=simulations,\n",
    "        simulation_out_path=simulation_out_path)"
   ]
  },
  {
   "cell_type": "code",
   "execution_count": null,
   "id": "721f765b",
   "metadata": {},
   "outputs": [],
   "source": [
    "# Load input_34816_samples.csv\n",
    "input_csv = os.path.join(simulation_out_path, \"input_samples_34816.csv\")\n",
    "X = pd.read_csv(input_csv)\n",
    "print(\"Loaded input samples:\", X.shape)\n",
    "\n",
    "# Load simulation_summary.csv\n",
    "summary_csv = os.path.join(simulation_out_path, \"simulations_summary.csv\")\n",
    "Y = pd.read_csv(summary_csv)\n",
    "print(\"Loaded simulation summary:\", Y.shape)"
   ]
  },
  {
   "cell_type": "code",
   "execution_count": null,
   "id": "f84be489",
   "metadata": {},
   "outputs": [],
   "source": [
    "output_feature = \"p_ao_max\"  # Change to any column name in Y\n",
    "Y_feature = Y[output_feature].values  # .values converts to numpy array.\n",
    "Y_feature.shape"
   ]
  },
  {
   "cell_type": "code",
   "execution_count": null,
   "id": "cac726aa",
   "metadata": {},
   "outputs": [],
   "source": [
    "# Do the sobol_analyse for GSA\n",
    "sobol_indices = analyze(problem, Y_feature, calc_second_order=True)"
   ]
  },
  {
   "cell_type": "code",
   "execution_count": null,
   "id": "46977488",
   "metadata": {},
   "outputs": [],
   "source": [
    "# S1, ST and ST cumulative sum is being calculated and the results are saved to file.\n",
    "# Create results directory\n",
    "results_dir = os.path.join(simulation_out_path, 'sensitivity_results')\n",
    "os.makedirs(results_dir, exist_ok=True)\n",
    "\n",
    "# Save S1 results\n",
    "S1 = pd.DataFrame(sobol_indices['S1'], index=problem['names'], columns=['S1'])\n",
    "S1.sort_values('S1', inplace=True, ascending=False)\n",
    "S1.to_csv(os.path.join(results_dir, f's1_{n_samples}.csv'))\n",
    "\n",
    "# Save ST results  \n",
    "ST = pd.DataFrame(sobol_indices['ST'], index=problem['names'], columns=['ST'])\n",
    "ST.sort_values('ST', inplace=True, ascending=False)\n",
    "ST.to_csv(os.path.join(results_dir, f'st_{n_samples}.csv'))\n",
    "\n",
    "# Save ST cumulative sum\n",
    "ST_cumsum = ST.cumsum() / ST.cumsum().iloc[-1]\n",
    "ST_cumsum.to_csv(os.path.join(results_dir, f'st_cumsum_{n_samples}.csv'))\n",
    "\n",
    "# Save S2 results (second-order interactions)\n",
    "S2 = pd.DataFrame(sobol_indices['S2'], index=problem['names'], columns=problem['names'])\n",
    "S2.to_csv(os.path.join(results_dir, f's2_{n_samples}.csv'))\n",
    "S1"
   ]
  },
  {
   "cell_type": "code",
   "execution_count": null,
   "id": "d9567c71",
   "metadata": {},
   "outputs": [],
   "source": [
    "import matplotlib.pyplot as plt\n",
    "\n",
    "# Use the already sorted ST DataFrame\n",
    "labels = ST.index\n",
    "sizes = ST['ST']\n",
    "\n",
    "plt.figure(figsize=(10, 8))\n",
    "plt.pie(sizes, labels=labels, autopct='%1.1f%%', startangle=90)\n",
    "plt.title(f'Sobol Sensitivity Analysis Results - {output_feature}')\n",
    "plt.show()\n",
    "\n",
    "# Print summary\n",
    "print(f\"Top 3 most sensitive parameters:\")\n",
    "for i in range(min(3, len(ST))):\n",
    "    print(f\"  {i+1}. {ST.index[i]}: {ST['ST'].iloc[i]:.3f}\")"
   ]
  }
 ],
 "metadata": {
  "kernelspec": {
   "display_name": "venv",
   "language": "python",
   "name": "python3"
  },
  "language_info": {
   "codemirror_mode": {
    "name": "ipython",
    "version": 3
   },
   "file_extension": ".py",
   "mimetype": "text/x-python",
   "name": "python",
   "nbconvert_exporter": "python",
   "pygments_lexer": "ipython3",
   "version": "3.12.11"
  }
 },
 "nbformat": 4,
 "nbformat_minor": 5
}
