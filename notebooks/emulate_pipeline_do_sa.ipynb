{
 "cells": [
  {
   "cell_type": "code",
   "execution_count": 58,
   "id": "a9919ffe",
   "metadata": {},
   "outputs": [],
   "source": [
    "import os\n",
    "import pandas as pd\n",
    "from autoemulate.core.compare import AutoEmulate\n",
    "from autoemulate.core.sensitivity_analysis import SensitivityAnalysis\n",
    "from ModularCirc import BatchRunner\n",
    "import torch\n",
    "from autoemulate.core.save import ModelSerialiser\n",
    "from autoemulate.core.logging_config import get_configured_logger\n",
    "import matplotlib.pyplot as plt\n",
    "\n",
    "from comparative_gsa.utils import helpers\n",
    "figsize = (9, 5)"
   ]
  },
  {
   "cell_type": "code",
   "execution_count": 59,
   "id": "e7637a4e",
   "metadata": {},
   "outputs": [],
   "source": [
    "param_filename = 'parameters_naghavi_constrained_fixed_T_v_tot_v_ref_lower_k_pas'\n",
    "\n",
    "n_samples = 2048\n",
    "\n",
    "simulation_out_path = f'../outputs/simulations/output_{n_samples}_samples_{param_filename}/'\n",
    "\n",
    "parameters_json_file = os.path.join(simulation_out_path, 'parameters.json')\n",
    "\n",
    "# Load the simulation input parameters\n",
    "input_params = pd.read_csv(os.path.join(simulation_out_path, f'input_samples_{n_samples}.csv'))\n",
    "\n",
    "# Load the summary statistics\n",
    "summary_stats = pd.read_csv(os.path.join(simulation_out_path, f'simulations_summary.csv'))\n",
    "\n",
    "output_to_emulate = 'p_la_max'\n",
    "\n",
    "emulators_path = os.path.join(simulation_out_path, 'emulators', output_to_emulate)"
   ]
  },
  {
   "cell_type": "code",
   "execution_count": 60,
   "id": "6d01b70f",
   "metadata": {},
   "outputs": [
    {
     "data": {
      "text/plain": [
       "{'ao.r': (195.0, 325.0),\n",
       " 'ao.c': (0.22499999999999998, 0.375),\n",
       " 'art.r': (843.75, 1406.25),\n",
       " 'art.c': (2.25, 3.75),\n",
       " 'ven.r': (6.75, 11.25),\n",
       " 'ven.c': (84.975, 141.625),\n",
       " 'av.r': (4.5, 7.5),\n",
       " 'mv.r': (3.0749999999999997, 5.125),\n",
       " 'la.E_pas': (0.22499999999999998, 0.375),\n",
       " 'la.E_act': (0.41250000000000003, 0.6875),\n",
       " 'la.k_pas': (0.00666, 0.03),\n",
       " 'lv.E_pas': (0.75, 1.25),\n",
       " 'lv.E_act': (2.25, 3.75),\n",
       " 'lv.k_pas': (0.00666, 0.03)}"
      ]
     },
     "execution_count": 60,
     "metadata": {},
     "output_type": "execute_result"
    }
   ],
   "source": [
    "# Use ModularCirc's BatchRunner to condense parameter names. This requires setting up the sampler first.\n",
    "br = BatchRunner()\n",
    "\n",
    "br.setup_sampler(parameters_json_file)\n",
    "\n",
    "br._parameters_2_sample"
   ]
  },
  {
   "cell_type": "code",
   "execution_count": 61,
   "id": "e4793cd3",
   "metadata": {},
   "outputs": [],
   "source": [
    "# Get column names for parameters up to 'lv.k_pas'\n",
    "parameter_names = list(input_params.columns[:input_params.columns.get_loc('lv.k_pas') + 1])"
   ]
  },
  {
   "cell_type": "code",
   "execution_count": 62,
   "id": "d2b9f90e",
   "metadata": {},
   "outputs": [
    {
     "data": {
      "text/plain": [
       "[(195.0, 325.0),\n",
       " (0.22499999999999998, 0.375),\n",
       " (843.75, 1406.25),\n",
       " (2.25, 3.75),\n",
       " (6.75, 11.25),\n",
       " (84.975, 141.625),\n",
       " (4.5, 7.5),\n",
       " (3.0749999999999997, 5.125),\n",
       " (0.22499999999999998, 0.375),\n",
       " (0.41250000000000003, 0.6875),\n",
       " (0.00666, 0.03),\n",
       " (0.75, 1.25),\n",
       " (2.25, 3.75),\n",
       " (0.00666, 0.03)]"
      ]
     },
     "execution_count": 62,
     "metadata": {},
     "output_type": "execute_result"
    }
   ],
   "source": [
    "# Extract parameter names and bounds from the dictionary\n",
    "parameters_range = br._parameters_2_sample\n",
    "\n",
    "parameter_names = list(parameters_range.keys())\n",
    "parameter_bounds = list(parameters_range.values())\n",
    "\n",
    "parameter_bounds"
   ]
  },
  {
   "cell_type": "code",
   "execution_count": 63,
   "id": "ac334029",
   "metadata": {},
   "outputs": [],
   "source": [
    "problem = {\n",
    "    'num_vars': len(parameter_names),\n",
    "    'names': parameter_names,\n",
    "    'bounds': parameter_bounds,\n",
    "}\n",
    "ae_results = helpers.ae_load_result(os.path.join(emulators_path, 'GaussianProcess_0_20250820_142946'))\n",
    "sa = SensitivityAnalysis(ae_results.model, problem=problem)"
   ]
  },
  {
   "cell_type": "code",
   "execution_count": 64,
   "id": "05770221",
   "metadata": {},
   "outputs": [
    {
     "name": "stderr",
     "output_type": "stream",
     "text": [
      "/Users/syonis/project/comparative-gsa/venv/lib/python3.12/site-packages/SALib/util/__init__.py:274: FutureWarning: unique with argument that is not not a Series, Index, ExtensionArray, or np.ndarray is deprecated and will raise in a future version.\n",
      "  names = list(pd.unique(groups))\n"
     ]
    },
    {
     "data": {
      "application/vnd.microsoft.datawrangler.viewer.v0+json": {
       "columns": [
        {
         "name": "index",
         "rawType": "int64",
         "type": "integer"
        },
        {
         "name": "output",
         "rawType": "object",
         "type": "string"
        },
        {
         "name": "parameter",
         "rawType": "object",
         "type": "unknown"
        },
        {
         "name": "index",
         "rawType": "object",
         "type": "string"
        },
        {
         "name": "value",
         "rawType": "float64",
         "type": "float"
        },
        {
         "name": "confidence",
         "rawType": "float64",
         "type": "float"
        }
       ],
       "ref": "ed3fe17d-927c-4b15-b9e7-e6e43f69acff",
       "rows": [
        [
         "0",
         "y1",
         "ao.r",
         "S1",
         "0.0006762013567130523",
         "5.439227075197493e-05"
        ],
        [
         "1",
         "y1",
         "ao.c",
         "S1",
         "0.0008037173149962546",
         "5.6417468483061066e-05"
        ],
        [
         "2",
         "y1",
         "art.r",
         "S1",
         "0.0059654446969002965",
         "0.00039755064820967635"
        ],
        [
         "3",
         "y1",
         "art.c",
         "S1",
         "0.011778619293727647",
         "0.0008925174629256537"
        ],
        [
         "4",
         "y1",
         "ven.r",
         "S1",
         "0.008764421190458614",
         "0.0006845617176887904"
        ],
        [
         "5",
         "y1",
         "ven.c",
         "S1",
         "0.049322216470910576",
         "0.0031146919519829557"
        ],
        [
         "6",
         "y1",
         "av.r",
         "S1",
         "1.1023940310959138e-05",
         "1.3647801008945569e-06"
        ],
        [
         "7",
         "y1",
         "mv.r",
         "S1",
         "0.002595684181880276",
         "0.0002614336414088874"
        ],
        [
         "8",
         "y1",
         "la.E_pas",
         "S1",
         "0.006778002071153285",
         "0.0003827794061701677"
        ],
        [
         "9",
         "y1",
         "la.E_act",
         "S1",
         "0.013100149353002757",
         "0.000977935874069167"
        ],
        [
         "10",
         "y1",
         "la.k_pas",
         "S1",
         "0.5526537741241035",
         "0.026344583926280918"
        ],
        [
         "11",
         "y1",
         "lv.E_pas",
         "S1",
         "0.004431139380097583",
         "0.00032406603398113976"
        ],
        [
         "12",
         "y1",
         "lv.E_act",
         "S1",
         "0.007632766130502915",
         "0.000539416386104215"
        ],
        [
         "13",
         "y1",
         "lv.k_pas",
         "S1",
         "0.41161259624635904",
         "0.024973881972661895"
        ],
        [
         "0",
         "y1",
         "ao.r",
         "ST",
         "0.00032341585574310904",
         "0.0010905140545385012"
        ],
        [
         "1",
         "y1",
         "ao.c",
         "ST",
         "0.0004341279564248295",
         "0.001130646113617731"
        ],
        [
         "2",
         "y1",
         "art.r",
         "ST",
         "0.005088851683038932",
         "0.0032399224500872428"
        ],
        [
         "3",
         "y1",
         "art.c",
         "ST",
         "0.009769120378436304",
         "0.004270960078588543"
        ],
        [
         "4",
         "y1",
         "ven.r",
         "ST",
         "0.004580824706950877",
         "0.00460441667572429"
        ],
        [
         "5",
         "y1",
         "ven.c",
         "ST",
         "0.03833101708464316",
         "0.008515573744587973"
        ],
        [
         "6",
         "y1",
         "av.r",
         "ST",
         "-0.00026505481900935765",
         "0.00014870917129020667"
        ],
        [
         "7",
         "y1",
         "mv.r",
         "ST",
         "0.0006883815446462071",
         "0.00241370583310191"
        ],
        [
         "8",
         "y1",
         "la.E_pas",
         "ST",
         "0.005886647514436074",
         "0.0032732316755272276"
        ],
        [
         "9",
         "y1",
         "la.E_act",
         "ST",
         "0.010034615416919641",
         "0.004035279262902057"
        ],
        [
         "10",
         "y1",
         "la.k_pas",
         "ST",
         "0.491139931132104",
         "0.034304832032790965"
        ],
        [
         "11",
         "y1",
         "lv.E_pas",
         "ST",
         "0.001539997481685986",
         "0.00271448245029514"
        ],
        [
         "12",
         "y1",
         "lv.E_act",
         "ST",
         "0.005803464278756254",
         "0.0037106706900880827"
        ],
        [
         "13",
         "y1",
         "lv.k_pas",
         "ST",
         "0.34998470203468607",
         "0.027840810806847957"
        ],
        [
         "0",
         "y1",
         "('ao.r', 'ao.c')",
         "S2",
         "-3.0522998507270956e-05",
         "0.0014596350016513116"
        ],
        [
         "1",
         "y1",
         "('ao.r', 'art.r')",
         "S2",
         "-2.8953406863925328e-05",
         "0.0014668012310168489"
        ],
        [
         "2",
         "y1",
         "('ao.r', 'art.c')",
         "S2",
         "-3.667362193240757e-05",
         "0.0014365182727218528"
        ],
        [
         "3",
         "y1",
         "('ao.r', 'ven.r')",
         "S2",
         "2.808784072407672e-06",
         "0.0014767426450896961"
        ],
        [
         "4",
         "y1",
         "('ao.r', 'ven.c')",
         "S2",
         "1.8282541069232494e-05",
         "0.0015269315690358296"
        ],
        [
         "5",
         "y1",
         "('ao.r', 'av.r')",
         "S2",
         "-4.51452915364017e-05",
         "0.0014640862227629087"
        ],
        [
         "6",
         "y1",
         "('ao.r', 'mv.r')",
         "S2",
         "-2.8827552443362906e-05",
         "0.0014512722779156679"
        ],
        [
         "7",
         "y1",
         "('ao.r', 'la.E_pas')",
         "S2",
         "-3.117764506785706e-05",
         "0.0014520980248879907"
        ],
        [
         "8",
         "y1",
         "('ao.r', 'la.E_act')",
         "S2",
         "-1.3784918961192924e-05",
         "0.0014757023073089725"
        ],
        [
         "9",
         "y1",
         "('ao.r', 'la.k_pas')",
         "S2",
         "0.0002450281739786453",
         "0.002362377149530369"
        ],
        [
         "10",
         "y1",
         "('ao.r', 'lv.E_pas')",
         "S2",
         "-3.054022285354824e-05",
         "0.001453370877878637"
        ],
        [
         "11",
         "y1",
         "('ao.r', 'lv.E_act')",
         "S2",
         "-1.0065374370718527e-05",
         "0.0014627531456952937"
        ],
        [
         "12",
         "y1",
         "('ao.r', 'lv.k_pas')",
         "S2",
         "0.00015300091481335043",
         "0.0018386037498209682"
        ],
        [
         "13",
         "y1",
         "('ao.c', 'art.r')",
         "S2",
         "0.00011387356110588356",
         "0.001747266471592403"
        ],
        [
         "14",
         "y1",
         "('ao.c', 'art.c')",
         "S2",
         "0.00011545451925313102",
         "0.0017325821736551823"
        ],
        [
         "15",
         "y1",
         "('ao.c', 'ven.r')",
         "S2",
         "9.079329162842067e-05",
         "0.0017711242412821074"
        ],
        [
         "16",
         "y1",
         "('ao.c', 'ven.c')",
         "S2",
         "0.00020576744646359085",
         "0.0017577596541052947"
        ],
        [
         "17",
         "y1",
         "('ao.c', 'av.r')",
         "S2",
         "9.512052620498613e-05",
         "0.001748994717018301"
        ],
        [
         "18",
         "y1",
         "('ao.c', 'mv.r')",
         "S2",
         "0.00010779982399336844",
         "0.0017504648390577497"
        ],
        [
         "19",
         "y1",
         "('ao.c', 'la.E_pas')",
         "S2",
         "8.92248292034192e-05",
         "0.0017363373562617054"
        ],
        [
         "20",
         "y1",
         "('ao.c', 'la.E_act')",
         "S2",
         "0.0001044430518972704",
         "0.001739322076787829"
        ],
        [
         "21",
         "y1",
         "('ao.c', 'la.k_pas')",
         "S2",
         "0.00015649394532363248",
         "0.0025029616322995163"
        ]
       ],
       "shape": {
        "columns": 5,
        "rows": 119
       }
      },
      "text/html": [
       "<div>\n",
       "<style scoped>\n",
       "    .dataframe tbody tr th:only-of-type {\n",
       "        vertical-align: middle;\n",
       "    }\n",
       "\n",
       "    .dataframe tbody tr th {\n",
       "        vertical-align: top;\n",
       "    }\n",
       "\n",
       "    .dataframe thead th {\n",
       "        text-align: right;\n",
       "    }\n",
       "</style>\n",
       "<table border=\"1\" class=\"dataframe\">\n",
       "  <thead>\n",
       "    <tr style=\"text-align: right;\">\n",
       "      <th></th>\n",
       "      <th>output</th>\n",
       "      <th>parameter</th>\n",
       "      <th>index</th>\n",
       "      <th>value</th>\n",
       "      <th>confidence</th>\n",
       "    </tr>\n",
       "  </thead>\n",
       "  <tbody>\n",
       "    <tr>\n",
       "      <th>0</th>\n",
       "      <td>y1</td>\n",
       "      <td>ao.r</td>\n",
       "      <td>S1</td>\n",
       "      <td>0.000676</td>\n",
       "      <td>0.000054</td>\n",
       "    </tr>\n",
       "    <tr>\n",
       "      <th>1</th>\n",
       "      <td>y1</td>\n",
       "      <td>ao.c</td>\n",
       "      <td>S1</td>\n",
       "      <td>0.000804</td>\n",
       "      <td>0.000056</td>\n",
       "    </tr>\n",
       "    <tr>\n",
       "      <th>2</th>\n",
       "      <td>y1</td>\n",
       "      <td>art.r</td>\n",
       "      <td>S1</td>\n",
       "      <td>0.005965</td>\n",
       "      <td>0.000398</td>\n",
       "    </tr>\n",
       "    <tr>\n",
       "      <th>3</th>\n",
       "      <td>y1</td>\n",
       "      <td>art.c</td>\n",
       "      <td>S1</td>\n",
       "      <td>0.011779</td>\n",
       "      <td>0.000893</td>\n",
       "    </tr>\n",
       "    <tr>\n",
       "      <th>4</th>\n",
       "      <td>y1</td>\n",
       "      <td>ven.r</td>\n",
       "      <td>S1</td>\n",
       "      <td>0.008764</td>\n",
       "      <td>0.000685</td>\n",
       "    </tr>\n",
       "    <tr>\n",
       "      <th>...</th>\n",
       "      <td>...</td>\n",
       "      <td>...</td>\n",
       "      <td>...</td>\n",
       "      <td>...</td>\n",
       "      <td>...</td>\n",
       "    </tr>\n",
       "    <tr>\n",
       "      <th>86</th>\n",
       "      <td>y1</td>\n",
       "      <td>(la.k_pas, lv.E_act)</td>\n",
       "      <td>S2</td>\n",
       "      <td>0.003422</td>\n",
       "      <td>0.052224</td>\n",
       "    </tr>\n",
       "    <tr>\n",
       "      <th>87</th>\n",
       "      <td>y1</td>\n",
       "      <td>(la.k_pas, lv.k_pas)</td>\n",
       "      <td>S2</td>\n",
       "      <td>0.051248</td>\n",
       "      <td>0.063014</td>\n",
       "    </tr>\n",
       "    <tr>\n",
       "      <th>88</th>\n",
       "      <td>y1</td>\n",
       "      <td>(lv.E_pas, lv.E_act)</td>\n",
       "      <td>S2</td>\n",
       "      <td>0.004981</td>\n",
       "      <td>0.004422</td>\n",
       "    </tr>\n",
       "    <tr>\n",
       "      <th>89</th>\n",
       "      <td>y1</td>\n",
       "      <td>(lv.E_pas, lv.k_pas)</td>\n",
       "      <td>S2</td>\n",
       "      <td>0.005275</td>\n",
       "      <td>0.004483</td>\n",
       "    </tr>\n",
       "    <tr>\n",
       "      <th>90</th>\n",
       "      <td>y1</td>\n",
       "      <td>(lv.E_act, lv.k_pas)</td>\n",
       "      <td>S2</td>\n",
       "      <td>-0.000617</td>\n",
       "      <td>0.006416</td>\n",
       "    </tr>\n",
       "  </tbody>\n",
       "</table>\n",
       "<p>119 rows × 5 columns</p>\n",
       "</div>"
      ],
      "text/plain": [
       "   output             parameter index     value  confidence\n",
       "0      y1                  ao.r    S1  0.000676    0.000054\n",
       "1      y1                  ao.c    S1  0.000804    0.000056\n",
       "2      y1                 art.r    S1  0.005965    0.000398\n",
       "3      y1                 art.c    S1  0.011779    0.000893\n",
       "4      y1                 ven.r    S1  0.008764    0.000685\n",
       "..    ...                   ...   ...       ...         ...\n",
       "86     y1  (la.k_pas, lv.E_act)    S2  0.003422    0.052224\n",
       "87     y1  (la.k_pas, lv.k_pas)    S2  0.051248    0.063014\n",
       "88     y1  (lv.E_pas, lv.E_act)    S2  0.004981    0.004422\n",
       "89     y1  (lv.E_pas, lv.k_pas)    S2  0.005275    0.004483\n",
       "90     y1  (lv.E_act, lv.k_pas)    S2 -0.000617    0.006416\n",
       "\n",
       "[119 rows x 5 columns]"
      ]
     },
     "execution_count": 64,
     "metadata": {},
     "output_type": "execute_result"
    }
   ],
   "source": [
    "sobol_df = sa.run(method=\"sobol\", n_samples=1024*2*2)\n",
    "sobol_df"
   ]
  },
  {
   "cell_type": "code",
   "execution_count": 65,
   "id": "534d7187",
   "metadata": {},
   "outputs": [],
   "source": [
    "# Due to a bug in autoemulate plotting, we must swap ST and S1 rows.\n",
    "\n",
    "# Get the indices of rows where index == 'ST'\n",
    "mask_st = sobol_df['index'] == 'ST'\n",
    "mask_s1 = sobol_df['index'] == 'S1'\n",
    "\n",
    "# For those rows, change the index to be 'S1'\n",
    "sobol_df.loc[mask_st, 'index'] = 'S1'\n",
    "\n",
    "# For those rows, change the index to be 'ST'\n",
    "sobol_df.loc[mask_s1, 'index'] = 'ST'"
   ]
  },
  {
   "cell_type": "code",
   "execution_count": 66,
   "id": "110dbd05",
   "metadata": {},
   "outputs": [
    {
     "data": {
      "image/png": "[encoded data removed]",
      "text/plain": [
       "<Figure size 900x500 with 1 Axes>"
      ]
     },
     "execution_count": 66,
     "metadata": {},
     "output_type": "execute_result"
    }
   ],
   "source": [
    "sa.plot_sobol(sobol_df, index=\"ST\", figsize=figsize) "
   ]
  },
  {
   "cell_type": "code",
   "execution_count": 67,
   "id": "4a6d7ece",
   "metadata": {},
   "outputs": [
    {
     "data": {
      "image/png": "[encoded data removed]",
      "text/plain": [
       "<Figure size 900x500 with 1 Axes>"
      ]
     },
     "execution_count": 67,
     "metadata": {},
     "output_type": "execute_result"
    }
   ],
   "source": [
    "sa.plot_sobol(sobol_df, index=\"S1\", figsize=figsize) "
   ]
  },
  {
   "cell_type": "code",
   "execution_count": 68,
   "id": "f883632e",
   "metadata": {},
   "outputs": [
    {
     "name": "stdout",
     "output_type": "stream",
     "text": [
      "S1 plot saved to: ../outputs/simulations/output_2048_samples_parameters_naghavi_constrained_fixed_T_v_tot_v_ref_lower_k_pas/plots/p_la_max_2048_samples\n",
      "ST plot saved to: ../outputs/simulations/output_2048_samples_parameters_naghavi_constrained_fixed_T_v_tot_v_ref_lower_k_pas/plots/p_la_max_2048_samples\n"
     ]
    }
   ],
   "source": [
    "# Create directories for saving plots if they don't exist\n",
    "plots_dir = os.path.join(simulation_out_path, 'plots', f'{output_to_emulate}_{n_samples}_samples')\n",
    "os.makedirs(plots_dir, exist_ok=True)\n",
    "\n",
    "figsize = (9, 5)\n",
    "\n",
    "# Plot and save S1\n",
    "fig_S1 = SensitivityAnalysis.plot_sobol(sobol_df, index=\"S1\", figsize=figsize)\n",
    "if fig_S1 is None:\n",
    "    # If the function does not return a fig, get the current figure instead\n",
    "    fig_S1 = plt.gcf()\n",
    "fig_S1.savefig(os.path.join(plots_dir, f'S1_{output_to_emulate}_{n_samples}_samples.png'), \n",
    "               dpi=300, bbox_inches='tight')\n",
    "fig_S1.savefig(os.path.join(plots_dir, f'S1_{output_to_emulate}_{n_samples}_samples.pdf'), \n",
    "               bbox_inches='tight')\n",
    "plt.close(fig_S1)  # Close the figure to free memory\n",
    "\n",
    "print(f\"S1 plot saved to: {plots_dir}\")\n",
    "\n",
    "# Plot and save ST\n",
    "fig_ST = SensitivityAnalysis.plot_sobol(sobol_df, index=\"ST\", figsize=figsize)\n",
    "if fig_ST is None:\n",
    "    fig_ST = plt.gcf()\n",
    "fig_ST.savefig(os.path.join(plots_dir, f'ST_{output_to_emulate}_{n_samples}_samples.png'), \n",
    "               dpi=300, bbox_inches='tight')\n",
    "fig_ST.savefig(os.path.join(plots_dir, f'ST_{output_to_emulate}_{n_samples}_samples.pdf'), \n",
    "               bbox_inches='tight')\n",
    "plt.close(fig_ST)\n",
    "\n",
    "print(f\"ST plot saved to: {plots_dir}\")"
   ]
  }
 ],
 "metadata": {
  "kernelspec": {
   "display_name": "venv",
   "language": "python",
   "name": "python3"
  },
  "language_info": {
   "codemirror_mode": {
    "name": "ipython",
    "version": 3
   },
   "file_extension": ".py",
   "mimetype": "text/x-python",
   "name": "python",
   "nbconvert_exporter": "python",
   "pygments_lexer": "ipython3",
   "version": "3.12.11"
  }
 },
 "nbformat": 4,
 "nbformat_minor": 5
}
