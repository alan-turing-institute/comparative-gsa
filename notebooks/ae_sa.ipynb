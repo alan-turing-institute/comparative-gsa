{
 "cells": [
  {
   "cell_type": "code",
   "execution_count": null,
   "id": "a9919ffe",
   "metadata": {},
   "outputs": [],
   "source": [
    "import os\n",
    "import pandas as pd\n",
    "from autoemulate.core.compare import AutoEmulate\n",
    "from autoemulate.core.sensitivity_analysis import SensitivityAnalysis\n",
    "from ModularCirc import BatchRunner\n",
    "import torch\n",
    "figsize = (9, 5)"
   ]
  },
  {
   "cell_type": "code",
   "execution_count": null,
   "id": "e7637a4e",
   "metadata": {},
   "outputs": [],
   "source": [
    "param_filename = 'parameters_naghavi_constrained_fixed_T_v_tot'\n",
    "\n",
    "n_samples = 256\n",
    "\n",
    "simulation_out_path = f'../outputs/simulations/output_{n_samples}_samples_{param_filename}/'\n",
    "\n",
    "parameters_json_file = os.path.join(simulation_out_path, 'parameters.json')\n",
    "\n",
    "# Load the simulation input parameters\n",
    "input_params = pd.read_csv(os.path.join(simulation_out_path, f'input_samples_{n_samples}.csv'))\n",
    "\n",
    "# Load the summary statistics\n",
    "summary_stats = pd.read_csv(os.path.join(simulation_out_path, f'simulations_summary.csv'))\n",
    "\n",
    "output_to_emulate = 'p_ao_mean'"
   ]
  },
  {
   "cell_type": "code",
   "execution_count": null,
   "id": "6d01b70f",
   "metadata": {},
   "outputs": [],
   "source": [
    "# Use ModularCirc's BatchRunner to condense parameter names. This requires setting up the sampler first.\n",
    "br = BatchRunner()\n",
    "\n",
    "br.setup_sampler(parameters_json_file)\n",
    "\n",
    "br._parameters_2_sample"
   ]
  },
  {
   "cell_type": "code",
   "execution_count": null,
   "id": "e4793cd3",
   "metadata": {},
   "outputs": [],
   "source": [
    "# Get column names for parameters up to 'lv.k_pas'\n",
    "parameter_names = list(input_params.columns[:input_params.columns.get_loc('lv.k_pas') + 1])\n",
    "\n",
    "input_params[parameter_names]"
   ]
  },
  {
   "cell_type": "code",
   "execution_count": null,
   "id": "39a28dc0",
   "metadata": {},
   "outputs": [],
   "source": [
    "Y = summary_stats[output_to_emulate].values"
   ]
  },
  {
   "cell_type": "code",
   "execution_count": null,
   "id": "50808d55",
   "metadata": {},
   "outputs": [],
   "source": [
    "# Turn x into a pytorch tensor\n",
    "x = torch.tensor(input_params[parameter_names].values, dtype=torch.float32)\n",
    "\n",
    "# Do the same with Y\n",
    "y = torch.tensor(Y, dtype=torch.float32)"
   ]
  },
  {
   "cell_type": "code",
   "execution_count": null,
   "id": "c78d3a7e",
   "metadata": {},
   "outputs": [],
   "source": [
    "print(x.shape, y.shape)"
   ]
  },
  {
   "cell_type": "code",
   "execution_count": null,
   "id": "b0ae186c",
   "metadata": {},
   "outputs": [],
   "source": [
    "ae = AutoEmulate(x = x,\n",
    "                 y = y,\n",
    "                 models=[\"GP\"])"
   ]
  },
  {
   "cell_type": "code",
   "execution_count": null,
   "id": "52ae5723",
   "metadata": {},
   "outputs": [],
   "source": [
    "best = ae.best_result()\n",
    "print(best.model_name)"
   ]
  },
  {
   "cell_type": "code",
   "execution_count": null,
   "id": "caaf6104",
   "metadata": {},
   "outputs": [],
   "source": [
    "br._parameters_2_sample"
   ]
  },
  {
   "cell_type": "code",
   "execution_count": null,
   "id": "d2b9f90e",
   "metadata": {},
   "outputs": [],
   "source": [
    "# Extract parameter names and bounds from the dictionary\n",
    "parameters_range = br._parameters_2_sample\n",
    "\n",
    "parameter_names = list(parameters_range.keys())\n",
    "parameter_bounds = list(parameters_range.values())"
   ]
  },
  {
   "cell_type": "code",
   "execution_count": null,
   "id": "ac334029",
   "metadata": {},
   "outputs": [],
   "source": [
    "problem = {\n",
    "    'num_vars': len(parameter_names),\n",
    "    'names': parameter_names,\n",
    "    'bounds': parameter_bounds,\n",
    "}\n",
    "sa = SensitivityAnalysis(best.model, problem=problem)"
   ]
  },
  {
   "cell_type": "code",
   "execution_count": null,
   "id": "05770221",
   "metadata": {},
   "outputs": [],
   "source": [
    "sobol_df = sa.run(\"sobol\")\n",
    "sobol_df"
   ]
  },
  {
   "cell_type": "code",
   "execution_count": null,
   "id": "110dbd05",
   "metadata": {},
   "outputs": [],
   "source": [
    "sa.plot_sobol(sobol_df, index=\"ST\", figsize=figsize) "
   ]
  }
 ],
 "metadata": {
  "kernelspec": {
   "display_name": "venv",
   "language": "python",
   "name": "python3"
  },
  "language_info": {
   "codemirror_mode": {
    "name": "ipython",
    "version": 3
   },
   "file_extension": ".py",
   "mimetype": "text/x-python",
   "name": "python",
   "nbconvert_exporter": "python",
   "pygments_lexer": "ipython3",
   "version": "3.12.11"
  }
 },
 "nbformat": 4,
 "nbformat_minor": 5
}
