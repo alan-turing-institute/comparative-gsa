{
 "cells": [
  {
   "cell_type": "markdown",
   "id": "85393bc6",
   "metadata": {},
   "source": [
    "Use this notebook to generate simulations to then use to train emulators on. "
   ]
  },
  {
   "cell_type": "code",
   "execution_count": 3,
   "id": "12dbd550",
   "metadata": {},
   "outputs": [],
   "source": [
    "# Import relevant libraries\n",
    "import os\n",
    "import pandas as pd\n",
    "\n",
    "from ModularCirc.Models.NaghaviModel import NaghaviModel, NaghaviModelParameters, TEMPLATE_TIME_SETUP_DICT\n",
    "\n",
    "import numpy as np\n",
    "\n",
    "from comparative_gsa.sample_input_space import sample_input_space\n",
    "from comparative_gsa.simulate_data import simulate_data\n",
    "from comparative_gsa.calculate_output_features import calculate_output_features"
   ]
  },
  {
   "cell_type": "code",
   "execution_count": 4,
   "id": "c720b988",
   "metadata": {},
   "outputs": [],
   "source": [
    "steps = {\n",
    "    1,\n",
    "    2,\n",
    "    3,\n",
    "}\n",
    "\n",
    "param_path = '../inputs/parameters_naghavi_constrained_fixed_T_v_tot_v_ref_lower_k_pas.json'\n",
    "# Get the filename from the path, without extension\n",
    "param_filename = os.path.splitext(os.path.basename(param_path))[0]\n",
    "\n",
    "n_samples = 2**4\n",
    "\n",
    "\n",
    "simulation_out_path = f'../outputs/simulations/output_{n_samples}_samples_{param_filename}/' \n",
    "#create folder if it does not exist\n",
    "os.makedirs(simulation_out_path, exist_ok=True)\n"
   ]
  },
  {
   "cell_type": "code",
   "execution_count": 5,
   "id": "72a18373",
   "metadata": {},
   "outputs": [],
   "source": [
    "if 1 in steps:\n",
    "\n",
    "    # Run sampling of the input space:\n",
    "    br, simulation_out_path = sample_input_space(\n",
    "        param_path=param_path,\n",
    "        n_samples=n_samples\n",
    "    )"
   ]
  },
  {
   "cell_type": "code",
   "execution_count": 6,
   "id": "6e7dbeba",
   "metadata": {},
   "outputs": [
    {
     "name": "stdout",
     "output_type": "stream",
     "text": [
      "Running batch simulation with 16 samples...\n"
     ]
    },
    {
     "name": "stderr",
     "output_type": "stream",
     "text": [
      "100%|██████████| 16/16 [00:00<00:00, 164.64it/s]\n"
     ]
    },
    {
     "name": "stdout",
     "output_type": "stream",
     "text": [
      "[]\n"
     ]
    }
   ],
   "source": [
    "if 2 in steps:\n",
    "\n",
    "    simulations, bool_indices = simulate_data(\n",
    "        batch_runner=br,\n",
    "        simulation_out_path=simulation_out_path\n",
    "    )"
   ]
  },
  {
   "cell_type": "code",
   "execution_count": 7,
   "id": "f325f681",
   "metadata": {},
   "outputs": [
    {
     "name": "stdout",
     "output_type": "stream",
     "text": [
      "Saved as simulation_summary.csv\n"
     ]
    }
   ],
   "source": [
    "if 3 in steps:\n",
    "\n",
    "    # Calculate output features\n",
    "    summary_df = calculate_output_features(\n",
    "        simulations=simulations,\n",
    "        simulation_out_path=simulation_out_path)"
   ]
  }
 ],
 "metadata": {
  "kernelspec": {
   "display_name": "venv",
   "language": "python",
   "name": "python3"
  },
  "language_info": {
   "codemirror_mode": {
    "name": "ipython",
    "version": 3
   },
   "file_extension": ".py",
   "mimetype": "text/x-python",
   "name": "python",
   "nbconvert_exporter": "python",
   "pygments_lexer": "ipython3",
   "version": "3.12.11"
  }
 },
 "nbformat": 4,
 "nbformat_minor": 5
}
