{
 "cells": [
  {
   "cell_type": "markdown",
   "id": "a9e81cb7",
   "metadata": {},
   "source": [
    "This notebook will do sensitivity analysis of emulations but without using autoemulate, just using SALib functions"
   ]
  },
  {
   "cell_type": "code",
   "execution_count": null,
   "id": "a9919ffe",
   "metadata": {},
   "outputs": [],
   "source": [
    "import os\n",
    "import pandas as pd\n",
    "from autoemulate.core.compare import AutoEmulate\n",
    "from autoemulate.core.sensitivity_analysis import SensitivityAnalysis\n",
    "from ModularCirc import BatchRunner\n",
    "import torch\n",
    "from autoemulate.core.save import ModelSerialiser\n",
    "from autoemulate.core.logging_config import get_configured_logger\n",
    "import matplotlib.pyplot as plt\n",
    "\n",
    "from SALib.analyze.sobol import analyze\n",
    "from SALib.sample import saltelli\n",
    "\n",
    "from comparative_gsa.utils import helpers\n",
    "figsize = (9, 5)"
   ]
  },
  {
   "cell_type": "code",
   "execution_count": null,
   "id": "e7637a4e",
   "metadata": {},
   "outputs": [],
   "source": [
    "param_filename = 'parameters_naghavi_constrained_fixed_T_v_tot_v_ref_lower_k_pas'\n",
    "\n",
    "n_samples = 2048\n",
    "\n",
    "simulation_out_path = f'../outputs/simulations/output_{n_samples}_samples_{param_filename}/'\n",
    "\n",
    "parameters_json_file = os.path.join(simulation_out_path, 'parameters.json')\n",
    "\n",
    "# Load the simulation input parameters\n",
    "input_params = pd.read_csv(os.path.join(simulation_out_path, f'input_samples_{n_samples}.csv'))\n",
    "\n",
    "# Load the summary statistics\n",
    "summary_stats = pd.read_csv(os.path.join(simulation_out_path, f'simulations_summary.csv'))\n",
    "\n",
    "output_to_emulate = 'p_la_max'\n",
    "\n",
    "emulators_path = os.path.join(simulation_out_path, 'emulators', output_to_emulate)"
   ]
  },
  {
   "cell_type": "code",
   "execution_count": null,
   "id": "6d01b70f",
   "metadata": {},
   "outputs": [],
   "source": [
    "# Use ModularCirc's BatchRunner to condense parameter names. This requires setting up the sampler first.\n",
    "br = BatchRunner()\n",
    "\n",
    "br.setup_sampler(parameters_json_file)\n",
    "\n",
    "br._parameters_2_sample"
   ]
  },
  {
   "cell_type": "code",
   "execution_count": null,
   "id": "e4793cd3",
   "metadata": {},
   "outputs": [],
   "source": [
    "# Get column names for parameters up to 'lv.k_pas'\n",
    "parameter_names = list(input_params.columns[:input_params.columns.get_loc('lv.k_pas') + 1])"
   ]
  },
  {
   "cell_type": "code",
   "execution_count": null,
   "id": "d2b9f90e",
   "metadata": {},
   "outputs": [],
   "source": [
    "# Extract parameter names and bounds from the dictionary\n",
    "parameters_range = br._parameters_2_sample\n",
    "\n",
    "parameter_names = list(parameters_range.keys())\n",
    "parameter_bounds = list(parameters_range.values())\n",
    "\n",
    "parameter_bounds"
   ]
  },
  {
   "cell_type": "code",
   "execution_count": null,
   "id": "23b77750",
   "metadata": {},
   "outputs": [],
   "source": [
    "input_params[parameter_names].describe().loc[['min', 'max']].T.values"
   ]
  },
  {
   "cell_type": "code",
   "execution_count": null,
   "id": "ac334029",
   "metadata": {},
   "outputs": [],
   "source": [
    "problem = {\n",
    "    'num_vars': len(parameter_names),\n",
    "    'names': parameter_names,\n",
    "    'bounds': input_params[parameter_names].describe().loc[['min', 'max']].T.values,\n",
    "}\n",
    "ae_results = helpers.ae_load_result(os.path.join(emulators_path, 'MLP_0_20250820_162654'))"
   ]
  },
  {
   "cell_type": "code",
   "execution_count": null,
   "id": "ae863ef8",
   "metadata": {},
   "outputs": [],
   "source": [
    "param_values = saltelli.sample(problem, 4096*2*2*2*2, calc_second_order=True)\n",
    "param_values.shape"
   ]
  },
  {
   "cell_type": "code",
   "execution_count": null,
   "id": "5f13b10a",
   "metadata": {},
   "outputs": [],
   "source": [
    "param_values = pd.DataFrame(param_values, columns=parameter_names)"
   ]
  },
  {
   "cell_type": "code",
   "execution_count": null,
   "id": "349340aa",
   "metadata": {},
   "outputs": [],
   "source": [
    "param_values.describe().loc[['min', 'max']].T.values"
   ]
  },
  {
   "cell_type": "code",
   "execution_count": null,
   "id": "1391e87b",
   "metadata": {},
   "outputs": [],
   "source": [
    "# Instead, load the pre-existing problem definition and saltelli samples\n",
    "problem_path = '../outputs/simulations/output_245760_samples_parameters_naghavi_constrained_fixed_T_v_tot_v_ref_lower_k_pas/problem.pkl'\n",
    "\n",
    "# Load the problem pickle file\n",
    "import pickle\n",
    "import pandas as pd\n",
    "with open(problem_path, 'rb') as f:\n",
    "    problem = pickle.load(f)\n",
    "\n",
    "saltelli_samples_path = '../outputs/simulations/output_245760_samples_parameters_naghavi_constrained_fixed_T_v_tot_v_ref_lower_k_pas/saltelli_samples.csv'\n",
    "param_values = pd.read_csv(saltelli_samples_path)\n"
   ]
  },
  {
   "cell_type": "code",
   "execution_count": null,
   "id": "94aeefc8",
   "metadata": {},
   "outputs": [],
   "source": [
    "problem"
   ]
  },
  {
   "cell_type": "code",
   "execution_count": null,
   "id": "dae2831d",
   "metadata": {},
   "outputs": [],
   "source": [
    "# Turn x into a pytorch tensor\n",
    "x = torch.tensor(param_values.values, dtype=torch.float32)"
   ]
  },
  {
   "cell_type": "code",
   "execution_count": null,
   "id": "f9911ce2",
   "metadata": {},
   "outputs": [],
   "source": [
    "# Use the input file to predict with the emulator\n",
    "y_pred = ae_results.model.predict(x)\n",
    "\n",
    "# Turning the y_pred into numpy\n",
    "y_pred_np = y_pred.detach().cpu().numpy().squeeze()"
   ]
  },
  {
   "cell_type": "code",
   "execution_count": null,
   "id": "27c54437",
   "metadata": {},
   "outputs": [],
   "source": [
    "# Do the sobol_analyse for GSA\n",
    "sobol_indices = analyze(problem, y_pred_np, calc_second_order=True)"
   ]
  },
  {
   "cell_type": "code",
   "execution_count": null,
   "id": "47e6bb1f",
   "metadata": {},
   "outputs": [],
   "source": [
    "from autoemulate.core.sensitivity_analysis import SensitivityAnalysis\n",
    "from autoemulate.core.sensitivity_analysis import _sobol_results_to_df "
   ]
  },
  {
   "cell_type": "code",
   "execution_count": null,
   "id": "454e0be8",
   "metadata": {},
   "outputs": [],
   "source": [
    "results = {\n",
    "    output_to_emulate: sobol_indices\n",
    "}"
   ]
  },
  {
   "cell_type": "code",
   "execution_count": null,
   "id": "07ec29a7",
   "metadata": {},
   "outputs": [],
   "source": [
    "sobol_df = _sobol_results_to_df(results)"
   ]
  },
  {
   "cell_type": "code",
   "execution_count": null,
   "id": "336a862d",
   "metadata": {},
   "outputs": [],
   "source": [
    "# Due to a bug in autoemulate plotting, we must swap ST and S1 rows.\n",
    "\n",
    "# Get the indices of rows where index == 'ST'\n",
    "mask_st = sobol_df['index'] == 'ST'\n",
    "mask_s1 = sobol_df['index'] == 'S1'\n",
    "\n",
    "# For those rows, change the index to be 'S1'\n",
    "sobol_df.loc[mask_st, 'index'] = 'S1'\n",
    "\n",
    "# For those rows, change the index to be 'ST'\n",
    "sobol_df.loc[mask_s1, 'index'] = 'ST'"
   ]
  },
  {
   "cell_type": "code",
   "execution_count": null,
   "id": "ae5ca373",
   "metadata": {},
   "outputs": [],
   "source": [
    "figsize = (9, 5)\n",
    "\n",
    "SensitivityAnalysis.plot_sobol(sobol_df, index=\"S1\", figsize=figsize) "
   ]
  },
  {
   "cell_type": "code",
   "execution_count": null,
   "id": "ce32b404",
   "metadata": {},
   "outputs": [],
   "source": [
    "figsize = (9, 5)\n",
    "\n",
    "SensitivityAnalysis.plot_sobol(sobol_df, index=\"ST\", figsize=figsize) "
   ]
  },
  {
   "cell_type": "code",
   "execution_count": null,
   "id": "34494fad",
   "metadata": {},
   "outputs": [],
   "source": [
    "# Plot a histogram of y_pred_np\n",
    "plt.hist(y_pred_np, bins=1000, alpha=0.7)\n",
    "plt.xlabel('Predicted Values')\n",
    "plt.ylabel('Frequency')\n",
    "plt.title('Histogram of Predicted Values')\n",
    "plt.show()"
   ]
  },
  {
   "cell_type": "code",
   "execution_count": null,
   "id": "42e8a9d4",
   "metadata": {},
   "outputs": [],
   "source": [
    "fig, axes = plt.subplots(nrows=4, ncols=4, figsize=(20, 18))\n",
    "axes = axes.flatten()\n",
    "\n",
    "for i, param_name in enumerate(param_values.columns):\n",
    "    axes[i].scatter(y_pred_np, param_values[param_name], alpha=0.1, s=0.1)\n",
    "    axes[i].set_xlabel(f'{output_to_emulate} emulated')\n",
    "    axes[i].set_ylabel(param_name)\n",
    "    axes[i].set_title(param_name)\n",
    "\n",
    "# Add a super title\n",
    "plt.suptitle(f'{output_to_emulate} corr with parameters', fontsize=16)\n",
    "\n",
    "plt.tight_layout()\n",
    "plt.show()\n"
   ]
  }
 ],
 "metadata": {
  "kernelspec": {
   "display_name": "venv",
   "language": "python",
   "name": "python3"
  },
  "language_info": {
   "codemirror_mode": {
    "name": "ipython",
    "version": 3
   },
   "file_extension": ".py",
   "mimetype": "text/x-python",
   "name": "python",
   "nbconvert_exporter": "python",
   "pygments_lexer": "ipython3",
   "version": "3.12.11"
  }
 },
 "nbformat": 4,
 "nbformat_minor": 5
}
