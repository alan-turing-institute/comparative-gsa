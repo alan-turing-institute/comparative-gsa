{
 "cells": [
  {
   "cell_type": "code",
   "execution_count": 1,
   "id": "a9919ffe",
   "metadata": {},
   "outputs": [],
   "source": [
    "import os\n",
    "import pandas as pd\n",
    "from autoemulate.core.compare import AutoEmulate\n",
    "from autoemulate.core.sensitivity_analysis import SensitivityAnalysis\n",
    "from ModularCirc import BatchRunner\n",
    "import torch\n",
    "from autoemulate.core.save import ModelSerialiser\n",
    "from autoemulate.core.logging_config import get_configured_logger\n",
    "\n",
    "from comparative_gsa.utils import helpers\n",
    "figsize = (9, 5)"
   ]
  },
  {
   "cell_type": "code",
   "execution_count": 2,
   "id": "e7637a4e",
   "metadata": {},
   "outputs": [],
   "source": [
    "param_filename = 'parameters_naghavi_constrained_fixed_T_v_tot_v_ref_lower_k_pas'\n",
    "\n",
    "n_samples = 256\n",
    "\n",
    "simulation_out_path = f'../outputs/simulations/output_{n_samples}_samples_{param_filename}/'\n",
    "\n",
    "parameters_json_file = os.path.join(simulation_out_path, 'parameters.json')\n",
    "\n",
    "# Load the simulation input parameters\n",
    "input_params = pd.read_csv(os.path.join(simulation_out_path, f'input_samples_{n_samples}.csv'))\n",
    "\n",
    "# Load the summary statistics\n",
    "summary_stats = pd.read_csv(os.path.join(simulation_out_path, f'simulations_summary.csv'))\n",
    "\n",
    "output_to_emulate = 'p_ao_max'"
   ]
  },
  {
   "cell_type": "code",
   "execution_count": 3,
   "id": "6d01b70f",
   "metadata": {},
   "outputs": [
    {
     "data": {
      "text/plain": [
       "{'ao.r': (195.0, 325.0),\n",
       " 'ao.c': (0.22499999999999998, 0.375),\n",
       " 'art.r': (843.75, 1406.25),\n",
       " 'art.c': (2.25, 3.75),\n",
       " 'ven.r': (6.75, 11.25),\n",
       " 'ven.c': (84.975, 141.625),\n",
       " 'av.r': (4.5, 7.5),\n",
       " 'mv.r': (3.0749999999999997, 5.125),\n",
       " 'la.E_pas': (0.22499999999999998, 0.375),\n",
       " 'la.E_act': (0.41250000000000003, 0.6875),\n",
       " 'la.k_pas': (0.00666, 0.03),\n",
       " 'lv.E_pas': (0.75, 1.25),\n",
       " 'lv.E_act': (2.25, 3.75),\n",
       " 'lv.k_pas': (0.00666, 0.03)}"
      ]
     },
     "execution_count": 3,
     "metadata": {},
     "output_type": "execute_result"
    }
   ],
   "source": [
    "# Use ModularCirc's BatchRunner to condense parameter names. This requires setting up the sampler first.\n",
    "br = BatchRunner()\n",
    "\n",
    "br.setup_sampler(parameters_json_file)\n",
    "\n",
    "br._parameters_2_sample"
   ]
  },
  {
   "cell_type": "code",
   "execution_count": 4,
   "id": "e4793cd3",
   "metadata": {},
   "outputs": [],
   "source": [
    "# Get column names for parameters up to 'lv.k_pas'\n",
    "parameter_names = list(input_params.columns[:input_params.columns.get_loc('lv.k_pas') + 1])"
   ]
  },
  {
   "cell_type": "code",
   "execution_count": 5,
   "id": "d2b9f90e",
   "metadata": {},
   "outputs": [
    {
     "data": {
      "text/plain": [
       "[(195.0, 325.0),\n",
       " (0.22499999999999998, 0.375),\n",
       " (843.75, 1406.25),\n",
       " (2.25, 3.75),\n",
       " (6.75, 11.25),\n",
       " (84.975, 141.625),\n",
       " (4.5, 7.5),\n",
       " (3.0749999999999997, 5.125),\n",
       " (0.22499999999999998, 0.375),\n",
       " (0.41250000000000003, 0.6875),\n",
       " (0.00666, 0.03),\n",
       " (0.75, 1.25),\n",
       " (2.25, 3.75),\n",
       " (0.00666, 0.03)]"
      ]
     },
     "execution_count": 5,
     "metadata": {},
     "output_type": "execute_result"
    }
   ],
   "source": [
    "# Extract parameter names and bounds from the dictionary\n",
    "parameters_range = br._parameters_2_sample\n",
    "\n",
    "parameter_names = list(parameters_range.keys())\n",
    "parameter_bounds = list(parameters_range.values())\n",
    "\n",
    "parameter_bounds"
   ]
  },
  {
   "cell_type": "code",
   "execution_count": 6,
   "id": "ac334029",
   "metadata": {},
   "outputs": [],
   "source": [
    "problem = {\n",
    "    'num_vars': len(parameter_names),\n",
    "    'names': parameter_names,\n",
    "    'bounds': parameter_bounds,\n",
    "}\n",
    "ae_results = helpers.ae_load_result(os.path.join(simulation_out_path, 'GaussianProcess_0_20250820_110540'))\n",
    "sa = SensitivityAnalysis(ae_results.model, problem=problem)"
   ]
  },
  {
   "cell_type": "code",
   "execution_count": 7,
   "id": "05770221",
   "metadata": {},
   "outputs": [
    {
     "name": "stderr",
     "output_type": "stream",
     "text": [
      "/Users/lbokeria/projects/health_gc/cvd_net_project/comparative-gsa/venv/lib/python3.12/site-packages/SALib/util/__init__.py:274: FutureWarning: unique with argument that is not not a Series, Index, ExtensionArray, or np.ndarray is deprecated and will raise in a future version.\n",
      "  names = list(pd.unique(groups))\n"
     ]
    },
    {
     "name": "stdout",
     "output_type": "stream",
     "text": [
      "14\n"
     ]
    },
    {
     "data": {
      "application/vnd.microsoft.datawrangler.viewer.v0+json": {
       "columns": [
        {
         "name": "index",
         "rawType": "int64",
         "type": "integer"
        },
        {
         "name": "output",
         "rawType": "object",
         "type": "string"
        },
        {
         "name": "parameter",
         "rawType": "object",
         "type": "unknown"
        },
        {
         "name": "index",
         "rawType": "object",
         "type": "string"
        },
        {
         "name": "value",
         "rawType": "float64",
         "type": "float"
        },
        {
         "name": "confidence",
         "rawType": "float64",
         "type": "float"
        }
       ],
       "ref": "765540b0-717f-4b69-af4b-3dc6a4db758d",
       "rows": [
        [
         "0",
         "y1",
         "ao.r",
         "S1",
         "0.004858003569523583",
         "0.00030633400547376815"
        ],
        [
         "1",
         "y1",
         "ao.c",
         "S1",
         "0.013140501354952271",
         "0.0008344576859871328"
        ],
        [
         "2",
         "y1",
         "art.r",
         "S1",
         "0.002912711900296834",
         "0.000166514772135479"
        ],
        [
         "3",
         "y1",
         "art.c",
         "S1",
         "0.009478027165446908",
         "0.0008224724818760935"
        ],
        [
         "4",
         "y1",
         "ven.r",
         "S1",
         "0.0007221863649690786",
         "4.6588515297234355e-05"
        ],
        [
         "5",
         "y1",
         "ven.c",
         "S1",
         "0.016652407930101944",
         "0.0009012446941931419"
        ],
        [
         "6",
         "y1",
         "av.r",
         "S1",
         "2.4705352135593696e-05",
         "2.009783435286467e-06"
        ],
        [
         "7",
         "y1",
         "mv.r",
         "S1",
         "0.0007900007830175709",
         "5.4400650488885115e-05"
        ],
        [
         "8",
         "y1",
         "la.E_pas",
         "S1",
         "0.0007099044121758182",
         "3.695117844531792e-05"
        ],
        [
         "9",
         "y1",
         "la.E_act",
         "S1",
         "0.0007957953273519262",
         "3.687416901480332e-05"
        ],
        [
         "10",
         "y1",
         "la.k_pas",
         "S1",
         "0.05105915511918115",
         "0.002509253831903277"
        ],
        [
         "11",
         "y1",
         "lv.E_pas",
         "S1",
         "0.012553308033091978",
         "0.0005755836906138294"
        ],
        [
         "12",
         "y1",
         "lv.E_act",
         "S1",
         "0.043365316358236136",
         "0.00204979434512125"
        ],
        [
         "13",
         "y1",
         "lv.k_pas",
         "S1",
         "0.8542061897236057",
         "0.03065082265190205"
        ],
        [
         "0",
         "y1",
         "ao.r",
         "ST",
         "0.00395418222999228",
         "0.003444014843485596"
        ],
        [
         "1",
         "y1",
         "ao.c",
         "ST",
         "0.010795229979746246",
         "0.0047640478924688085"
        ],
        [
         "2",
         "y1",
         "art.r",
         "ST",
         "0.001397712440586606",
         "0.0023166061937354063"
        ],
        [
         "3",
         "y1",
         "art.c",
         "ST",
         "0.0038345291426895357",
         "0.004160367116420508"
        ],
        [
         "4",
         "y1",
         "ven.r",
         "ST",
         "0.0008768024541603011",
         "0.00109283663265868"
        ],
        [
         "5",
         "y1",
         "ven.c",
         "ST",
         "0.013621084116498561",
         "0.005340841925229585"
        ],
        [
         "6",
         "y1",
         "av.r",
         "ST",
         "-7.124093738620928e-06",
         "0.00018378711585476936"
        ],
        [
         "7",
         "y1",
         "mv.r",
         "ST",
         "0.0004065907633385429",
         "0.0010544329475179763"
        ],
        [
         "8",
         "y1",
         "la.E_pas",
         "ST",
         "0.0007036708278301277",
         "0.0011319573256372655"
        ],
        [
         "9",
         "y1",
         "la.E_act",
         "ST",
         "0.0007006666860771811",
         "0.0011357681843290536"
        ],
        [
         "10",
         "y1",
         "la.k_pas",
         "ST",
         "0.04905500275493666",
         "0.00995767584750844"
        ],
        [
         "11",
         "y1",
         "lv.E_pas",
         "ST",
         "0.012704223067690514",
         "0.004946067192625891"
        ],
        [
         "12",
         "y1",
         "lv.E_act",
         "ST",
         "0.041891443043690774",
         "0.008656132526820973"
        ],
        [
         "13",
         "y1",
         "lv.k_pas",
         "ST",
         "0.8437043640993704",
         "0.03314096280114497"
        ],
        [
         "0",
         "y1",
         "('ao.r', 'ao.c')",
         "S2",
         "0.00012993410004727424",
         "0.00528881682155625"
        ],
        [
         "1",
         "y1",
         "('ao.r', 'art.r')",
         "S2",
         "0.00016303139379125232",
         "0.005321665279762541"
        ],
        [
         "2",
         "y1",
         "('ao.r', 'art.c')",
         "S2",
         "0.00016386030416025476",
         "0.005227593349668839"
        ],
        [
         "3",
         "y1",
         "('ao.r', 'ven.r')",
         "S2",
         "0.0001539256698870362",
         "0.0053093734487760155"
        ],
        [
         "4",
         "y1",
         "('ao.r', 'ven.c')",
         "S2",
         "-0.00013729195147606406",
         "0.005400969193972541"
        ],
        [
         "5",
         "y1",
         "('ao.r', 'av.r')",
         "S2",
         "0.00016219935529206755",
         "0.005315090887096346"
        ],
        [
         "6",
         "y1",
         "('ao.r', 'mv.r')",
         "S2",
         "0.00015470852784717014",
         "0.005361611097525965"
        ],
        [
         "7",
         "y1",
         "('ao.r', 'la.E_pas')",
         "S2",
         "0.00016771999611956605",
         "0.005300520967433249"
        ],
        [
         "8",
         "y1",
         "('ao.r', 'la.E_act')",
         "S2",
         "0.0001583087886457427",
         "0.005301946705751564"
        ],
        [
         "9",
         "y1",
         "('ao.r', 'la.k_pas')",
         "S2",
         "6.072196548938952e-05",
         "0.005345773389928099"
        ],
        [
         "10",
         "y1",
         "('ao.r', 'lv.E_pas')",
         "S2",
         "0.0001437434021615558",
         "0.005363214171333173"
        ],
        [
         "11",
         "y1",
         "('ao.r', 'lv.E_act')",
         "S2",
         "0.00015705213348630315",
         "0.005441429870413612"
        ],
        [
         "12",
         "y1",
         "('ao.r', 'lv.k_pas')",
         "S2",
         "0.0007661895470130187",
         "0.007182391636493195"
        ],
        [
         "13",
         "y1",
         "('ao.c', 'art.r')",
         "S2",
         "0.001050484313573942",
         "0.007068689981967235"
        ],
        [
         "14",
         "y1",
         "('ao.c', 'art.c')",
         "S2",
         "0.0011556786684613365",
         "0.0072456283557098015"
        ],
        [
         "15",
         "y1",
         "('ao.c', 'ven.r')",
         "S2",
         "0.0011564406930887178",
         "0.007103807444876976"
        ],
        [
         "16",
         "y1",
         "('ao.c', 'ven.c')",
         "S2",
         "0.0012977421962394996",
         "0.00733392467755115"
        ],
        [
         "17",
         "y1",
         "('ao.c', 'av.r')",
         "S2",
         "0.0011510348689231118",
         "0.007092579780874181"
        ],
        [
         "18",
         "y1",
         "('ao.c', 'mv.r')",
         "S2",
         "0.0011362438826010904",
         "0.007116088042246535"
        ],
        [
         "19",
         "y1",
         "('ao.c', 'la.E_pas')",
         "S2",
         "0.0011624199987354772",
         "0.007132168034859471"
        ],
        [
         "20",
         "y1",
         "('ao.c', 'la.E_act')",
         "S2",
         "0.0011598374958716783",
         "0.007099825706129681"
        ],
        [
         "21",
         "y1",
         "('ao.c', 'la.k_pas')",
         "S2",
         "0.0012199704452225402",
         "0.007219256100872734"
        ]
       ],
       "shape": {
        "columns": 5,
        "rows": 119
       }
      },
      "text/html": [
       "<div>\n",
       "<style scoped>\n",
       "    .dataframe tbody tr th:only-of-type {\n",
       "        vertical-align: middle;\n",
       "    }\n",
       "\n",
       "    .dataframe tbody tr th {\n",
       "        vertical-align: top;\n",
       "    }\n",
       "\n",
       "    .dataframe thead th {\n",
       "        text-align: right;\n",
       "    }\n",
       "</style>\n",
       "<table border=\"1\" class=\"dataframe\">\n",
       "  <thead>\n",
       "    <tr style=\"text-align: right;\">\n",
       "      <th></th>\n",
       "      <th>output</th>\n",
       "      <th>parameter</th>\n",
       "      <th>index</th>\n",
       "      <th>value</th>\n",
       "      <th>confidence</th>\n",
       "    </tr>\n",
       "  </thead>\n",
       "  <tbody>\n",
       "    <tr>\n",
       "      <th>0</th>\n",
       "      <td>y1</td>\n",
       "      <td>ao.r</td>\n",
       "      <td>S1</td>\n",
       "      <td>0.004858</td>\n",
       "      <td>0.000306</td>\n",
       "    </tr>\n",
       "    <tr>\n",
       "      <th>1</th>\n",
       "      <td>y1</td>\n",
       "      <td>ao.c</td>\n",
       "      <td>S1</td>\n",
       "      <td>0.013141</td>\n",
       "      <td>0.000834</td>\n",
       "    </tr>\n",
       "    <tr>\n",
       "      <th>2</th>\n",
       "      <td>y1</td>\n",
       "      <td>art.r</td>\n",
       "      <td>S1</td>\n",
       "      <td>0.002913</td>\n",
       "      <td>0.000167</td>\n",
       "    </tr>\n",
       "    <tr>\n",
       "      <th>3</th>\n",
       "      <td>y1</td>\n",
       "      <td>art.c</td>\n",
       "      <td>S1</td>\n",
       "      <td>0.009478</td>\n",
       "      <td>0.000822</td>\n",
       "    </tr>\n",
       "    <tr>\n",
       "      <th>4</th>\n",
       "      <td>y1</td>\n",
       "      <td>ven.r</td>\n",
       "      <td>S1</td>\n",
       "      <td>0.000722</td>\n",
       "      <td>0.000047</td>\n",
       "    </tr>\n",
       "    <tr>\n",
       "      <th>...</th>\n",
       "      <td>...</td>\n",
       "      <td>...</td>\n",
       "      <td>...</td>\n",
       "      <td>...</td>\n",
       "      <td>...</td>\n",
       "    </tr>\n",
       "    <tr>\n",
       "      <th>86</th>\n",
       "      <td>y1</td>\n",
       "      <td>(la.k_pas, lv.E_act)</td>\n",
       "      <td>S2</td>\n",
       "      <td>0.000354</td>\n",
       "      <td>0.013975</td>\n",
       "    </tr>\n",
       "    <tr>\n",
       "      <th>87</th>\n",
       "      <td>y1</td>\n",
       "      <td>(la.k_pas, lv.k_pas)</td>\n",
       "      <td>S2</td>\n",
       "      <td>0.001120</td>\n",
       "      <td>0.017281</td>\n",
       "    </tr>\n",
       "    <tr>\n",
       "      <th>88</th>\n",
       "      <td>y1</td>\n",
       "      <td>(lv.E_pas, lv.E_act)</td>\n",
       "      <td>S2</td>\n",
       "      <td>-0.000522</td>\n",
       "      <td>0.006384</td>\n",
       "    </tr>\n",
       "    <tr>\n",
       "      <th>89</th>\n",
       "      <td>y1</td>\n",
       "      <td>(lv.E_pas, lv.k_pas)</td>\n",
       "      <td>S2</td>\n",
       "      <td>-0.000143</td>\n",
       "      <td>0.009294</td>\n",
       "    </tr>\n",
       "    <tr>\n",
       "      <th>90</th>\n",
       "      <td>y1</td>\n",
       "      <td>(lv.E_act, lv.k_pas)</td>\n",
       "      <td>S2</td>\n",
       "      <td>0.000916</td>\n",
       "      <td>0.017392</td>\n",
       "    </tr>\n",
       "  </tbody>\n",
       "</table>\n",
       "<p>119 rows × 5 columns</p>\n",
       "</div>"
      ],
      "text/plain": [
       "   output             parameter index     value  confidence\n",
       "0      y1                  ao.r    S1  0.004858    0.000306\n",
       "1      y1                  ao.c    S1  0.013141    0.000834\n",
       "2      y1                 art.r    S1  0.002913    0.000167\n",
       "3      y1                 art.c    S1  0.009478    0.000822\n",
       "4      y1                 ven.r    S1  0.000722    0.000047\n",
       "..    ...                   ...   ...       ...         ...\n",
       "86     y1  (la.k_pas, lv.E_act)    S2  0.000354    0.013975\n",
       "87     y1  (la.k_pas, lv.k_pas)    S2  0.001120    0.017281\n",
       "88     y1  (lv.E_pas, lv.E_act)    S2 -0.000522    0.006384\n",
       "89     y1  (lv.E_pas, lv.k_pas)    S2 -0.000143    0.009294\n",
       "90     y1  (lv.E_act, lv.k_pas)    S2  0.000916    0.017392\n",
       "\n",
       "[119 rows x 5 columns]"
      ]
     },
     "execution_count": 7,
     "metadata": {},
     "output_type": "execute_result"
    }
   ],
   "source": [
    "sobol_df = sa.run(method=\"sobol\", n_samples=1024*2*2)\n",
    "sobol_df"
   ]
  },
  {
   "cell_type": "code",
   "execution_count": 8,
   "id": "534d7187",
   "metadata": {},
   "outputs": [],
   "source": [
    "# Due to a bug in autoemulate plotting, we must swap ST and S1 rows.\n",
    "\n",
    "# Get the indices of rows where index == 'ST'\n",
    "mask_st = sobol_df['index'] == 'ST'\n",
    "mask_s1 = sobol_df['index'] == 'S1'\n",
    "\n",
    "# For those rows, change the index to be 'S1'\n",
    "sobol_df.loc[mask_st, 'index'] = 'S1'\n",
    "\n",
    "# For those rows, change the index to be 'ST'\n",
    "sobol_df.loc[mask_s1, 'index'] = 'ST'"
   ]
  },
  {
   "cell_type": "code",
   "execution_count": 9,
   "id": "110dbd05",
   "metadata": {},
   "outputs": [
    {
     "data": {
      "image/png": "[encoded data removed]",
      "text/plain": [
       "<Figure size 900x500 with 1 Axes>"
      ]
     },
     "execution_count": 9,
     "metadata": {},
     "output_type": "execute_result"
    }
   ],
   "source": [
    "sa.plot_sobol(sobol_df, index=\"ST\", figsize=figsize) "
   ]
  },
  {
   "cell_type": "code",
   "execution_count": null,
   "id": "4a6d7ece",
   "metadata": {},
   "outputs": [],
   "source": [
    "sa.plot_sobol(sobol_df, index=\"ST\", figsize=figsize) "
   ]
  },
  {
   "cell_type": "code",
   "execution_count": null,
   "id": "58868997",
   "metadata": {},
   "outputs": [],
   "source": [
    "sa.plot_sobol(sobol_df, index=\"S1\", figsize=figsize) "
   ]
  }
 ],
 "metadata": {
  "kernelspec": {
   "display_name": "venv",
   "language": "python",
   "name": "python3"
  },
  "language_info": {
   "codemirror_mode": {
    "name": "ipython",
    "version": 3
   },
   "file_extension": ".py",
   "mimetype": "text/x-python",
   "name": "python",
   "nbconvert_exporter": "python",
   "pygments_lexer": "ipython3",
   "version": "3.12.11"
  }
 },
 "nbformat": 4,
 "nbformat_minor": 5
}
