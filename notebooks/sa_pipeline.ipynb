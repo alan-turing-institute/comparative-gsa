{
 "cells": [
  {
   "cell_type": "markdown",
   "id": "f8797999",
   "metadata": {},
   "source": [
    "Notebook to perform sensitivity analysis on either direct simulations or emulations"
   ]
  },
  {
   "cell_type": "code",
   "execution_count": 1,
   "id": "a9b5c525",
   "metadata": {},
   "outputs": [],
   "source": [
    "# Import relevant libraries\n",
    "import os\n",
    "import pandas as pd\n",
    "\n",
    "from SALib.analyze.sobol import analyze\n",
    "import matplotlib.pyplot as plt\n",
    "import pickle\n",
    "import pandas as pd\n",
    "\n",
    "from comparative_gsa.utils import helpers\n",
    "\n",
    "import torch\n",
    "\n",
    "from autoemulate.core.sensitivity_analysis import SensitivityAnalysis\n",
    "from autoemulate.core.sensitivity_analysis import _sobol_results_to_df \n",
    "\n",
    "figsize = (9, 5)"
   ]
  },
  {
   "cell_type": "code",
   "execution_count": 2,
   "id": "ee593217",
   "metadata": {},
   "outputs": [],
   "source": [
    "param_path = '../inputs/parameters_naghavi_constrained_fixed_T_v_tot_v_ref_lower_k_pas.json'\n",
    "# Get the filename from the path, without extension\n",
    "param_filename = os.path.splitext(os.path.basename(param_path))[0]\n",
    "\n",
    "n_saltelli_samples = 61440\n",
    "\n",
    "n_samples_used_for_emulator = 256\n",
    "\n",
    "simulation_out_path = f'../outputs/simulations/output_{n_saltelli_samples}_samples_{param_filename}/'\n",
    "emulator_path = f'../outputs/simulations/output_{n_samples_used_for_emulator}_samples_{param_filename}/emulators/'"
   ]
  },
  {
   "cell_type": "code",
   "execution_count": 3,
   "id": "e8eed555",
   "metadata": {},
   "outputs": [
    {
     "data": {
      "text/plain": [
       "{'num_vars': 14,\n",
       " 'names': ['ao.r',\n",
       "  'ao.c',\n",
       "  'art.r',\n",
       "  'art.c',\n",
       "  'ven.r',\n",
       "  'ven.c',\n",
       "  'av.r',\n",
       "  'mv.r',\n",
       "  'la.E_pas',\n",
       "  'la.E_act',\n",
       "  'la.k_pas',\n",
       "  'lv.E_pas',\n",
       "  'lv.E_act',\n",
       "  'lv.k_pas'],\n",
       " 'bounds': array([[1.95000000e+02, 3.24999996e+02],\n",
       "        [2.25000007e-01, 3.74999993e-01],\n",
       "        [8.43750051e+02, 1.40625000e+03],\n",
       "        [2.25000011e+00, 3.74999994e+00],\n",
       "        [6.75000004e+00, 1.12499995e+01],\n",
       "        [8.49750003e+01, 1.41624995e+02],\n",
       "        [4.50000008e+00, 7.49999965e+00],\n",
       "        [3.07500007e+00, 5.12499994e+00],\n",
       "        [2.25000008e-01, 3.74999990e-01],\n",
       "        [4.12500030e-01, 6.87499985e-01],\n",
       "        [6.66000059e-03, 2.99999983e-02],\n",
       "        [7.50000038e-01, 1.25000000e+00],\n",
       "        [2.25000008e+00, 3.74999997e+00],\n",
       "        [6.66000117e-03, 2.99999989e-02]]),\n",
       " 'sample_scaled': True}"
      ]
     },
     "execution_count": 3,
     "metadata": {},
     "output_type": "execute_result"
    }
   ],
   "source": [
    "# Load the problem pickle file\n",
    "problem_path = os.path.join(simulation_out_path, 'problem.pkl')\n",
    "\n",
    "with open(problem_path, 'rb') as f:\n",
    "    problem = pickle.load(f)\n",
    "\n",
    "problem\n",
    "\n"
   ]
  },
  {
   "cell_type": "code",
   "execution_count": 4,
   "id": "a9f262be",
   "metadata": {},
   "outputs": [
    {
     "name": "stdout",
     "output_type": "stream",
     "text": [
      "Analysing v_ao_mean with emulations\n"
     ]
    },
    {
     "name": "stderr",
     "output_type": "stream",
     "text": [
      "/Users/lbokeria/projects/health_gc/cvd_net_project/comparative-gsa/venv/lib/python3.12/site-packages/SALib/util/__init__.py:274: FutureWarning: unique with argument that is not not a Series, Index, ExtensionArray, or np.ndarray is deprecated and will raise in a future version.\n",
      "  names = list(pd.unique(groups))\n"
     ]
    },
    {
     "name": "stdout",
     "output_type": "stream",
     "text": [
      "14\n",
      "Warning, swapping S1 and ST because of a bug in Autoemulate plotting\n",
      "Analysing v_ao_max with emulations\n"
     ]
    },
    {
     "name": "stderr",
     "output_type": "stream",
     "text": [
      "/Users/lbokeria/projects/health_gc/cvd_net_project/comparative-gsa/venv/lib/python3.12/site-packages/SALib/util/__init__.py:274: FutureWarning: unique with argument that is not not a Series, Index, ExtensionArray, or np.ndarray is deprecated and will raise in a future version.\n",
      "  names = list(pd.unique(groups))\n"
     ]
    },
    {
     "name": "stdout",
     "output_type": "stream",
     "text": [
      "14\n",
      "Warning, swapping S1 and ST because of a bug in Autoemulate plotting\n"
     ]
    },
    {
     "name": "stderr",
     "output_type": "stream",
     "text": [
      "Failed to load model from ../outputs/simulations/output_256_samples_parameters_naghavi_constrained_fixed_T_v_tot_v_ref_lower_k_pas/emulators/v_ao_min/GaussianProcess_0.joblib: [Errno 2] No such file or directory: '../outputs/simulations/output_256_samples_parameters_naghavi_constrained_fixed_T_v_tot_v_ref_lower_k_pas/emulators/v_ao_min/GaussianProcess_0.joblib'\n"
     ]
    },
    {
     "name": "stdout",
     "output_type": "stream",
     "text": [
      "Analysing v_ao_min with emulations\n"
     ]
    },
    {
     "ename": "FileNotFoundError",
     "evalue": "[Errno 2] No such file or directory: '../outputs/simulations/output_256_samples_parameters_naghavi_constrained_fixed_T_v_tot_v_ref_lower_k_pas/emulators/v_ao_min/GaussianProcess_0.joblib'",
     "output_type": "error",
     "traceback": [
      "\u001b[31m---------------------------------------------------------------------------\u001b[39m",
      "\u001b[31mFileNotFoundError\u001b[39m                         Traceback (most recent call last)",
      "\u001b[36mCell\u001b[39m\u001b[36m \u001b[39m\u001b[32mIn[4]\u001b[39m\u001b[32m, line 26\u001b[39m\n\u001b[32m     19\u001b[39m     Y_feature = simulations_summary[i_output_feature].values\n\u001b[32m     21\u001b[39m \u001b[38;5;28;01melif\u001b[39;00m data_type == \u001b[33m'\u001b[39m\u001b[33memulations\u001b[39m\u001b[33m'\u001b[39m:\n\u001b[32m     22\u001b[39m \n\u001b[32m     23\u001b[39m     \u001b[38;5;66;03m# Predict the Y_feature using the emulator\u001b[39;00m\n\u001b[32m     24\u001b[39m \n\u001b[32m     25\u001b[39m     \u001b[38;5;66;03m# Load the right emulator\u001b[39;00m\n\u001b[32m---> \u001b[39m\u001b[32m26\u001b[39m     emulator = \u001b[43mhelpers\u001b[49m\u001b[43m.\u001b[49m\u001b[43mae_load_result\u001b[49m\u001b[43m(\u001b[49m\u001b[43mos\u001b[49m\u001b[43m.\u001b[49m\u001b[43mpath\u001b[49m\u001b[43m.\u001b[49m\u001b[43mjoin\u001b[49m\u001b[43m(\u001b[49m\u001b[43memulator_path\u001b[49m\u001b[43m,\u001b[49m\u001b[43m \u001b[49m\n\u001b[32m     27\u001b[39m \u001b[43m                                                   \u001b[49m\u001b[43mi_output_feature\u001b[49m\u001b[43m,\u001b[49m\u001b[43m \u001b[49m\n\u001b[32m     28\u001b[39m \u001b[43m                                                   \u001b[49m\u001b[33;43m'\u001b[39;49m\u001b[33;43mGaussianProcess_0\u001b[39;49m\u001b[33;43m'\u001b[39;49m\u001b[43m)\u001b[49m\u001b[43m)\u001b[49m\n\u001b[32m     30\u001b[39m     \u001b[38;5;66;03m# Use the input file to predict with the emulator\u001b[39;00m\n\u001b[32m     31\u001b[39m     Y_feature = emulator.model.predict(x).mean\n",
      "\u001b[36mFile \u001b[39m\u001b[32m~/projects/health_gc/cvd_net_project/comparative-gsa/src/comparative_gsa/utils/helpers.py:30\u001b[39m, in \u001b[36mae_load_result\u001b[39m\u001b[34m(path)\u001b[39m\n\u001b[32m     28\u001b[39m \u001b[38;5;28;01melse\u001b[39;00m:\n\u001b[32m     29\u001b[39m     model_path = Path(path)\n\u001b[32m---> \u001b[39m\u001b[32m30\u001b[39m model = \u001b[43mae_load_model\u001b[49m\u001b[43m(\u001b[49m\u001b[43mmodel_path\u001b[49m\u001b[43m)\u001b[49m\n\u001b[32m     31\u001b[39m metadata_path = Path(\u001b[33mf\u001b[39m\u001b[33m\"\u001b[39m\u001b[38;5;132;01m{\u001b[39;00mpath\u001b[38;5;132;01m}\u001b[39;00m\u001b[33m_metadata.csv\u001b[39m\u001b[33m\"\u001b[39m)\n\u001b[32m     32\u001b[39m \u001b[38;5;28;01mtry\u001b[39;00m:\n",
      "\u001b[36mFile \u001b[39m\u001b[32m~/projects/health_gc/cvd_net_project/comparative-gsa/src/comparative_gsa/utils/helpers.py:68\u001b[39m, in \u001b[36mae_load_model\u001b[39m\u001b[34m(path)\u001b[39m\n\u001b[32m     66\u001b[39m path = Path(path)\n\u001b[32m     67\u001b[39m \u001b[38;5;28;01mtry\u001b[39;00m:\n\u001b[32m---> \u001b[39m\u001b[32m68\u001b[39m     model = \u001b[43mjoblib\u001b[49m\u001b[43m.\u001b[49m\u001b[43mload\u001b[49m\u001b[43m(\u001b[49m\u001b[43mpath\u001b[49m\u001b[43m)\u001b[49m\n\u001b[32m     69\u001b[39m     logger.info(\u001b[33m\"\u001b[39m\u001b[33mModel loaded from \u001b[39m\u001b[38;5;132;01m%s\u001b[39;00m\u001b[33m\"\u001b[39m, path)\n\u001b[32m     70\u001b[39m     \u001b[38;5;28;01mreturn\u001b[39;00m model\n",
      "\u001b[36mFile \u001b[39m\u001b[32m~/projects/health_gc/cvd_net_project/comparative-gsa/venv/lib/python3.12/site-packages/joblib/numpy_pickle.py:735\u001b[39m, in \u001b[36mload\u001b[39m\u001b[34m(filename, mmap_mode, ensure_native_byte_order)\u001b[39m\n\u001b[32m    733\u001b[39m         obj = _unpickle(fobj, ensure_native_byte_order=ensure_native_byte_order)\n\u001b[32m    734\u001b[39m \u001b[38;5;28;01melse\u001b[39;00m:\n\u001b[32m--> \u001b[39m\u001b[32m735\u001b[39m     \u001b[38;5;28;01mwith\u001b[39;00m \u001b[38;5;28;43mopen\u001b[39;49m\u001b[43m(\u001b[49m\u001b[43mfilename\u001b[49m\u001b[43m,\u001b[49m\u001b[43m \u001b[49m\u001b[33;43m\"\u001b[39;49m\u001b[33;43mrb\u001b[39;49m\u001b[33;43m\"\u001b[39;49m\u001b[43m)\u001b[49m \u001b[38;5;28;01mas\u001b[39;00m f:\n\u001b[32m    736\u001b[39m         \u001b[38;5;28;01mwith\u001b[39;00m _validate_fileobject_and_memmap(f, filename, mmap_mode) \u001b[38;5;28;01mas\u001b[39;00m (\n\u001b[32m    737\u001b[39m             fobj,\n\u001b[32m    738\u001b[39m             validated_mmap_mode,\n\u001b[32m    739\u001b[39m         ):\n\u001b[32m    740\u001b[39m             \u001b[38;5;28;01mif\u001b[39;00m \u001b[38;5;28misinstance\u001b[39m(fobj, \u001b[38;5;28mstr\u001b[39m):\n\u001b[32m    741\u001b[39m                 \u001b[38;5;66;03m# if the returned file object is a string, this means we\u001b[39;00m\n\u001b[32m    742\u001b[39m                 \u001b[38;5;66;03m# try to load a pickle file generated with an version of\u001b[39;00m\n\u001b[32m    743\u001b[39m                 \u001b[38;5;66;03m# Joblib so we load it with joblib compatibility function.\u001b[39;00m\n",
      "\u001b[31mFileNotFoundError\u001b[39m: [Errno 2] No such file or directory: '../outputs/simulations/output_256_samples_parameters_naghavi_constrained_fixed_T_v_tot_v_ref_lower_k_pas/emulators/v_ao_min/GaussianProcess_0.joblib'"
     ]
    }
   ],
   "source": [
    "data_type = 'emulations' # 'simulations' or 'emulations'\n",
    "\n",
    "# Load the simulation summary results\n",
    "simulations_summary = pd.read_csv(os.path.join(simulation_out_path, f'simulations_summary.csv'))\n",
    "\n",
    "# Load the parameter values\n",
    "parameters_csv = pd.read_csv(os.path.join(simulation_out_path,'saltelli_samples.csv'))\n",
    "\n",
    "# Turn x into a pytorch tensor, for emulators to predict on\n",
    "x = torch.tensor(parameters_csv.values, dtype=torch.float32)\n",
    "\n",
    "# Loop over each feature\n",
    "for i_output_feature in simulations_summary.columns:\n",
    "\n",
    "    print(f'Analysing {i_output_feature} with {data_type}')\n",
    "\n",
    "    if data_type == 'simulations':\n",
    "\n",
    "        Y_feature = simulations_summary[i_output_feature].values\n",
    "\n",
    "    elif data_type == 'emulations':\n",
    "\n",
    "        # Predict the Y_feature using the emulator\n",
    "\n",
    "        # Load the right emulator\n",
    "        emulator = helpers.ae_load_result(os.path.join(emulator_path, \n",
    "                                                       i_output_feature, \n",
    "                                                       'GaussianProcess_0'))\n",
    "\n",
    "        # Use the input file to predict with the emulator\n",
    "        Y_feature = emulator.model.predict(x).mean\n",
    "\n",
    "        # Turning the Y_feature into numpy\n",
    "        Y_feature = Y_feature.detach().cpu().numpy().squeeze()\n",
    "\n",
    "    # Do the sobol_analyse for GSA\n",
    "    sobol_indices = analyze(problem, Y_feature, calc_second_order=True)\n",
    "    \n",
    "    # Transform to a dataframe\n",
    "    results = {\n",
    "        i_output_feature: sobol_indices\n",
    "    }    \n",
    "    sobol_df = _sobol_results_to_df(results)\n",
    "\n",
    "    # Swap S1 ST due to bug\n",
    "    print('Warning, swapping S1 and ST because of a bug in Autoemulate plotting')\n",
    "    sobol_df = helpers.swap_s1_st(sobol_df=sobol_df)\n",
    "\n",
    "    # Save the sobol_indices and sobol df\n",
    "    save_dir = os.path.join(f'../outputs/sa_results/saltelli_samples_{n_saltelli_samples}_{param_filename}/{i_output_feature}/{data_type}/trained_on_{n_samples_used_for_emulator}_samples')\n",
    "    os.makedirs(save_dir, exist_ok=True)\n",
    "    sobol_df.to_csv(os.path.join(save_dir,'sobol_df.csv'), index=False)\n",
    "\n",
    "    # Plot the figures and save\n",
    "    fig_s1 = SensitivityAnalysis.plot_sobol(sobol_df, index=\"S1\", figsize=figsize) \n",
    "    fig_s1.savefig(os.path.join(save_dir, f's1_indices.png'), \n",
    "               dpi=300, bbox_inches='tight')\n",
    "    plt.close(fig_s1)  # Close the figure to free memory\n",
    "    fig_st = SensitivityAnalysis.plot_sobol(sobol_df, index=\"ST\", figsize=figsize) \n",
    "    fig_st.savefig(os.path.join(save_dir, f'st_indices.png'), \n",
    "               dpi=300, bbox_inches='tight')    \n",
    "    plt.close(fig_st)  # Close the figure to free memory"
   ]
  }
 ],
 "metadata": {
  "kernelspec": {
   "display_name": "venv",
   "language": "python",
   "name": "python3"
  },
  "language_info": {
   "codemirror_mode": {
    "name": "ipython",
    "version": 3
   },
   "file_extension": ".py",
   "mimetype": "text/x-python",
   "name": "python",
   "nbconvert_exporter": "python",
   "pygments_lexer": "ipython3",
   "version": "3.12.11"
  }
 },
 "nbformat": 4,
 "nbformat_minor": 5
}
