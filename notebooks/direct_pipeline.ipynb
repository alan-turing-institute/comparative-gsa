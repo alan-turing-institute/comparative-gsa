{
 "cells": [
  {
   "cell_type": "code",
   "execution_count": null,
   "id": "12dbd550",
   "metadata": {},
   "outputs": [],
   "source": [
    "# Import relevant libraries\n",
    "import os\n",
    "import pandas as pd\n",
    "from ModularCirc.Models.NaghaviModel import NaghaviModel, NaghaviModelParameters, TEMPLATE_TIME_SETUP_DICT\n",
    "from SALib.sample import saltelli\n",
    "import json\n",
    "from ModularCirc import BatchRunner\n",
    "from comparative_gsa.simulate_data import simulate_data\n",
    "from comparative_gsa.calculate_output_features import calculate_output_features\n",
    "from SALib.analyze.sobol import analyze"
   ]
  },
  {
   "cell_type": "code",
   "execution_count": null,
   "id": "c720b988",
   "metadata": {},
   "outputs": [],
   "source": [
    "param_path = '../inputs/parameters_naghavi_constrained_fixed_T_v_tot.json'\n",
    "# Get the filename from the path, without extension\n",
    "param_filename = os.path.splitext(os.path.basename(param_path))[0]"
   ]
  },
  {
   "cell_type": "code",
   "execution_count": null,
   "id": "31075319",
   "metadata": {},
   "outputs": [],
   "source": [
    "# Set up the batch runner\n",
    "\n",
    "## read in save parameters to the folder where simulations r saved.\n",
    "with open(param_path, 'r') as f:\n",
    "    params = json.load(f)\n",
    "\n",
    "# Set up the batch runner\n",
    "br = BatchRunner('Sobol', 0) # why are we using 'Sobol' here?\n",
    "br.setup_sampler(param_path)\n",
    "br.sample(10**6) # setting to a large number just to have more than n_samples. It will later get truncated down to n_samples"
   ]
  },
  {
   "cell_type": "code",
   "execution_count": null,
   "id": "30eaa304",
   "metadata": {},
   "outputs": [],
   "source": [
    "br.samples"
   ]
  },
  {
   "cell_type": "code",
   "execution_count": null,
   "id": "3f403847",
   "metadata": {},
   "outputs": [],
   "source": [
    "br._parameters_2_sample"
   ]
  },
  {
   "cell_type": "code",
   "execution_count": null,
   "id": "298c33c0",
   "metadata": {},
   "outputs": [],
   "source": [
    "# Now, generate samples for sensitivity analysis by taking the keys of _parameters_2_sample and turning into a list\n",
    "relevant_columns = list(br._parameters_2_sample.keys())\n",
    "relevant_columns"
   ]
  },
  {
   "cell_type": "code",
   "execution_count": null,
   "id": "cd2a8982",
   "metadata": {},
   "outputs": [],
   "source": [
    "problem = {\n",
    "    'num_vars': len(relevant_columns),\n",
    "    'names': relevant_columns,\n",
    "    'bounds' : br.samples[relevant_columns].describe().loc[['min', 'max']].T.values\n",
    "}"
   ]
  },
  {
   "cell_type": "code",
   "execution_count": null,
   "id": "e4448443",
   "metadata": {},
   "outputs": [],
   "source": [
    "param_values = saltelli.sample(problem, 16, calc_second_order=True)\n",
    "param_values.shape"
   ]
  },
  {
   "cell_type": "code",
   "execution_count": null,
   "id": "761c19f9",
   "metadata": {},
   "outputs": [],
   "source": [
    "param_values = pd.DataFrame(param_values) \n",
    "\n",
    "param_values.columns = relevant_columns\n",
    "\n",
    "param_values"
   ]
  },
  {
   "cell_type": "code",
   "execution_count": null,
   "id": "d54694f8",
   "metadata": {},
   "outputs": [],
   "source": [
    "# How many rows are in param_values\n",
    "param_values.shape[0]\n",
    "\n",
    "# Truncate br.samples to be only the first n_samples rows\n",
    "br._samples = br._samples.iloc[:param_values.shape[0]].copy()"
   ]
  },
  {
   "cell_type": "code",
   "execution_count": null,
   "id": "b84eaf95",
   "metadata": {},
   "outputs": [],
   "source": [
    "br.samples"
   ]
  },
  {
   "cell_type": "code",
   "execution_count": null,
   "id": "d5d9ade4",
   "metadata": {},
   "outputs": [],
   "source": [
    "n_samples = param_values.shape[0]\n",
    "\n",
    "simulation_out_path = f'../outputs/simulations/output_{n_samples}_samples_{param_filename}/'\n",
    "\n",
    "# Make this directory if it doesn't exist\n",
    "os.makedirs(simulation_out_path, exist_ok=True)"
   ]
  },
  {
   "cell_type": "code",
   "execution_count": null,
   "id": "deb7b58c",
   "metadata": {},
   "outputs": [],
   "source": [
    "# Now finish setting up the batch runner\n",
    "map_ = {\n",
    "    'lv.t_tr' : ['lv.t_tr',],\n",
    "    'la.t_tr' : ['la.t_tr',],\n",
    "    'la.delay' : ['la.delay',],\n",
    "    'lv.tau' : ['lv.tau',],\n",
    "    'la.tau' : ['la.tau',],\n",
    "    'lv.t_max' : ['lv.t_max',],\n",
    "    'la.t_max' : ['la.t_max',],\n",
    "}\n",
    "\n",
    "# Map the sample timings\n",
    "br.map_sample_timings(\n",
    "    ref_time=1000., # double check if 1000 or 1\n",
    "    map=map_\n",
    "    )"
   ]
  },
  {
   "cell_type": "code",
   "execution_count": null,
   "id": "14796082",
   "metadata": {},
   "outputs": [],
   "source": [
    "# Map the vessel volumes\n",
    "br.map_vessel_volume()\n",
    "\n",
    "\n",
    "# Save the samples to a CSV file\n",
    "br.samples.to_csv(os.path.join(simulation_out_path,\n",
    "                                f'input_samples_{n_samples}.csv'),\n",
    "                                index=False)\n",
    "\n",
    "# Set up the model with the parameters and time setup\n",
    "br.setup_model(model=NaghaviModel, po=NaghaviModelParameters,\n",
    "                time_setup=TEMPLATE_TIME_SETUP_DICT)"
   ]
  },
  {
   "cell_type": "code",
   "execution_count": null,
   "id": "38621991",
   "metadata": {},
   "outputs": [],
   "source": [
    "simulations, bool_indices = simulate_data(\n",
    "    batch_runner=br,\n",
    "    simulation_out_path=simulation_out_path\n",
    ")"
   ]
  },
  {
   "cell_type": "code",
   "execution_count": null,
   "id": "46855877",
   "metadata": {},
   "outputs": [],
   "source": [
    "summary_df = calculate_output_features(\n",
    "        simulations=simulations,\n",
    "        simulation_out_path=simulation_out_path)"
   ]
  }
 ],
 "metadata": {
  "kernelspec": {
   "display_name": "venv",
   "language": "python",
   "name": "python3"
  },
  "language_info": {
   "codemirror_mode": {
    "name": "ipython",
    "version": 3
   },
   "file_extension": ".py",
   "mimetype": "text/x-python",
   "name": "python",
   "nbconvert_exporter": "python",
   "pygments_lexer": "ipython3",
   "version": "3.12.11"
  }
 },
 "nbformat": 4,
 "nbformat_minor": 5
}
