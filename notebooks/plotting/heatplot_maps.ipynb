{
 "cells": [
  {
   "cell_type": "code",
   "execution_count": null,
   "id": "0810ccf6",
   "metadata": {},
   "outputs": [],
   "source": [
    "from comparative_gsa.utils import plotting\n",
    "\n",
    "import os\n",
    "\n",
    "import pandas as pd\n",
    "import numpy as np\n",
    "\n",
    "fig_size = (7, 5)"
   ]
  },
  {
   "cell_type": "code",
   "execution_count": null,
   "id": "7c94a2c7",
   "metadata": {},
   "outputs": [],
   "source": [
    "param_path = '../inputs/parameters_naghavi_constrained_fixed_T_v_tot_v_ref_lower_k_pas_further.json'\n",
    "# Get the filename from the path, without extension\n",
    "param_filename = os.path.splitext(os.path.basename(param_path))[0]\n",
    "\n",
    "# Load the combined sobol_df\n",
    "sobol_df = pd.read_csv(f'../../outputs/sa_results/aggregated_dfs/{param_filename}/combined_sobol_df.csv')"
   ]
  },
  {
   "cell_type": "code",
   "execution_count": null,
   "id": "514c25ca",
   "metadata": {},
   "outputs": [],
   "source": [
    "# Get the subset for simulations and n_model_evals=30720\n",
    "output_to_keep = [\n",
    "    'p_ao_min',\n",
    "    'p_ao_max',\n",
    "    'p_ao_mean',\n",
    "    'v_ao_min',\n",
    "    'v_ao_max',\n",
    "    'v_ao_mean',\n",
    "    'p_art_min',\n",
    "    'p_art_max',\n",
    "    'p_art_mean',\n",
    "    'v_art_min',\n",
    "    'v_art_max',\n",
    "    'v_art_mean'\n",
    "]\n",
    "\n",
    "\n",
    "simulations_df = sobol_df[\n",
    "    (sobol_df[\"data_type\"] == \"simulations\") &\n",
    "    (sobol_df[\"n_model_evals\"] == 30720) &\n",
    "    (sobol_df[\"output\"].isin(output_to_keep))\n",
    "]\n",
    "\n",
    "n_simulations_trained_on = 1024\n",
    "\n",
    "emulations_df = sobol_df[\n",
    "    (sobol_df[\"data_type\"] == \"emulations\") &\n",
    "    (sobol_df[\"n_model_evals\"] == 30720) &\n",
    "    (sobol_df[\"output\"].isin(output_to_keep)) &\n",
    "    (sobol_df[\"n_simulations_trained_on\"] == n_simulations_trained_on)\n",
    "]"
   ]
  },
  {
   "cell_type": "code",
   "execution_count": null,
   "id": "8883ee62",
   "metadata": {},
   "outputs": [],
   "source": [
    "sobol_df.columns.to_list()\n",
    "\n",
    "cols_to_keep = [\n",
    "  'output',\n",
    " 'parameter',\n",
    " 'index',\n",
    " 'value',\n",
    " 'confidence'\n",
    "]\n",
    "\n",
    "simulations_df = simulations_df[cols_to_keep].reset_index(drop=True)\n",
    "emulations_df = emulations_df[cols_to_keep].reset_index(drop=True)"
   ]
  },
  {
   "cell_type": "code",
   "execution_count": null,
   "id": "abb6d963",
   "metadata": {},
   "outputs": [],
   "source": [
    "index_to_plot = 'ST'"
   ]
  },
  {
   "cell_type": "code",
   "execution_count": null,
   "id": "6cf8f042",
   "metadata": {},
   "outputs": [],
   "source": [
    "plotting.plot_sa_heatmap(\n",
    "    simulations_df,\n",
    "    index=index_to_plot,\n",
    "    top_n=14,\n",
    "    cmap=\"coolwarm\",\n",
    "    normalize=False,\n",
    "    figsize=fig_size,\n",
    "    fname=f\"../../outputs/sa_results/plots/{param_filename}/sobol_heatmap_simulations_{index_to_plot}.png\"\n",
    ")"
   ]
  },
  {
   "cell_type": "code",
   "execution_count": null,
   "id": "83a30682",
   "metadata": {},
   "outputs": [],
   "source": [
    "plotting.plot_sa_heatmap(\n",
    "    emulations_df,\n",
    "    index=index_to_plot,\n",
    "    top_n=14,\n",
    "    cmap=\"coolwarm\",\n",
    "    normalize=False,\n",
    "    figsize=fig_size,\n",
    "    fname=f\"../../outputs/sa_results/plots/{param_filename}/sobol_heatmap_emulations_{index_to_plot}.png\"\n",
    ")"
   ]
  }
 ],
 "metadata": {
  "kernelspec": {
   "display_name": "venv",
   "language": "python",
   "name": "python3"
  },
  "language_info": {
   "codemirror_mode": {
    "name": "ipython",
    "version": 3
   },
   "file_extension": ".py",
   "mimetype": "text/x-python",
   "name": "python",
   "nbconvert_exporter": "python",
   "pygments_lexer": "ipython3",
   "version": "3.12.11"
  }
 },
 "nbformat": 4,
 "nbformat_minor": 5
}
