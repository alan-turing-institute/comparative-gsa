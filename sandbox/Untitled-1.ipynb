{
 "cells": [
  {
   "cell_type": "code",
   "execution_count": 31,
   "id": "9652148a",
   "metadata": {},
   "outputs": [],
   "source": [
    "from ModularCirc.Models.NaghaviModel import NaghaviModel, NaghaviModelParameters"
   ]
  },
  {
   "cell_type": "code",
   "execution_count": 32,
   "id": "6c132d3a",
   "metadata": {},
   "outputs": [],
   "source": [
    "parobj = NaghaviModelParameters()"
   ]
  },
  {
   "cell_type": "code",
   "execution_count": 33,
   "id": "0468c435",
   "metadata": {},
   "outputs": [
    {
     "name": "stdout",
     "output_type": "stream",
     "text": [
      "Naghavi Model parameters set: \n",
      " * Component - \u001b[1m\u001b[93mao\u001b[0m\n",
      "  - \u001b[1m\u001b[93mr\u001b[0m       : 2.400e+02\n",
      "  - \u001b[1m\u001b[93mc\u001b[0m       : 3.000e-01\n",
      "  - \u001b[1m\u001b[93ml\u001b[0m       : 0.000e+00\n",
      "  - \u001b[1m\u001b[93mv_ref\u001b[0m   : 1.000e+02\n",
      "  - \u001b[1m\u001b[93mv\u001b[0m       : 1.300e+02\n",
      "  - \u001b[1m\u001b[93mp\u001b[0m       : nan\n",
      "\n",
      " * Component - \u001b[1m\u001b[93mart\u001b[0m\n",
      "  - \u001b[1m\u001b[93mr\u001b[0m       : 1.125e+03\n",
      "  - \u001b[1m\u001b[93mc\u001b[0m       : 3.000e+00\n",
      "  - \u001b[1m\u001b[93ml\u001b[0m       : 0.000e+00\n",
      "  - \u001b[1m\u001b[93mv_ref\u001b[0m   : 9.000e+02\n",
      "  - \u001b[1m\u001b[93mv\u001b[0m       : 1.092e+03\n",
      "  - \u001b[1m\u001b[93mp\u001b[0m       : nan\n",
      "\n",
      " * Component - \u001b[1m\u001b[93mven\u001b[0m\n",
      "  - \u001b[1m\u001b[93mr\u001b[0m       : 9.000e+00\n",
      "  - \u001b[1m\u001b[93mc\u001b[0m       : 1.333e+02\n",
      "  - \u001b[1m\u001b[93ml\u001b[0m       : 0.000e+00\n",
      "  - \u001b[1m\u001b[93mv_ref\u001b[0m   : 2.800e+03\n",
      "  - \u001b[1m\u001b[93mv\u001b[0m       : 3.780e+03\n",
      "  - \u001b[1m\u001b[93mp\u001b[0m       : nan\n",
      "\n",
      " * Component - \u001b[1m\u001b[93mav\u001b[0m\n",
      "  - \u001b[1m\u001b[93mr\u001b[0m       : 6.000e+00\n",
      "  - \u001b[1m\u001b[93mmax_func\u001b[0m : <function relu_max at 0x141c99b20>\n",
      "\n",
      " * Component - \u001b[1m\u001b[93mmv\u001b[0m\n",
      "  - \u001b[1m\u001b[93mr\u001b[0m       : 4.100e+00\n",
      "  - \u001b[1m\u001b[93mmax_func\u001b[0m : <function relu_max at 0x141c99b20>\n",
      "\n",
      " * Component - \u001b[1m\u001b[93mla\u001b[0m\n",
      "  - \u001b[1m\u001b[93mE_pas\u001b[0m   : 4.400e-01\n",
      "  - \u001b[1m\u001b[93mE_act\u001b[0m   : 4.500e-01\n",
      "  - \u001b[1m\u001b[93mv_ref\u001b[0m   : 1.000e+01\n",
      "  - \u001b[1m\u001b[93mk_pas\u001b[0m   : 5.000e-02\n",
      "  - \u001b[1m\u001b[93mactivation_function\u001b[0m : <function activation_function_1 at 0x141c9a200>\n",
      "  - \u001b[1m\u001b[93mt_tr\u001b[0m    : 2.250e+02\n",
      "  - \u001b[1m\u001b[93mt_max\u001b[0m   : 1.500e+02\n",
      "  - \u001b[1m\u001b[93mtau\u001b[0m     : 2.500e+01\n",
      "  - \u001b[1m\u001b[93mdelay\u001b[0m   : 1.000e+02\n",
      "  - \u001b[1m\u001b[93mv\u001b[0m       : 9.360e+01\n",
      "  - \u001b[1m\u001b[93mp\u001b[0m       : nan\n",
      "  - \u001b[1m\u001b[93mactivation_func\u001b[0m : nan\n",
      "\n",
      " * Component - \u001b[1m\u001b[93mlv\u001b[0m\n",
      "  - \u001b[1m\u001b[93mE_pas\u001b[0m   : 1.000e+00\n",
      "  - \u001b[1m\u001b[93mE_act\u001b[0m   : 3.000e+00\n",
      "  - \u001b[1m\u001b[93mv_ref\u001b[0m   : 1.000e+01\n",
      "  - \u001b[1m\u001b[93mk_pas\u001b[0m   : 2.700e-02\n",
      "  - \u001b[1m\u001b[93mactivation_function\u001b[0m : <function activation_function_1 at 0x141c9a200>\n",
      "  - \u001b[1m\u001b[93mt_tr\u001b[0m    : 4.200e+02\n",
      "  - \u001b[1m\u001b[93mt_max\u001b[0m   : 2.800e+02\n",
      "  - \u001b[1m\u001b[93mtau\u001b[0m     : 2.500e+01\n",
      "  - \u001b[1m\u001b[93mdelay\u001b[0m   : nan\n",
      "  - \u001b[1m\u001b[93mv\u001b[0m       : 1.040e+02\n",
      "  - \u001b[1m\u001b[93mp\u001b[0m       : nan\n",
      "  - \u001b[1m\u001b[93mactivation_func\u001b[0m : nan\n",
      "\n",
      "\n"
     ]
    }
   ],
   "source": [
    "model = NaghaviModel(time_setup_dict=TEMPLATE_TIME_SETUP_DICT, parobj=parobj)"
   ]
  },
  {
   "cell_type": "code",
   "execution_count": 34,
   "id": "5c84681c",
   "metadata": {},
   "outputs": [
    {
     "name": "stdout",
     "output_type": "stream",
     "text": [
      " -- Variable \u001b[1m\u001b[93mv_ao\u001b[0m added to the principal variable key list.\n",
      "    - name of update function: \u001b[1m\u001b[93mchamber_volume_rate_change\u001b[0m\n",
      "    - inputs: ['q_av', 'q_ao']\n",
      " -- Variable \u001b[1m\u001b[93mv_art\u001b[0m added to the principal variable key list.\n",
      "    - name of update function: \u001b[1m\u001b[93mchamber_volume_rate_change\u001b[0m\n",
      "    - inputs: ['q_ao', 'q_art']\n",
      " -- Variable \u001b[1m\u001b[93mv_ven\u001b[0m added to the principal variable key list.\n",
      "    - name of update function: \u001b[1m\u001b[93mchamber_volume_rate_change\u001b[0m\n",
      "    - inputs: ['q_art', 'q_ven']\n",
      " -- Variable \u001b[1m\u001b[93mv_la\u001b[0m added to the principal variable key list.\n",
      "    - name of update function: \u001b[1m\u001b[93mchamber_volume_rate_change\u001b[0m\n",
      "    - inputs: ['q_ven', 'q_mv']\n",
      " -- Variable \u001b[1m\u001b[93mv_lv\u001b[0m added to the principal variable key list.\n",
      "    - name of update function: \u001b[1m\u001b[93mchamber_volume_rate_change\u001b[0m\n",
      "    - inputs: ['q_mv', 'q_av']\n",
      " -- Variable \u001b[1m\u001b[93mp_lv\u001b[0m added to the init list.\n",
      "    - name of update function: \u001b[1m\u001b[93mtotal_p\u001b[0m\n",
      "    - inputs: ['v_lv']\n",
      " -- Variable \u001b[1m\u001b[93mp_lv\u001b[0m added to the principal variable key list.\n",
      "    - name of update function: \u001b[1m\u001b[93mtotal_dpdt\u001b[0m\n",
      "    - inputs: ['v_lv', 'q_mv', 'q_av']\n",
      " -- Variable \u001b[1m\u001b[93mq_av\u001b[0m added to the secondary variable key list.\n",
      "    - name of update function: \u001b[1m\u001b[93mnon_ideal_diode_flow + max_func\u001b[0m\n",
      "    - inputs: ['p_lv', 'p_ao']\n",
      " -- Variable \u001b[1m\u001b[93mp_ao\u001b[0m added to the init list.\n",
      "    - name of update function: \u001b[1m\u001b[93mgrounded_capacitor_model_pressure\u001b[0m\n",
      "    - inputs: ['v_ao']\n",
      " -- Variable \u001b[1m\u001b[93mp_ao\u001b[0m added to the principal variable key list.\n",
      "    - name of update function: \u001b[1m\u001b[93mgrounded_capacitor_model_dpdt\u001b[0m\n",
      "    - inputs: ['q_av', 'q_ao']\n",
      " -- Variable \u001b[1m\u001b[93mp_art\u001b[0m added to the init list.\n",
      "    - name of update function: \u001b[1m\u001b[93mgrounded_capacitor_model_pressure\u001b[0m\n",
      "    - inputs: ['v_art']\n",
      " -- Variable \u001b[1m\u001b[93mp_art\u001b[0m added to the principal variable key list.\n",
      "    - name of update function: \u001b[1m\u001b[93mgrounded_capacitor_model_dpdt\u001b[0m\n",
      "    - inputs: ['q_ao', 'q_art']\n",
      " -- Variable \u001b[1m\u001b[93mq_ao\u001b[0m added to the secondary variable key list.\n",
      "    - name of update function: \u001b[1m\u001b[93mresistor_model_flow\u001b[0m\n",
      "    - inputs: ['p_ao', 'p_art']\n",
      " -- Variable \u001b[1m\u001b[93mp_ven\u001b[0m added to the init list.\n",
      "    - name of update function: \u001b[1m\u001b[93mgrounded_capacitor_model_pressure\u001b[0m\n",
      "    - inputs: ['v_ven']\n",
      " -- Variable \u001b[1m\u001b[93mp_ven\u001b[0m added to the principal variable key list.\n",
      "    - name of update function: \u001b[1m\u001b[93mgrounded_capacitor_model_dpdt\u001b[0m\n",
      "    - inputs: ['q_art', 'q_ven']\n",
      " -- Variable \u001b[1m\u001b[93mq_art\u001b[0m added to the secondary variable key list.\n",
      "    - name of update function: \u001b[1m\u001b[93mresistor_model_flow\u001b[0m\n",
      "    - inputs: ['p_art', 'p_ven']\n",
      " -- Variable \u001b[1m\u001b[93mp_la\u001b[0m added to the init list.\n",
      "    - name of update function: \u001b[1m\u001b[93mtotal_p\u001b[0m\n",
      "    - inputs: ['v_la']\n",
      " -- Variable \u001b[1m\u001b[93mp_la\u001b[0m added to the principal variable key list.\n",
      "    - name of update function: \u001b[1m\u001b[93mtotal_dpdt\u001b[0m\n",
      "    - inputs: ['v_la', 'q_ven', 'q_mv']\n",
      " -- Variable \u001b[1m\u001b[93mq_ven\u001b[0m added to the secondary variable key list.\n",
      "    - name of update function: \u001b[1m\u001b[93mresistor_model_flow\u001b[0m\n",
      "    - inputs: ['p_ven', 'p_la']\n",
      " -- Variable \u001b[1m\u001b[93mq_mv\u001b[0m added to the secondary variable key list.\n",
      "    - name of update function: \u001b[1m\u001b[93mnon_ideal_diode_flow + max_func\u001b[0m\n",
      "    - inputs: ['p_la', 'p_lv']\n",
      " \n"
     ]
    }
   ],
   "source": [
    "solver = Solver(model=model)\n",
    "solver.setup()\n",
    "solver.solve()"
   ]
  },
  {
   "cell_type": "code",
   "execution_count": 35,
   "id": "cb513aac",
   "metadata": {},
   "outputs": [],
   "source": [
    "v_lv = solver.model.components['lv'].V.values\n",
    "p_lv = solver.model.components['lv'].P_i.values"
   ]
  }
 ],
 "metadata": {
  "kernelspec": {
   "display_name": "venv",
   "language": "python",
   "name": "python3"
  },
  "language_info": {
   "codemirror_mode": {
    "name": "ipython",
    "version": 3
   },
   "file_extension": ".py",
   "mimetype": "text/x-python",
   "name": "python",
   "nbconvert_exporter": "python",
   "pygments_lexer": "ipython3",
   "version": "3.11.13"
  }
 },
 "nbformat": 4,
 "nbformat_minor": 5
}
