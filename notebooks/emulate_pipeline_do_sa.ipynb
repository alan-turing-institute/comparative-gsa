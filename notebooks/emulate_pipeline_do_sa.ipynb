{
 "cells": [
  {
   "cell_type": "code",
   "execution_count": 1,
   "id": "a9919ffe",
   "metadata": {},
   "outputs": [],
   "source": [
    "import os\n",
    "import pandas as pd\n",
    "from autoemulate.core.compare import AutoEmulate\n",
    "from autoemulate.core.sensitivity_analysis import SensitivityAnalysis\n",
    "from ModularCirc import BatchRunner\n",
    "import torch\n",
    "from autoemulate.core.save import ModelSerialiser\n",
    "from autoemulate.core.logging_config import get_configured_logger\n",
    "import matplotlib.pyplot as plt\n",
    "\n",
    "from comparative_gsa.utils import helpers\n",
    "figsize = (9, 5)"
   ]
  },
  {
   "cell_type": "code",
   "execution_count": 2,
   "id": "e7637a4e",
   "metadata": {},
   "outputs": [],
   "source": [
    "param_filename = 'parameters_naghavi_constrained_fixed_T_v_tot_v_ref_lower_k_pas'\n",
    "\n",
    "n_samples = 2048\n",
    "\n",
    "simulation_out_path = f'../outputs/simulations/output_{n_samples}_samples_{param_filename}/'\n",
    "\n",
    "parameters_json_file = os.path.join(simulation_out_path, 'parameters.json')\n",
    "\n",
    "# Load the simulation input parameters\n",
    "input_params = pd.read_csv(os.path.join(simulation_out_path, f'input_samples_{n_samples}.csv'))\n",
    "\n",
    "# Load the summary statistics\n",
    "summary_stats = pd.read_csv(os.path.join(simulation_out_path, f'simulations_summary.csv'))\n",
    "\n",
    "output_to_emulate = 'p_ao_max'\n",
    "\n",
    "emulators_path = os.path.join(simulation_out_path, 'emulators', output_to_emulate)"
   ]
  },
  {
   "cell_type": "code",
   "execution_count": 3,
   "id": "6d01b70f",
   "metadata": {},
   "outputs": [
    {
     "data": {
      "text/plain": [
       "{'ao.r': (195.0, 325.0),\n",
       " 'ao.c': (0.22499999999999998, 0.375),\n",
       " 'art.r': (843.75, 1406.25),\n",
       " 'art.c': (2.25, 3.75),\n",
       " 'ven.r': (6.75, 11.25),\n",
       " 'ven.c': (84.975, 141.625),\n",
       " 'av.r': (4.5, 7.5),\n",
       " 'mv.r': (3.0749999999999997, 5.125),\n",
       " 'la.E_pas': (0.22499999999999998, 0.375),\n",
       " 'la.E_act': (0.41250000000000003, 0.6875),\n",
       " 'la.k_pas': (0.00666, 0.03),\n",
       " 'lv.E_pas': (0.75, 1.25),\n",
       " 'lv.E_act': (2.25, 3.75),\n",
       " 'lv.k_pas': (0.00666, 0.03)}"
      ]
     },
     "execution_count": 3,
     "metadata": {},
     "output_type": "execute_result"
    }
   ],
   "source": [
    "# Use ModularCirc's BatchRunner to condense parameter names. This requires setting up the sampler first.\n",
    "br = BatchRunner()\n",
    "\n",
    "br.setup_sampler(parameters_json_file)\n",
    "\n",
    "br._parameters_2_sample"
   ]
  },
  {
   "cell_type": "code",
   "execution_count": 4,
   "id": "e4793cd3",
   "metadata": {},
   "outputs": [],
   "source": [
    "# Get column names for parameters up to 'lv.k_pas'\n",
    "parameter_names = list(input_params.columns[:input_params.columns.get_loc('lv.k_pas') + 1])"
   ]
  },
  {
   "cell_type": "code",
   "execution_count": 5,
   "id": "d2b9f90e",
   "metadata": {},
   "outputs": [
    {
     "data": {
      "text/plain": [
       "[(195.0, 325.0),\n",
       " (0.22499999999999998, 0.375),\n",
       " (843.75, 1406.25),\n",
       " (2.25, 3.75),\n",
       " (6.75, 11.25),\n",
       " (84.975, 141.625),\n",
       " (4.5, 7.5),\n",
       " (3.0749999999999997, 5.125),\n",
       " (0.22499999999999998, 0.375),\n",
       " (0.41250000000000003, 0.6875),\n",
       " (0.00666, 0.03),\n",
       " (0.75, 1.25),\n",
       " (2.25, 3.75),\n",
       " (0.00666, 0.03)]"
      ]
     },
     "execution_count": 5,
     "metadata": {},
     "output_type": "execute_result"
    }
   ],
   "source": [
    "# Extract parameter names and bounds from the dictionary\n",
    "parameters_range = br._parameters_2_sample\n",
    "\n",
    "parameter_names = list(parameters_range.keys())\n",
    "parameter_bounds = list(parameters_range.values())\n",
    "\n",
    "parameter_bounds"
   ]
  },
  {
   "cell_type": "code",
   "execution_count": null,
   "id": "ac334029",
   "metadata": {},
   "outputs": [
    {
     "name": "stderr",
     "output_type": "stream",
     "text": [
      "Failed to load model from ../outputs/simulations/output_2048_samples_parameters_naghavi_constrained_fixed_T_v_tot_v_ref_lower_k_pas/emulators/p_ao_max/MLP_0_20250820_162654.joblib: [Errno 2] No such file or directory: '../outputs/simulations/output_2048_samples_parameters_naghavi_constrained_fixed_T_v_tot_v_ref_lower_k_pas/emulators/p_ao_max/MLP_0_20250820_162654.joblib'\n"
     ]
    },
    {
     "ename": "FileNotFoundError",
     "evalue": "[Errno 2] No such file or directory: '../outputs/simulations/output_2048_samples_parameters_naghavi_constrained_fixed_T_v_tot_v_ref_lower_k_pas/emulators/p_ao_max/MLP_0_20250820_162654.joblib'",
     "output_type": "error",
     "traceback": [
      "\u001b[31m---------------------------------------------------------------------------\u001b[39m",
      "\u001b[31mFileNotFoundError\u001b[39m                         Traceback (most recent call last)",
      "\u001b[36mCell\u001b[39m\u001b[36m \u001b[39m\u001b[32mIn[6]\u001b[39m\u001b[32m, line 6\u001b[39m\n\u001b[32m      1\u001b[39m problem = {\n\u001b[32m      2\u001b[39m     \u001b[33m'\u001b[39m\u001b[33mnum_vars\u001b[39m\u001b[33m'\u001b[39m: \u001b[38;5;28mlen\u001b[39m(parameter_names),\n\u001b[32m      3\u001b[39m     \u001b[33m'\u001b[39m\u001b[33mnames\u001b[39m\u001b[33m'\u001b[39m: parameter_names,\n\u001b[32m      4\u001b[39m     \u001b[33m'\u001b[39m\u001b[33mbounds\u001b[39m\u001b[33m'\u001b[39m: parameter_bounds,\n\u001b[32m      5\u001b[39m }\n\u001b[32m----> \u001b[39m\u001b[32m6\u001b[39m ae_results = \u001b[43mhelpers\u001b[49m\u001b[43m.\u001b[49m\u001b[43mae_load_result\u001b[49m\u001b[43m(\u001b[49m\u001b[43mos\u001b[49m\u001b[43m.\u001b[49m\u001b[43mpath\u001b[49m\u001b[43m.\u001b[49m\u001b[43mjoin\u001b[49m\u001b[43m(\u001b[49m\u001b[43memulators_path\u001b[49m\u001b[43m,\u001b[49m\u001b[43m \u001b[49m\u001b[33;43m'\u001b[39;49m\u001b[33;43mMLP_0_20250820_162654\u001b[39;49m\u001b[33;43m'\u001b[39;49m\u001b[43m)\u001b[49m\u001b[43m)\u001b[49m\n\u001b[32m      7\u001b[39m sa = SensitivityAnalysis(ae_results.model, problem=problem)\n",
      "\u001b[36mFile \u001b[39m\u001b[32m~/projects/health_gc/cvd_net_project/comparative-gsa/src/comparative_gsa/utils/helpers.py:30\u001b[39m, in \u001b[36mae_load_result\u001b[39m\u001b[34m(path)\u001b[39m\n\u001b[32m     28\u001b[39m \u001b[38;5;28;01melse\u001b[39;00m:\n\u001b[32m     29\u001b[39m     model_path = Path(path)\n\u001b[32m---> \u001b[39m\u001b[32m30\u001b[39m model = \u001b[43mae_load_model\u001b[49m\u001b[43m(\u001b[49m\u001b[43mmodel_path\u001b[49m\u001b[43m)\u001b[49m\n\u001b[32m     31\u001b[39m metadata_path = Path(\u001b[33mf\u001b[39m\u001b[33m\"\u001b[39m\u001b[38;5;132;01m{\u001b[39;00mpath\u001b[38;5;132;01m}\u001b[39;00m\u001b[33m_metadata.csv\u001b[39m\u001b[33m\"\u001b[39m)\n\u001b[32m     32\u001b[39m \u001b[38;5;28;01mtry\u001b[39;00m:\n",
      "\u001b[36mFile \u001b[39m\u001b[32m~/projects/health_gc/cvd_net_project/comparative-gsa/src/comparative_gsa/utils/helpers.py:68\u001b[39m, in \u001b[36mae_load_model\u001b[39m\u001b[34m(path)\u001b[39m\n\u001b[32m     66\u001b[39m path = Path(path)\n\u001b[32m     67\u001b[39m \u001b[38;5;28;01mtry\u001b[39;00m:\n\u001b[32m---> \u001b[39m\u001b[32m68\u001b[39m     model = \u001b[43mjoblib\u001b[49m\u001b[43m.\u001b[49m\u001b[43mload\u001b[49m\u001b[43m(\u001b[49m\u001b[43mpath\u001b[49m\u001b[43m)\u001b[49m\n\u001b[32m     69\u001b[39m     logger.info(\u001b[33m\"\u001b[39m\u001b[33mModel loaded from \u001b[39m\u001b[38;5;132;01m%s\u001b[39;00m\u001b[33m\"\u001b[39m, path)\n\u001b[32m     70\u001b[39m     \u001b[38;5;28;01mreturn\u001b[39;00m model\n",
      "\u001b[36mFile \u001b[39m\u001b[32m~/projects/health_gc/cvd_net_project/comparative-gsa/venv/lib/python3.12/site-packages/joblib/numpy_pickle.py:735\u001b[39m, in \u001b[36mload\u001b[39m\u001b[34m(filename, mmap_mode, ensure_native_byte_order)\u001b[39m\n\u001b[32m    733\u001b[39m         obj = _unpickle(fobj, ensure_native_byte_order=ensure_native_byte_order)\n\u001b[32m    734\u001b[39m \u001b[38;5;28;01melse\u001b[39;00m:\n\u001b[32m--> \u001b[39m\u001b[32m735\u001b[39m     \u001b[38;5;28;01mwith\u001b[39;00m \u001b[38;5;28;43mopen\u001b[39;49m\u001b[43m(\u001b[49m\u001b[43mfilename\u001b[49m\u001b[43m,\u001b[49m\u001b[43m \u001b[49m\u001b[33;43m\"\u001b[39;49m\u001b[33;43mrb\u001b[39;49m\u001b[33;43m\"\u001b[39;49m\u001b[43m)\u001b[49m \u001b[38;5;28;01mas\u001b[39;00m f:\n\u001b[32m    736\u001b[39m         \u001b[38;5;28;01mwith\u001b[39;00m _validate_fileobject_and_memmap(f, filename, mmap_mode) \u001b[38;5;28;01mas\u001b[39;00m (\n\u001b[32m    737\u001b[39m             fobj,\n\u001b[32m    738\u001b[39m             validated_mmap_mode,\n\u001b[32m    739\u001b[39m         ):\n\u001b[32m    740\u001b[39m             \u001b[38;5;28;01mif\u001b[39;00m \u001b[38;5;28misinstance\u001b[39m(fobj, \u001b[38;5;28mstr\u001b[39m):\n\u001b[32m    741\u001b[39m                 \u001b[38;5;66;03m# if the returned file object is a string, this means we\u001b[39;00m\n\u001b[32m    742\u001b[39m                 \u001b[38;5;66;03m# try to load a pickle file generated with an version of\u001b[39;00m\n\u001b[32m    743\u001b[39m                 \u001b[38;5;66;03m# Joblib so we load it with joblib compatibility function.\u001b[39;00m\n",
      "\u001b[31mFileNotFoundError\u001b[39m: [Errno 2] No such file or directory: '../outputs/simulations/output_2048_samples_parameters_naghavi_constrained_fixed_T_v_tot_v_ref_lower_k_pas/emulators/p_ao_max/MLP_0_20250820_162654.joblib'"
     ]
    }
   ],
   "source": [
    "problem = {\n",
    "    'num_vars': len(parameter_names),\n",
    "    'names': parameter_names,\n",
    "    'bounds': parameter_bounds,\n",
    "}\n",
    "ae_results = helpers.ae_load_result(os.path.join(emulators_path, 'MLP_0_20250820_160858'))\n",
    "sa = SensitivityAnalysis(ae_results.model, problem=problem)"
   ]
  },
  {
   "cell_type": "code",
   "execution_count": null,
   "id": "05770221",
   "metadata": {},
   "outputs": [
    {
     "name": "stderr",
     "output_type": "stream",
     "text": [
      "/Users/lbokeria/projects/health_gc/cvd_net_project/comparative-gsa/venv/lib/python3.12/site-packages/SALib/util/__init__.py:274: FutureWarning: unique with argument that is not not a Series, Index, ExtensionArray, or np.ndarray is deprecated and will raise in a future version.\n",
      "  names = list(pd.unique(groups))\n"
     ]
    },
    {
     "name": "stdout",
     "output_type": "stream",
     "text": [
      "14\n"
     ]
    },
    {
     "data": {
      "application/vnd.microsoft.datawrangler.viewer.v0+json": {
       "columns": [
        {
         "name": "index",
         "rawType": "int64",
         "type": "integer"
        },
        {
         "name": "output",
         "rawType": "object",
         "type": "string"
        },
        {
         "name": "parameter",
         "rawType": "object",
         "type": "unknown"
        },
        {
         "name": "index",
         "rawType": "object",
         "type": "string"
        },
        {
         "name": "value",
         "rawType": "float64",
         "type": "float"
        },
        {
         "name": "confidence",
         "rawType": "float64",
         "type": "float"
        }
       ],
       "ref": "dc8c5ed1-146a-4a3c-b3d6-573a9fd2daac",
       "rows": [
        [
         "0",
         "y1",
         "ao.r",
         "S1",
         "0.00183614129830868",
         "0.00014782954749061072"
        ],
        [
         "1",
         "y1",
         "ao.c",
         "S1",
         "0.0006156537061916962",
         "5.177279994162579e-05"
        ],
        [
         "2",
         "y1",
         "art.r",
         "S1",
         "0.006575223814665686",
         "0.00043660960241414116"
        ],
        [
         "3",
         "y1",
         "art.c",
         "S1",
         "0.01056047564480168",
         "0.0006034733084192601"
        ],
        [
         "4",
         "y1",
         "ven.r",
         "S1",
         "0.01145864652421128",
         "0.0008639270472605137"
        ],
        [
         "5",
         "y1",
         "ven.c",
         "S1",
         "0.047522185184421854",
         "0.002903746413848665"
        ],
        [
         "6",
         "y1",
         "av.r",
         "S1",
         "8.94896333855669e-05",
         "8.604605830810062e-06"
        ],
        [
         "7",
         "y1",
         "mv.r",
         "S1",
         "0.003015507176515755",
         "0.00026904908746195596"
        ],
        [
         "8",
         "y1",
         "la.E_pas",
         "S1",
         "0.009633576662613177",
         "0.0005750931893979608"
        ],
        [
         "9",
         "y1",
         "la.E_act",
         "S1",
         "0.011230443737153172",
         "0.0007550473671507357"
        ],
        [
         "10",
         "y1",
         "la.k_pas",
         "S1",
         "0.5503270862749905",
         "0.025488504184222337"
        ],
        [
         "11",
         "y1",
         "lv.E_pas",
         "S1",
         "0.0060510807783341865",
         "0.0004350772362960066"
        ],
        [
         "12",
         "y1",
         "lv.E_act",
         "S1",
         "0.009104535337023139",
         "0.0008122287431040292"
        ],
        [
         "13",
         "y1",
         "lv.k_pas",
         "S1",
         "0.4076661044868859",
         "0.02359796709921879"
        ],
        [
         "0",
         "y1",
         "ao.r",
         "ST",
         "0.0014658724069940704",
         "0.0019165210548622964"
        ],
        [
         "1",
         "y1",
         "ao.c",
         "ST",
         "0.001062598588874417",
         "0.0009037634302564213"
        ],
        [
         "2",
         "y1",
         "art.r",
         "ST",
         "0.005088567818205442",
         "0.003188575654142323"
        ],
        [
         "3",
         "y1",
         "art.c",
         "ST",
         "0.008247586675899997",
         "0.003968148263778591"
        ],
        [
         "4",
         "y1",
         "ven.r",
         "ST",
         "0.005087637666633447",
         "0.005164134260861584"
        ],
        [
         "5",
         "y1",
         "ven.c",
         "ST",
         "0.03986883103399165",
         "0.009378302371187355"
        ],
        [
         "6",
         "y1",
         "av.r",
         "ST",
         "-0.00040646034962201345",
         "0.0004081600973497805"
        ],
        [
         "7",
         "y1",
         "mv.r",
         "ST",
         "0.002052294080611066",
         "0.0023849162084045726"
        ],
        [
         "8",
         "y1",
         "la.E_pas",
         "ST",
         "0.007765703731379575",
         "0.004198206706033387"
        ],
        [
         "9",
         "y1",
         "la.E_act",
         "ST",
         "0.009302248661367753",
         "0.004477236620510069"
        ],
        [
         "10",
         "y1",
         "la.k_pas",
         "ST",
         "0.4950674658467526",
         "0.030998529933770558"
        ],
        [
         "11",
         "y1",
         "lv.E_pas",
         "ST",
         "0.003196220082071768",
         "0.0032636778523231374"
        ],
        [
         "12",
         "y1",
         "lv.E_act",
         "ST",
         "0.006127971255739362",
         "0.004537685730163988"
        ],
        [
         "13",
         "y1",
         "lv.k_pas",
         "ST",
         "0.34469116529413535",
         "0.026227898281294366"
        ],
        [
         "0",
         "y1",
         "('ao.r', 'ao.c')",
         "S2",
         "-0.000650840124436035",
         "0.002925374048817016"
        ],
        [
         "1",
         "y1",
         "('ao.r', 'art.r')",
         "S2",
         "-0.0006496871014294156",
         "0.002910834697063408"
        ],
        [
         "2",
         "y1",
         "('ao.r', 'art.c')",
         "S2",
         "-0.000619765305992245",
         "0.002921209546589759"
        ],
        [
         "3",
         "y1",
         "('ao.r', 'ven.r')",
         "S2",
         "-0.0006135256157233778",
         "0.002939907186894441"
        ],
        [
         "4",
         "y1",
         "('ao.r', 'ven.c')",
         "S2",
         "-0.0005933748181044182",
         "0.002895763072765506"
        ],
        [
         "5",
         "y1",
         "('ao.r', 'av.r')",
         "S2",
         "-0.0006963210016247806",
         "0.002920822089529214"
        ],
        [
         "6",
         "y1",
         "('ao.r', 'mv.r')",
         "S2",
         "-0.0006783857991163578",
         "0.0029377140642216073"
        ],
        [
         "7",
         "y1",
         "('ao.r', 'la.E_pas')",
         "S2",
         "-0.0007447613964528818",
         "0.002949989411781096"
        ],
        [
         "8",
         "y1",
         "('ao.r', 'la.E_act')",
         "S2",
         "-0.0006520655550202245",
         "0.0029994275056623985"
        ],
        [
         "9",
         "y1",
         "('ao.r', 'la.k_pas')",
         "S2",
         "-0.00040735956349607916",
         "0.0040632756176432715"
        ],
        [
         "10",
         "y1",
         "('ao.r', 'lv.E_pas')",
         "S2",
         "-0.000694210369253529",
         "0.002920061585072654"
        ],
        [
         "11",
         "y1",
         "('ao.r', 'lv.E_act')",
         "S2",
         "-0.0007321586533948167",
         "0.0029287602352865393"
        ],
        [
         "12",
         "y1",
         "('ao.r', 'lv.k_pas')",
         "S2",
         "-0.0003206478675497615",
         "0.0033337746421180808"
        ],
        [
         "13",
         "y1",
         "('ao.c', 'art.r')",
         "S2",
         "-0.0007899614735882429",
         "0.001325289827585458"
        ],
        [
         "14",
         "y1",
         "('ao.c', 'art.c')",
         "S2",
         "-0.0007579067023720095",
         "0.0012509084010054964"
        ],
        [
         "15",
         "y1",
         "('ao.c', 'ven.r')",
         "S2",
         "-0.0008414880254332627",
         "0.0012883574613699173"
        ],
        [
         "16",
         "y1",
         "('ao.c', 'ven.c')",
         "S2",
         "-0.0008392455965492776",
         "0.001292755075123823"
        ],
        [
         "17",
         "y1",
         "('ao.c', 'av.r')",
         "S2",
         "-0.0008058134804772091",
         "0.0012896593893772666"
        ],
        [
         "18",
         "y1",
         "('ao.c', 'mv.r')",
         "S2",
         "-0.0008253798863878624",
         "0.0012981594813405327"
        ],
        [
         "19",
         "y1",
         "('ao.c', 'la.E_pas')",
         "S2",
         "-0.0007804791105824067",
         "0.001303432219370259"
        ],
        [
         "20",
         "y1",
         "('ao.c', 'la.E_act')",
         "S2",
         "-0.0007959143656489642",
         "0.0012943572519979046"
        ],
        [
         "21",
         "y1",
         "('ao.c', 'la.k_pas')",
         "S2",
         "-0.0005670295414452187",
         "0.0015258349259775197"
        ]
       ],
       "shape": {
        "columns": 5,
        "rows": 119
       }
      },
      "text/html": [
       "<div>\n",
       "<style scoped>\n",
       "    .dataframe tbody tr th:only-of-type {\n",
       "        vertical-align: middle;\n",
       "    }\n",
       "\n",
       "    .dataframe tbody tr th {\n",
       "        vertical-align: top;\n",
       "    }\n",
       "\n",
       "    .dataframe thead th {\n",
       "        text-align: right;\n",
       "    }\n",
       "</style>\n",
       "<table border=\"1\" class=\"dataframe\">\n",
       "  <thead>\n",
       "    <tr style=\"text-align: right;\">\n",
       "      <th></th>\n",
       "      <th>output</th>\n",
       "      <th>parameter</th>\n",
       "      <th>index</th>\n",
       "      <th>value</th>\n",
       "      <th>confidence</th>\n",
       "    </tr>\n",
       "  </thead>\n",
       "  <tbody>\n",
       "    <tr>\n",
       "      <th>0</th>\n",
       "      <td>y1</td>\n",
       "      <td>ao.r</td>\n",
       "      <td>S1</td>\n",
       "      <td>0.001836</td>\n",
       "      <td>0.000148</td>\n",
       "    </tr>\n",
       "    <tr>\n",
       "      <th>1</th>\n",
       "      <td>y1</td>\n",
       "      <td>ao.c</td>\n",
       "      <td>S1</td>\n",
       "      <td>0.000616</td>\n",
       "      <td>0.000052</td>\n",
       "    </tr>\n",
       "    <tr>\n",
       "      <th>2</th>\n",
       "      <td>y1</td>\n",
       "      <td>art.r</td>\n",
       "      <td>S1</td>\n",
       "      <td>0.006575</td>\n",
       "      <td>0.000437</td>\n",
       "    </tr>\n",
       "    <tr>\n",
       "      <th>3</th>\n",
       "      <td>y1</td>\n",
       "      <td>art.c</td>\n",
       "      <td>S1</td>\n",
       "      <td>0.010560</td>\n",
       "      <td>0.000603</td>\n",
       "    </tr>\n",
       "    <tr>\n",
       "      <th>4</th>\n",
       "      <td>y1</td>\n",
       "      <td>ven.r</td>\n",
       "      <td>S1</td>\n",
       "      <td>0.011459</td>\n",
       "      <td>0.000864</td>\n",
       "    </tr>\n",
       "    <tr>\n",
       "      <th>...</th>\n",
       "      <td>...</td>\n",
       "      <td>...</td>\n",
       "      <td>...</td>\n",
       "      <td>...</td>\n",
       "      <td>...</td>\n",
       "    </tr>\n",
       "    <tr>\n",
       "      <th>86</th>\n",
       "      <td>y1</td>\n",
       "      <td>(la.k_pas, lv.E_act)</td>\n",
       "      <td>S2</td>\n",
       "      <td>-0.001291</td>\n",
       "      <td>0.048596</td>\n",
       "    </tr>\n",
       "    <tr>\n",
       "      <th>87</th>\n",
       "      <td>y1</td>\n",
       "      <td>(la.k_pas, lv.k_pas)</td>\n",
       "      <td>S2</td>\n",
       "      <td>0.048338</td>\n",
       "      <td>0.057902</td>\n",
       "    </tr>\n",
       "    <tr>\n",
       "      <th>88</th>\n",
       "      <td>y1</td>\n",
       "      <td>(lv.E_pas, lv.E_act)</td>\n",
       "      <td>S2</td>\n",
       "      <td>0.003713</td>\n",
       "      <td>0.004786</td>\n",
       "    </tr>\n",
       "    <tr>\n",
       "      <th>89</th>\n",
       "      <td>y1</td>\n",
       "      <td>(lv.E_pas, lv.k_pas)</td>\n",
       "      <td>S2</td>\n",
       "      <td>0.004029</td>\n",
       "      <td>0.005569</td>\n",
       "    </tr>\n",
       "    <tr>\n",
       "      <th>90</th>\n",
       "      <td>y1</td>\n",
       "      <td>(lv.E_act, lv.k_pas)</td>\n",
       "      <td>S2</td>\n",
       "      <td>0.000925</td>\n",
       "      <td>0.007777</td>\n",
       "    </tr>\n",
       "  </tbody>\n",
       "</table>\n",
       "<p>119 rows × 5 columns</p>\n",
       "</div>"
      ],
      "text/plain": [
       "   output             parameter index     value  confidence\n",
       "0      y1                  ao.r    S1  0.001836    0.000148\n",
       "1      y1                  ao.c    S1  0.000616    0.000052\n",
       "2      y1                 art.r    S1  0.006575    0.000437\n",
       "3      y1                 art.c    S1  0.010560    0.000603\n",
       "4      y1                 ven.r    S1  0.011459    0.000864\n",
       "..    ...                   ...   ...       ...         ...\n",
       "86     y1  (la.k_pas, lv.E_act)    S2 -0.001291    0.048596\n",
       "87     y1  (la.k_pas, lv.k_pas)    S2  0.048338    0.057902\n",
       "88     y1  (lv.E_pas, lv.E_act)    S2  0.003713    0.004786\n",
       "89     y1  (lv.E_pas, lv.k_pas)    S2  0.004029    0.005569\n",
       "90     y1  (lv.E_act, lv.k_pas)    S2  0.000925    0.007777\n",
       "\n",
       "[119 rows x 5 columns]"
      ]
     },
     "execution_count": 24,
     "metadata": {},
     "output_type": "execute_result"
    }
   ],
   "source": [
    "sobol_df = sa.run(method=\"sobol\", n_samples=1024*2*2)\n",
    "sobol_df"
   ]
  },
  {
   "cell_type": "code",
   "execution_count": null,
   "id": "534d7187",
   "metadata": {},
   "outputs": [],
   "source": [
    "# Due to a bug in autoemulate plotting, we must swap ST and S1 rows.\n",
    "\n",
    "# Get the indices of rows where index == 'ST'\n",
    "mask_st = sobol_df['index'] == 'ST'\n",
    "mask_s1 = sobol_df['index'] == 'S1'\n",
    "\n",
    "# For those rows, change the index to be 'S1'\n",
    "sobol_df.loc[mask_st, 'index'] = 'S1'\n",
    "\n",
    "# For those rows, change the index to be 'ST'\n",
    "sobol_df.loc[mask_s1, 'index'] = 'ST'"
   ]
  },
  {
   "cell_type": "code",
   "execution_count": null,
   "id": "110dbd05",
   "metadata": {},
   "outputs": [
    {
     "data": {
      "image/png": "[encoded data removed]",
      "text/plain": [
       "<Figure size 900x500 with 1 Axes>"
      ]
     },
     "execution_count": 26,
     "metadata": {},
     "output_type": "execute_result"
    }
   ],
   "source": [
    "sa.plot_sobol(sobol_df, index=\"ST\", figsize=figsize) "
   ]
  },
  {
   "cell_type": "code",
   "execution_count": null,
   "id": "4a6d7ece",
   "metadata": {},
   "outputs": [
    {
     "data": {
      "image/png": "[encoded data removed]",
      "text/plain": [
       "<Figure size 900x500 with 1 Axes>"
      ]
     },
     "execution_count": 27,
     "metadata": {},
     "output_type": "execute_result"
    }
   ],
   "source": [
    "sa.plot_sobol(sobol_df, index=\"S1\", figsize=figsize) "
   ]
  },
  {
   "cell_type": "code",
   "execution_count": null,
   "id": "f883632e",
   "metadata": {},
   "outputs": [
    {
     "name": "stdout",
     "output_type": "stream",
     "text": [
      "S1 plot saved to: ../outputs/simulations/output_2048_samples_parameters_naghavi_constrained_fixed_T_v_tot_v_ref_lower_k_pas/plots/p_la_max_2048_samples\n",
      "ST plot saved to: ../outputs/simulations/output_2048_samples_parameters_naghavi_constrained_fixed_T_v_tot_v_ref_lower_k_pas/plots/p_la_max_2048_samples\n"
     ]
    }
   ],
   "source": [
    "# Create directories for saving plots if they don't exist\n",
    "plots_dir = os.path.join(simulation_out_path, 'plots', f'{output_to_emulate}_{n_samples}_samples')\n",
    "os.makedirs(plots_dir, exist_ok=True)\n",
    "\n",
    "figsize = (9, 5)\n",
    "\n",
    "# Plot and save S1\n",
    "fig_S1 = SensitivityAnalysis.plot_sobol(sobol_df, index=\"S1\", figsize=figsize)\n",
    "if fig_S1 is None:\n",
    "    # If the function does not return a fig, get the current figure instead\n",
    "    fig_S1 = plt.gcf()\n",
    "fig_S1.savefig(os.path.join(plots_dir, f'S1_{output_to_emulate}_{n_samples}_samples.png'), \n",
    "               dpi=300, bbox_inches='tight')\n",
    "plt.close(fig_S1)  # Close the figure to free memory\n",
    "\n",
    "print(f\"S1 plot saved to: {plots_dir}\")\n",
    "\n",
    "# Plot and save ST\n",
    "fig_ST = SensitivityAnalysis.plot_sobol(sobol_df, index=\"ST\", figsize=figsize)\n",
    "if fig_ST is None:\n",
    "    fig_ST = plt.gcf()\n",
    "fig_ST.savefig(os.path.join(plots_dir, f'ST_{output_to_emulate}_{n_samples}_samples.png'), \n",
    "               dpi=300, bbox_inches='tight')\n",
    "plt.close(fig_ST)\n",
    "\n",
    "print(f\"ST plot saved to: {plots_dir}\")"
   ]
  }
 ],
 "metadata": {
  "kernelspec": {
   "display_name": "venv",
   "language": "python",
   "name": "python3"
  },
  "language_info": {
   "codemirror_mode": {
    "name": "ipython",
    "version": 3
   },
   "file_extension": ".py",
   "mimetype": "text/x-python",
   "name": "python",
   "nbconvert_exporter": "python",
   "pygments_lexer": "ipython3",
   "version": "3.12.11"
  }
 },
 "nbformat": 4,
 "nbformat_minor": 5
}
