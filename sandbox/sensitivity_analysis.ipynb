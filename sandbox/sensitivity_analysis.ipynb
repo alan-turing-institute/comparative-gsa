{
 "cells": [
  {
   "cell_type": "code",
   "execution_count": 1,
   "id": "2388fde8",
   "metadata": {},
   "outputs": [],
   "source": [
    "import os\n",
    "import numpy as np\n",
    "import pandas as pd\n",
    "from SALib.analyze.sobol import analyze\n",
    "from SALib.sample.sobol import sample as sobol_sample\n",
    "from SALib.analyze.sobol import analyze as sobol_analyze\n",
    "import matplotlib.pyplot as plt\n",
    "from autoemulate.compare import AutoEmulate\n",
    "from SALib.analyze.sobol import analyze\n",
    "import numpy as np\n",
    "import json\n",
    "from SALib.sample import saltelli\n",
    "from SALib.analyze import sobol"
   ]
  },
  {
   "cell_type": "code",
   "execution_count": 2,
   "id": "4e37b05f",
   "metadata": {},
   "outputs": [],
   "source": [
    "# Load them back\n",
    "n_samples = 256\n",
    "simulation_out_path = f'outputs/simulations/output_{n_samples}_samples'\n",
    "\n",
    "with open(os.path.join(simulation_out_path,\"bool_indices.json\"), 'r') as f:\n",
    "    bool_indices = json.load(f)"
   ]
  },
  {
   "cell_type": "markdown",
   "id": "707ef8d2",
   "metadata": {},
   "source": [
    "- load input_256_samples.csv\n",
    "- load simulation_summary.csv \n",
    "\n",
    "Get rid of those rows in input_256_camples that correspond to bool_indices"
   ]
  },
  {
   "cell_type": "code",
   "execution_count": 3,
   "id": "1858ad94",
   "metadata": {},
   "outputs": [
    {
     "name": "stdout",
     "output_type": "stream",
     "text": [
      "Loaded input samples: (256, 35)\n",
      "Loaded simulation summary: (255, 32)\n"
     ]
    }
   ],
   "source": [
    "# Load input_256_samples.csv\n",
    "input_csv = os.path.join(simulation_out_path, \"input_samples_256.csv\")\n",
    "X = pd.read_csv(input_csv)\n",
    "print(\"Loaded input samples:\", X.shape)\n",
    "\n",
    "# Load simulation_summary.csv\n",
    "summary_csv = os.path.join(simulation_out_path, \"simulations_summary.csv\")\n",
    "Y = pd.read_csv(summary_csv)\n",
    "print(\"Loaded simulation summary:\", Y.shape)"
   ]
  },
  {
   "cell_type": "code",
   "execution_count": 4,
   "id": "35f93671",
   "metadata": {},
   "outputs": [
    {
     "name": "stdout",
     "output_type": "stream",
     "text": [
      "Cleaned input samples: (255, 35)\n"
     ]
    }
   ],
   "source": [
    "# Lets get cleaning and removing \n",
    "# Remove rows at the indices in bool_indices\n",
    "X_cleaned = X.drop(index=bool_indices).reset_index(drop=True)\n",
    "print(\"Cleaned input samples:\", X_cleaned.shape)  # Should be (255, 35)"
   ]
  },
  {
   "cell_type": "code",
   "execution_count": 5,
   "id": "d6bb97a1",
   "metadata": {},
   "outputs": [],
   "source": [
    "# Generate random 128 indices between 0-255\n",
    "random_indices = np.random.choice(X_cleaned.index, size=128, replace=False)\n",
    "\n",
    "# Select the rows at these indices\n",
    "X_random = X_cleaned.loc[random_indices].reset_index(drop=True)\n",
    "\n",
    "# do the same for Y\n",
    "Y_random = Y.loc[random_indices].reset_index(drop=True)"
   ]
  },
  {
   "cell_type": "code",
   "execution_count": 6,
   "id": "247d8533",
   "metadata": {},
   "outputs": [
    {
     "name": "stdout",
     "output_type": "stream",
     "text": [
      "{'num_vars': 35, 'names': ['ao.r', 'ao.c', 'art.r', 'art.c', 'ven.r', 'ven.c', 'av.r', 'mv.r', 'la.E_pas', 'la.E_act', 'la.v_ref', 'la.k_pas', 'lv.E_pas', 'lv.E_act', 'lv.v_ref', 'lv.k_pas', 'T', 'ao.l', 'ao.v_ref', 'art.l', 'art.v_ref', 'ven.l', 'ven.v_ref', 'la.v', 'la.delay', 'la.t_tr', 'la.tau', 'la.t_max', 'lv.delay', 'lv.t_tr', 'lv.tau', 'lv.t_max', 'ao.v', 'art.v', 'ven.v'], 'bounds': [[120.4730413109064, 356.97165973484516], [0.1501288413070142, 0.4497803824022411], [566.5598240448162, 1680.8077952591702], [1.5169116714969275, 4.496986096724868], [4.507128020748496, 13.392014248296618], [67.19221204295755, 199.50710692759608], [3.0191556215286255, 8.935366937890649], [2.060695794876665, 6.149927610345184], [0.2251653180643916, 0.6590420363843441], [0.2264461976476013, 0.673807582911104], [5.00167858786881, 14.911303641274571], [0.0170368927636183, 0.0747955199363641], [0.5108328396454453, 1.496269602328539], [1.511625526472926, 4.49680962972343], [5.069448268041015, 14.984136689454315], [0.0101046401275321, 0.0447869439997058], [313.10491785407066, 1193.0236967280507], [0, 0], [100, 100], [0, 0], [900, 900], [0, 0], [2800, 2800], [93, 93], [46.9657376781106, 178.9535545092076], [70.4486065171659, 268.4303317638114], [7.827622946351767, 29.825592418201268], [46.9657376781106, 178.9535545092076], [0, 0], [131.50406549870968, 501.0699526257813], [7.827622946351767, 29.825592418201268], [87.66937699913979, 334.0466350838542], [3.021020212574987, 36.882424492089335], [36.26346389284461, 291.0902746907552], [3485.6672025433813, 6291.4992688361945]]}\n"
     ]
    }
   ],
   "source": [
    "parameter_names = list(X.columns)\n",
    "parameter_bounds = []\n",
    "for name in parameter_names:\n",
    "    min_val = X_random[name].min()\n",
    "    max_val = X_random[name].max()\n",
    "    parameter_bounds.append([min_val, max_val])\n",
    "\n",
    "problem = {\n",
    "    'num_vars': len(parameter_names),\n",
    "    'names': parameter_names,\n",
    "    'bounds': parameter_bounds\n",
    "}\n",
    "print(problem)\n",
    "\n"
   ]
  },
  {
   "cell_type": "code",
   "execution_count": 7,
   "id": "b6f23f72",
   "metadata": {},
   "outputs": [
    {
     "name": "stderr",
     "output_type": "stream",
     "text": [
      "/Users/syonis/project/comparative-gsa/venv/lib/python3.11/site-packages/SALib/util/__init__.py:274: FutureWarning: unique with argument that is not not a Series, Index, ExtensionArray, or np.ndarray is deprecated and will raise in a future version.\n",
      "  names = list(pd.unique(groups))\n"
     ]
    },
    {
     "ename": "RuntimeError",
     "evalue": "\n        Incorrect number of samples in model output file.\n        Confirm that calc_second_order matches option used during sampling.",
     "output_type": "error",
     "traceback": [
      "\u001b[31m---------------------------------------------------------------------------\u001b[39m",
      "\u001b[31mRuntimeError\u001b[39m                              Traceback (most recent call last)",
      "\u001b[36mCell\u001b[39m\u001b[36m \u001b[39m\u001b[32mIn[7]\u001b[39m\u001b[32m, line 8\u001b[39m\n\u001b[32m      5\u001b[39m Y_feature = Y_random[output_feature].values  \u001b[38;5;66;03m# .values converts to numpy array.\u001b[39;00m\n\u001b[32m      7\u001b[39m \u001b[38;5;66;03m# Run Sobol sensitivity analysis (first-order only)\u001b[39;00m\n\u001b[32m----> \u001b[39m\u001b[32m8\u001b[39m sobol_indices = \u001b[43msobol_analyze\u001b[49m\u001b[43m(\u001b[49m\u001b[43mproblem\u001b[49m\u001b[43m,\u001b[49m\u001b[43m \u001b[49m\u001b[43mY_feature\u001b[49m\u001b[43m,\u001b[49m\u001b[43m \u001b[49m\u001b[43mcalc_second_order\u001b[49m\u001b[43m=\u001b[49m\u001b[38;5;28;43;01mFalse\u001b[39;49;00m\u001b[43m)\u001b[49m\n\u001b[32m     10\u001b[39m \u001b[38;5;66;03m# Sorting using argsort function S1 indices returns in ascending order, so we reverse it with [::-1], so biggest first\u001b[39;00m\n\u001b[32m     11\u001b[39m names = np.array(problem[\u001b[33m'\u001b[39m\u001b[33mnames\u001b[39m\u001b[33m'\u001b[39m])  \u001b[38;5;66;03m# Names should match columns of X_cleaned\u001b[39;00m\n",
      "\u001b[36mFile \u001b[39m\u001b[32m~/project/comparative-gsa/venv/lib/python3.11/site-packages/SALib/analyze/sobol.py:128\u001b[39m, in \u001b[36manalyze\u001b[39m\u001b[34m(problem, Y, calc_second_order, num_resamples, conf_level, print_to_console, parallel, n_processors, keep_resamples, seed)\u001b[39m\n\u001b[32m    126\u001b[39m     N = \u001b[38;5;28mint\u001b[39m(Y.size / (D + \u001b[32m2\u001b[39m))\n\u001b[32m    127\u001b[39m \u001b[38;5;28;01melse\u001b[39;00m:\n\u001b[32m--> \u001b[39m\u001b[32m128\u001b[39m     \u001b[38;5;28;01mraise\u001b[39;00m \u001b[38;5;167;01mRuntimeError\u001b[39;00m(\n\u001b[32m    129\u001b[39m \u001b[38;5;250m        \u001b[39m\u001b[33;03m\"\"\"\u001b[39;00m\n\u001b[32m    130\u001b[39m \u001b[33;03m    Incorrect number of samples in model output file.\u001b[39;00m\n\u001b[32m    131\u001b[39m \u001b[33;03m    Confirm that calc_second_order matches option used during sampling.\"\"\"\u001b[39;00m\n\u001b[32m    132\u001b[39m     )\n\u001b[32m    134\u001b[39m \u001b[38;5;28;01mif\u001b[39;00m \u001b[38;5;129;01mnot\u001b[39;00m \u001b[32m0\u001b[39m < conf_level < \u001b[32m1\u001b[39m:\n\u001b[32m    135\u001b[39m     \u001b[38;5;28;01mraise\u001b[39;00m \u001b[38;5;167;01mRuntimeError\u001b[39;00m(\u001b[33m\"\u001b[39m\u001b[33mConfidence level must be between 0-1.\u001b[39m\u001b[33m\"\u001b[39m)\n",
      "\u001b[31mRuntimeError\u001b[39m: \n        Incorrect number of samples in model output file.\n        Confirm that calc_second_order matches option used during sampling."
     ]
    }
   ],
   "source": [
    "import numpy as np\n",
    "\n",
    "output_feature = \"v_la_mean\"  # Change to any column name in Y\n",
    "\n",
    "Y_feature = Y_random[output_feature].values  # .values converts to numpy array.\n",
    "\n",
    "# Run Sobol sensitivity analysis (first-order only)\n",
    "sobol_indices = sobol_analyze(problem, Y_feature, calc_second_order=False)\n",
    "\n",
    "# Sorting using argsort function S1 indices returns in ascending order, so we reverse it with [::-1], so biggest first\n",
    "names = np.array(problem['names'])  # Names should match columns of X_cleaned\n",
    "S1 = np.array(sobol_indices['S1'])\n",
    "S1_conf = np.array(sobol_indices['S1_conf'])  # Uncertainties of the S1 indices\n",
    "sorted_idx = np.argsort(S1)[::-1]\n",
    "S1_sorted = S1[sorted_idx]\n",
    "S1_conf_sorted = S1_conf[sorted_idx]\n",
    "names_sorted = names[sorted_idx]\n",
    "\n",
    "# Show the sorted sensitivities\n",
    "for n, s, c in zip(names_sorted, S1_sorted, S1_conf_sorted):\n",
    "    print(f\"{n}: S1={s:.3f} ± {c:.3f}\")"
   ]
  }
 ],
 "metadata": {
  "kernelspec": {
   "display_name": "venv",
   "language": "python",
   "name": "python3"
  },
  "language_info": {
   "codemirror_mode": {
    "name": "ipython",
    "version": 3
   },
   "file_extension": ".py",
   "mimetype": "text/x-python",
   "name": "python",
   "nbconvert_exporter": "python",
   "pygments_lexer": "ipython3",
   "version": "3.11.13"
  }
 },
 "nbformat": 4,
 "nbformat_minor": 5
}
