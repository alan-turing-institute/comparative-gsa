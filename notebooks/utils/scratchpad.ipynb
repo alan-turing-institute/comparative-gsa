{
 "cells": [
  {
   "cell_type": "code",
   "execution_count": 1,
   "id": "81964e0a",
   "metadata": {},
   "outputs": [],
   "source": [
    "# Import relevant libraries\n",
    "import os\n",
    "import pandas as pd\n",
    "\n",
    "from SALib.analyze.sobol import analyze\n",
    "import matplotlib.pyplot as plt\n",
    "import pickle\n",
    "import pandas as pd\n",
    "\n",
    "from comparative_gsa.utils import helpers\n",
    "\n",
    "import torch\n",
    "\n",
    "from autoemulate.core.sensitivity_analysis import SensitivityAnalysis\n",
    "from autoemulate.core.sensitivity_analysis import _sobol_results_to_df \n",
    "\n",
    "figsize = (9, 5)"
   ]
  },
  {
   "cell_type": "code",
   "execution_count": 2,
   "id": "8ff22e4a",
   "metadata": {},
   "outputs": [],
   "source": [
    "param_path = '../../inputs/parameters_naghavi_constrained_fixed_T_v_tot_v_ref_lower_k_pas_further.json'\n",
    "# Get the filename from the path, without extension\n",
    "param_filename = os.path.splitext(os.path.basename(param_path))[0]\n",
    "\n",
    "n_saltelli_samples = [1024]\n",
    "n_model_evals      = [30720]\n",
    "\n",
    "n_samples_used_for_emulator = [32]"
   ]
  },
  {
   "cell_type": "code",
   "execution_count": 3,
   "id": "6ca5766c",
   "metadata": {},
   "outputs": [
    {
     "name": "stdout",
     "output_type": "stream",
     "text": [
      "Processing 1024 samples and 30720 model evaluations...\n",
      "Analysing v_ao_mean with emulations\n",
      "Analysing v_ao_max with emulations\n",
      "Analysing v_ao_min with emulations\n",
      "Analysing v_art_mean with emulations\n",
      "Analysing v_art_max with emulations\n",
      "Analysing v_art_min with emulations\n",
      "Analysing v_ven_mean with emulations\n",
      "Analysing v_ven_max with emulations\n",
      "Analysing v_ven_min with emulations\n"
     ]
    },
    {
     "name": "stderr",
     "output_type": "stream",
     "text": [
      "/Users/lbokeria/projects/health_gc/cvd_net_project/comparative-gsa/venv/lib/python3.12/site-packages/linear_operator/utils/cholesky.py:40: NumericalWarning: A not p.d., added jitter of 1.0e-06 to the diagonal\n",
      "  warnings.warn(\n"
     ]
    },
    {
     "name": "stdout",
     "output_type": "stream",
     "text": [
      "Analysing v_la_mean with emulations\n",
      "Analysing v_la_max with emulations\n",
      "Analysing v_la_min with emulations\n",
      "Analysing v_lv_mean with emulations\n",
      "Analysing v_lv_max with emulations\n",
      "Analysing v_lv_min with emulations\n",
      "Analysing p_lv_mean with emulations\n",
      "Analysing p_lv_max with emulations\n",
      "Analysing p_lv_min with emulations\n",
      "Analysing q_av_mean with emulations\n",
      "Analysing q_av_max with emulations\n",
      "Analysing q_av_min with emulations\n",
      "Analysing p_ao_mean with emulations\n",
      "Analysing p_ao_max with emulations\n"
     ]
    },
    {
     "name": "stderr",
     "output_type": "stream",
     "text": [
      "/Users/lbokeria/projects/health_gc/cvd_net_project/comparative-gsa/venv/lib/python3.12/site-packages/linear_operator/utils/cholesky.py:40: NumericalWarning: A not p.d., added jitter of 1.0e-06 to the diagonal\n",
      "  warnings.warn(\n"
     ]
    },
    {
     "name": "stdout",
     "output_type": "stream",
     "text": [
      "Analysing p_ao_min with emulations\n",
      "Analysing p_art_mean with emulations\n",
      "Analysing p_art_max with emulations\n",
      "Analysing p_art_min with emulations\n",
      "Analysing q_ao_mean with emulations\n",
      "Analysing q_ao_max with emulations\n"
     ]
    },
    {
     "name": "stderr",
     "output_type": "stream",
     "text": [
      "/Users/lbokeria/projects/health_gc/cvd_net_project/comparative-gsa/venv/lib/python3.12/site-packages/linear_operator/utils/cholesky.py:40: NumericalWarning: A not p.d., added jitter of 1.0e-06 to the diagonal\n",
      "  warnings.warn(\n"
     ]
    },
    {
     "name": "stdout",
     "output_type": "stream",
     "text": [
      "Analysing q_ao_min with emulations\n"
     ]
    },
    {
     "name": "stderr",
     "output_type": "stream",
     "text": [
      "/Users/lbokeria/projects/health_gc/cvd_net_project/comparative-gsa/venv/lib/python3.12/site-packages/linear_operator/utils/cholesky.py:40: NumericalWarning: A not p.d., added jitter of 1.0e-06 to the diagonal\n",
      "  warnings.warn(\n"
     ]
    },
    {
     "name": "stdout",
     "output_type": "stream",
     "text": [
      "Analysing p_ven_mean with emulations\n",
      "Analysing p_ven_max with emulations\n"
     ]
    },
    {
     "name": "stderr",
     "output_type": "stream",
     "text": [
      "/Users/lbokeria/projects/health_gc/cvd_net_project/comparative-gsa/venv/lib/python3.12/site-packages/linear_operator/utils/cholesky.py:40: NumericalWarning: A not p.d., added jitter of 1.0e-06 to the diagonal\n",
      "  warnings.warn(\n"
     ]
    },
    {
     "name": "stdout",
     "output_type": "stream",
     "text": [
      "Analysing p_ven_min with emulations\n",
      "Analysing q_art_mean with emulations\n"
     ]
    },
    {
     "name": "stderr",
     "output_type": "stream",
     "text": [
      "/Users/lbokeria/projects/health_gc/cvd_net_project/comparative-gsa/venv/lib/python3.12/site-packages/linear_operator/utils/cholesky.py:40: NumericalWarning: A not p.d., added jitter of 1.0e-06 to the diagonal\n",
      "  warnings.warn(\n"
     ]
    },
    {
     "name": "stdout",
     "output_type": "stream",
     "text": [
      "Analysing q_art_max with emulations\n",
      "Analysing q_art_min with emulations\n",
      "Analysing p_la_mean with emulations\n",
      "Analysing p_la_max with emulations\n",
      "Analysing p_la_min with emulations\n",
      "Analysing q_ven_mean with emulations\n"
     ]
    },
    {
     "name": "stderr",
     "output_type": "stream",
     "text": [
      "/Users/lbokeria/projects/health_gc/cvd_net_project/comparative-gsa/venv/lib/python3.12/site-packages/linear_operator/utils/cholesky.py:40: NumericalWarning: A not p.d., added jitter of 1.0e-06 to the diagonal\n",
      "  warnings.warn(\n"
     ]
    },
    {
     "name": "stdout",
     "output_type": "stream",
     "text": [
      "Analysing q_ven_max with emulations\n",
      "Analysing q_ven_min with emulations\n",
      "Analysing q_mv_mean with emulations\n",
      "Analysing q_mv_max with emulations\n",
      "Analysing q_mv_min with emulations\n",
      "Analysing T_mean with emulations\n",
      "Analysing T_max with emulations\n",
      "Analysing T_min with emulations\n"
     ]
    }
   ],
   "source": [
    "data_type = 'emulations' # 'simulations' or 'emulations'\n",
    "\n",
    "for i_n_saltelli_samples, i_n_model_evals in zip(n_saltelli_samples, n_model_evals):\n",
    "    print(f'Processing {i_n_saltelli_samples} samples and {i_n_model_evals} model evaluations...')\n",
    "\n",
    "    simulation_out_path = f'../../outputs/simulations_for_sa/n_samples_{i_n_saltelli_samples}_n_evals_{i_n_model_evals}_{param_filename}/'\n",
    "\n",
    "    # Load the problem pickle file\n",
    "    problem_path = os.path.join(simulation_out_path, 'problem.pkl')\n",
    "\n",
    "    with open(problem_path, 'rb') as f:\n",
    "        problem = pickle.load(f)\n",
    "\n",
    "    # Load the simulation summary results\n",
    "    simulations_summary = pd.read_csv(os.path.join(simulation_out_path, f'simulations_summary.csv'))\n",
    "\n",
    "    # Load the parameter values\n",
    "    parameters_csv = pd.read_csv(os.path.join(simulation_out_path,'saltelli_samples.csv'))\n",
    "\n",
    "    # Turn x into a pytorch tensor, for emulators to predict on\n",
    "    x = torch.tensor(parameters_csv.values, dtype=torch.float32)\n",
    "\n",
    "    # Loop over each feature\n",
    "    for i_output_feature in simulations_summary.columns:\n",
    "\n",
    "        print(f'Analysing {i_output_feature} with {data_type}')\n",
    "\n",
    "        for i_n_samples_used_for_emulator in n_samples_used_for_emulator:\n",
    "\n",
    "            emulator_path = os.path.join('../../outputs/simulations/',\n",
    "                                         f'output_8192_samples_{param_filename}/'\n",
    "                                         f'emulators/{i_output_feature}/'\n",
    "                                         f'trained_on_{i_n_samples_used_for_emulator}_samples')\n",
    "\n",
    "            # Load the right emulator\n",
    "            emulator = helpers.ae_load_result(os.path.join(emulator_path, \n",
    "                                                        'GaussianProcess_0'))\n",
    "            # Use the input file to predict with the emulator\n",
    "            Y_feature = emulator.model.predict(x).mean"
   ]
  }
 ],
 "metadata": {
  "kernelspec": {
   "display_name": "venv",
   "language": "python",
   "name": "python3"
  },
  "language_info": {
   "codemirror_mode": {
    "name": "ipython",
    "version": 3
   },
   "file_extension": ".py",
   "mimetype": "text/x-python",
   "name": "python",
   "nbconvert_exporter": "python",
   "pygments_lexer": "ipython3",
   "version": "3.12.11"
  }
 },
 "nbformat": 4,
 "nbformat_minor": 5
}
