{
 "cells": [
  {
   "cell_type": "code",
   "execution_count": 35,
   "id": "a9919ffe",
   "metadata": {},
   "outputs": [],
   "source": [
    "import os\n",
    "import pandas as pd\n",
    "from autoemulate.core.compare import AutoEmulate\n",
    "from autoemulate.core.sensitivity_analysis import SensitivityAnalysis\n",
    "from ModularCirc import BatchRunner\n",
    "import torch\n",
    "from autoemulate.core.save import ModelSerialiser\n",
    "from autoemulate.core.logging_config import get_configured_logger\n",
    "import matplotlib.pyplot as plt\n",
    "\n",
    "from comparative_gsa.utils import helpers\n",
    "figsize = (9, 5)"
   ]
  },
  {
   "cell_type": "code",
   "execution_count": 36,
   "id": "e7637a4e",
   "metadata": {},
   "outputs": [],
   "source": [
    "param_filename = 'parameters_naghavi_constrained_fixed_T_v_tot_v_ref_lower_k_pas'\n",
    "\n",
    "n_samples = 2048\n",
    "\n",
    "simulation_out_path = f'../outputs/simulations/output_{n_samples}_samples_{param_filename}/'\n",
    "\n",
    "parameters_json_file = os.path.join(simulation_out_path, 'parameters.json')\n",
    "\n",
    "# Load the simulation input parameters\n",
    "input_params = pd.read_csv(os.path.join(simulation_out_path, f'input_samples_{n_samples}.csv'))\n",
    "\n",
    "# Load the summary statistics\n",
    "summary_stats = pd.read_csv(os.path.join(simulation_out_path, f'simulations_summary.csv'))\n",
    "\n",
    "output_to_emulate = 'p_ao_max'\n",
    "\n",
    "emulators_path = os.path.join(simulation_out_path, 'emulators', output_to_emulate)"
   ]
  },
  {
   "cell_type": "code",
   "execution_count": 37,
   "id": "6d01b70f",
   "metadata": {},
   "outputs": [
    {
     "data": {
      "text/plain": [
       "{'ao.r': (195.0, 325.0),\n",
       " 'ao.c': (0.22499999999999998, 0.375),\n",
       " 'art.r': (843.75, 1406.25),\n",
       " 'art.c': (2.25, 3.75),\n",
       " 'ven.r': (6.75, 11.25),\n",
       " 'ven.c': (84.975, 141.625),\n",
       " 'av.r': (4.5, 7.5),\n",
       " 'mv.r': (3.0749999999999997, 5.125),\n",
       " 'la.E_pas': (0.22499999999999998, 0.375),\n",
       " 'la.E_act': (0.41250000000000003, 0.6875),\n",
       " 'la.k_pas': (0.00666, 0.03),\n",
       " 'lv.E_pas': (0.75, 1.25),\n",
       " 'lv.E_act': (2.25, 3.75),\n",
       " 'lv.k_pas': (0.00666, 0.03)}"
      ]
     },
     "execution_count": 37,
     "metadata": {},
     "output_type": "execute_result"
    }
   ],
   "source": [
    "# Use ModularCirc's BatchRunner to condense parameter names. This requires setting up the sampler first.\n",
    "br = BatchRunner()\n",
    "\n",
    "br.setup_sampler(parameters_json_file)\n",
    "\n",
    "br._parameters_2_sample"
   ]
  },
  {
   "cell_type": "code",
   "execution_count": 38,
   "id": "e4793cd3",
   "metadata": {},
   "outputs": [],
   "source": [
    "# Get column names for parameters up to 'lv.k_pas'\n",
    "parameter_names = list(input_params.columns[:input_params.columns.get_loc('lv.k_pas') + 1])"
   ]
  },
  {
   "cell_type": "code",
   "execution_count": 39,
   "id": "d2b9f90e",
   "metadata": {},
   "outputs": [
    {
     "data": {
      "text/plain": [
       "[(195.0, 325.0),\n",
       " (0.22499999999999998, 0.375),\n",
       " (843.75, 1406.25),\n",
       " (2.25, 3.75),\n",
       " (6.75, 11.25),\n",
       " (84.975, 141.625),\n",
       " (4.5, 7.5),\n",
       " (3.0749999999999997, 5.125),\n",
       " (0.22499999999999998, 0.375),\n",
       " (0.41250000000000003, 0.6875),\n",
       " (0.00666, 0.03),\n",
       " (0.75, 1.25),\n",
       " (2.25, 3.75),\n",
       " (0.00666, 0.03)]"
      ]
     },
     "execution_count": 39,
     "metadata": {},
     "output_type": "execute_result"
    }
   ],
   "source": [
    "# Extract parameter names and bounds from the dictionary\n",
    "parameters_range = br._parameters_2_sample\n",
    "\n",
    "parameter_names = list(parameters_range.keys())\n",
    "parameter_bounds = list(parameters_range.values())\n",
    "\n",
    "parameter_bounds"
   ]
  },
  {
   "cell_type": "code",
   "execution_count": 40,
   "id": "ac334029",
   "metadata": {},
   "outputs": [],
   "source": [
    "problem = {\n",
    "    'num_vars': len(parameter_names),\n",
    "    'names': parameter_names,\n",
    "    'bounds': parameter_bounds,\n",
    "}\n",
    "ae_results = helpers.ae_load_result(os.path.join(emulators_path, 'GaussianProcess_0_20250820_133631'))\n",
    "sa = SensitivityAnalysis(ae_results.model, problem=problem)"
   ]
  },
  {
   "cell_type": "code",
   "execution_count": 41,
   "id": "05770221",
   "metadata": {},
   "outputs": [
    {
     "name": "stderr",
     "output_type": "stream",
     "text": [
      "/Users/syonis/project/comparative-gsa/venv/lib/python3.12/site-packages/SALib/util/__init__.py:274: FutureWarning: unique with argument that is not not a Series, Index, ExtensionArray, or np.ndarray is deprecated and will raise in a future version.\n",
      "  names = list(pd.unique(groups))\n"
     ]
    },
    {
     "data": {
      "application/vnd.microsoft.datawrangler.viewer.v0+json": {
       "columns": [
        {
         "name": "index",
         "rawType": "int64",
         "type": "integer"
        },
        {
         "name": "output",
         "rawType": "object",
         "type": "string"
        },
        {
         "name": "parameter",
         "rawType": "object",
         "type": "unknown"
        },
        {
         "name": "index",
         "rawType": "object",
         "type": "string"
        },
        {
         "name": "value",
         "rawType": "float64",
         "type": "float"
        },
        {
         "name": "confidence",
         "rawType": "float64",
         "type": "float"
        }
       ],
       "ref": "1d7a51a4-fe8c-49cc-b4ea-b2eb918b8fe1",
       "rows": [
        [
         "0",
         "y1",
         "ao.r",
         "S1",
         "0.005099270668594427",
         "0.0002864725977449996"
        ],
        [
         "1",
         "y1",
         "ao.c",
         "S1",
         "0.013634403885394561",
         "0.0007896440434230063"
        ],
        [
         "2",
         "y1",
         "art.r",
         "S1",
         "0.0033683367505416713",
         "0.00018195028090314526"
        ],
        [
         "3",
         "y1",
         "art.c",
         "S1",
         "0.009500849394830459",
         "0.0008349882427613059"
        ],
        [
         "4",
         "y1",
         "ven.r",
         "S1",
         "0.0008852143281004114",
         "5.7771533413483624e-05"
        ],
        [
         "5",
         "y1",
         "ven.c",
         "S1",
         "0.015780816995562948",
         "0.0008996620508658307"
        ],
        [
         "6",
         "y1",
         "av.r",
         "S1",
         "5.6612939973004016e-06",
         "5.064539366708342e-07"
        ],
        [
         "7",
         "y1",
         "mv.r",
         "S1",
         "0.0007419905533407157",
         "6.392471908195166e-05"
        ],
        [
         "8",
         "y1",
         "la.E_pas",
         "S1",
         "0.0006952176847366483",
         "3.854281603668314e-05"
        ],
        [
         "9",
         "y1",
         "la.E_act",
         "S1",
         "0.0006688898358870798",
         "3.926547883850738e-05"
        ],
        [
         "10",
         "y1",
         "la.k_pas",
         "S1",
         "0.05136428418986864",
         "0.0024941329096063434"
        ],
        [
         "11",
         "y1",
         "lv.E_pas",
         "S1",
         "0.013181349023242797",
         "0.0006020789950535976"
        ],
        [
         "12",
         "y1",
         "lv.E_act",
         "S1",
         "0.04355864379054428",
         "0.0019946168833452115"
        ],
        [
         "13",
         "y1",
         "lv.k_pas",
         "S1",
         "0.8575822582320088",
         "0.031187347957498078"
        ],
        [
         "0",
         "y1",
         "ao.r",
         "ST",
         "0.004143938659912201",
         "0.002829017624319675"
        ],
        [
         "1",
         "y1",
         "ao.c",
         "ST",
         "0.012866199925988411",
         "0.0042648479573626046"
        ],
        [
         "2",
         "y1",
         "art.r",
         "ST",
         "0.004441571967500873",
         "0.0025357926702107613"
        ],
        [
         "3",
         "y1",
         "art.c",
         "ST",
         "0.006602777753308305",
         "0.0042293165711224"
        ],
        [
         "4",
         "y1",
         "ven.r",
         "ST",
         "0.0002714601703229844",
         "0.001185106233677509"
        ],
        [
         "5",
         "y1",
         "ven.c",
         "ST",
         "0.012690894204415507",
         "0.005240699977218931"
        ],
        [
         "6",
         "y1",
         "av.r",
         "ST",
         "-1.3044924343904279e-05",
         "0.00010637631741394504"
        ],
        [
         "7",
         "y1",
         "mv.r",
         "ST",
         "0.0004961870811043599",
         "0.0011512782774929183"
        ],
        [
         "8",
         "y1",
         "la.E_pas",
         "ST",
         "0.0006509724557868797",
         "0.0012008204236237453"
        ],
        [
         "9",
         "y1",
         "la.E_act",
         "ST",
         "0.0004400884536587875",
         "0.0011705491817554225"
        ],
        [
         "10",
         "y1",
         "la.k_pas",
         "ST",
         "0.0493751827673214",
         "0.010324921817016415"
        ],
        [
         "11",
         "y1",
         "lv.E_pas",
         "ST",
         "0.01305901966014756",
         "0.004985953800787183"
        ],
        [
         "12",
         "y1",
         "lv.E_act",
         "ST",
         "0.042467858409570444",
         "0.008991967293277826"
        ],
        [
         "13",
         "y1",
         "lv.k_pas",
         "ST",
         "0.8463246260966076",
         "0.036458770881644315"
        ],
        [
         "0",
         "y1",
         "('ao.r', 'ao.c')",
         "S2",
         "0.0003719372997553292",
         "0.004365669454723957"
        ],
        [
         "1",
         "y1",
         "('ao.r', 'art.r')",
         "S2",
         "0.000359004295120478",
         "0.004383882027460478"
        ],
        [
         "2",
         "y1",
         "('ao.r', 'art.c')",
         "S2",
         "0.00033446946714438437",
         "0.004350911685599586"
        ],
        [
         "3",
         "y1",
         "('ao.r', 'ven.r')",
         "S2",
         "0.00037235664251475647",
         "0.0043156863254840225"
        ],
        [
         "4",
         "y1",
         "('ao.r', 'ven.c')",
         "S2",
         "0.0002478834527286332",
         "0.004380718040037863"
        ],
        [
         "5",
         "y1",
         "('ao.r', 'av.r')",
         "S2",
         "0.0003437388744256519",
         "0.004325430927598466"
        ],
        [
         "6",
         "y1",
         "('ao.r', 'mv.r')",
         "S2",
         "0.00035889523942918516",
         "0.004303344653477671"
        ],
        [
         "7",
         "y1",
         "('ao.r', 'la.E_pas')",
         "S2",
         "0.0003380029977218409",
         "0.0043245813553067225"
        ],
        [
         "8",
         "y1",
         "('ao.r', 'la.E_act')",
         "S2",
         "0.00034108609779760513",
         "0.004323333239443387"
        ],
        [
         "9",
         "y1",
         "('ao.r', 'la.k_pas')",
         "S2",
         "8.613840647245241e-05",
         "0.004461978419807865"
        ],
        [
         "10",
         "y1",
         "('ao.r', 'lv.E_pas')",
         "S2",
         "0.0003604182070170818",
         "0.004446938761027191"
        ],
        [
         "11",
         "y1",
         "('ao.r', 'lv.E_act')",
         "S2",
         "0.0004788674459587153",
         "0.0043680311009859024"
        ],
        [
         "12",
         "y1",
         "('ao.r', 'lv.k_pas')",
         "S2",
         "0.0010505683231923912",
         "0.005779956588059018"
        ],
        [
         "13",
         "y1",
         "('ao.c', 'art.r')",
         "S2",
         "-0.0022314637097350064",
         "0.00676654720495294"
        ],
        [
         "14",
         "y1",
         "('ao.c', 'art.c')",
         "S2",
         "-0.0022261414329947504",
         "0.006798835384446519"
        ],
        [
         "15",
         "y1",
         "('ao.c', 'ven.r')",
         "S2",
         "-0.002210213566783437",
         "0.006746463584639862"
        ],
        [
         "16",
         "y1",
         "('ao.c', 'ven.c')",
         "S2",
         "-0.002917514244533735",
         "0.006786836707344949"
        ],
        [
         "17",
         "y1",
         "('ao.c', 'av.r')",
         "S2",
         "-0.002264185879375357",
         "0.0067434323385482135"
        ],
        [
         "18",
         "y1",
         "('ao.c', 'mv.r')",
         "S2",
         "-0.002262534175704888",
         "0.006720381236114298"
        ],
        [
         "19",
         "y1",
         "('ao.c', 'la.E_pas')",
         "S2",
         "-0.0022486073441869803",
         "0.006759740888636102"
        ],
        [
         "20",
         "y1",
         "('ao.c', 'la.E_act')",
         "S2",
         "-0.0023052196672396705",
         "0.006737861772383523"
        ],
        [
         "21",
         "y1",
         "('ao.c', 'la.k_pas')",
         "S2",
         "-0.002041121818735739",
         "0.006962589488440707"
        ]
       ],
       "shape": {
        "columns": 5,
        "rows": 119
       }
      },
      "text/html": [
       "<div>\n",
       "<style scoped>\n",
       "    .dataframe tbody tr th:only-of-type {\n",
       "        vertical-align: middle;\n",
       "    }\n",
       "\n",
       "    .dataframe tbody tr th {\n",
       "        vertical-align: top;\n",
       "    }\n",
       "\n",
       "    .dataframe thead th {\n",
       "        text-align: right;\n",
       "    }\n",
       "</style>\n",
       "<table border=\"1\" class=\"dataframe\">\n",
       "  <thead>\n",
       "    <tr style=\"text-align: right;\">\n",
       "      <th></th>\n",
       "      <th>output</th>\n",
       "      <th>parameter</th>\n",
       "      <th>index</th>\n",
       "      <th>value</th>\n",
       "      <th>confidence</th>\n",
       "    </tr>\n",
       "  </thead>\n",
       "  <tbody>\n",
       "    <tr>\n",
       "      <th>0</th>\n",
       "      <td>y1</td>\n",
       "      <td>ao.r</td>\n",
       "      <td>S1</td>\n",
       "      <td>0.005099</td>\n",
       "      <td>0.000286</td>\n",
       "    </tr>\n",
       "    <tr>\n",
       "      <th>1</th>\n",
       "      <td>y1</td>\n",
       "      <td>ao.c</td>\n",
       "      <td>S1</td>\n",
       "      <td>0.013634</td>\n",
       "      <td>0.000790</td>\n",
       "    </tr>\n",
       "    <tr>\n",
       "      <th>2</th>\n",
       "      <td>y1</td>\n",
       "      <td>art.r</td>\n",
       "      <td>S1</td>\n",
       "      <td>0.003368</td>\n",
       "      <td>0.000182</td>\n",
       "    </tr>\n",
       "    <tr>\n",
       "      <th>3</th>\n",
       "      <td>y1</td>\n",
       "      <td>art.c</td>\n",
       "      <td>S1</td>\n",
       "      <td>0.009501</td>\n",
       "      <td>0.000835</td>\n",
       "    </tr>\n",
       "    <tr>\n",
       "      <th>4</th>\n",
       "      <td>y1</td>\n",
       "      <td>ven.r</td>\n",
       "      <td>S1</td>\n",
       "      <td>0.000885</td>\n",
       "      <td>0.000058</td>\n",
       "    </tr>\n",
       "    <tr>\n",
       "      <th>...</th>\n",
       "      <td>...</td>\n",
       "      <td>...</td>\n",
       "      <td>...</td>\n",
       "      <td>...</td>\n",
       "      <td>...</td>\n",
       "    </tr>\n",
       "    <tr>\n",
       "      <th>86</th>\n",
       "      <td>y1</td>\n",
       "      <td>(la.k_pas, lv.E_act)</td>\n",
       "      <td>S2</td>\n",
       "      <td>0.000334</td>\n",
       "      <td>0.014780</td>\n",
       "    </tr>\n",
       "    <tr>\n",
       "      <th>87</th>\n",
       "      <td>y1</td>\n",
       "      <td>(la.k_pas, lv.k_pas)</td>\n",
       "      <td>S2</td>\n",
       "      <td>0.001425</td>\n",
       "      <td>0.019299</td>\n",
       "    </tr>\n",
       "    <tr>\n",
       "      <th>88</th>\n",
       "      <td>y1</td>\n",
       "      <td>(lv.E_pas, lv.E_act)</td>\n",
       "      <td>S2</td>\n",
       "      <td>-0.000609</td>\n",
       "      <td>0.007823</td>\n",
       "    </tr>\n",
       "    <tr>\n",
       "      <th>89</th>\n",
       "      <td>y1</td>\n",
       "      <td>(lv.E_pas, lv.k_pas)</td>\n",
       "      <td>S2</td>\n",
       "      <td>-0.000232</td>\n",
       "      <td>0.009912</td>\n",
       "    </tr>\n",
       "    <tr>\n",
       "      <th>90</th>\n",
       "      <td>y1</td>\n",
       "      <td>(lv.E_act, lv.k_pas)</td>\n",
       "      <td>S2</td>\n",
       "      <td>0.000311</td>\n",
       "      <td>0.016566</td>\n",
       "    </tr>\n",
       "  </tbody>\n",
       "</table>\n",
       "<p>119 rows × 5 columns</p>\n",
       "</div>"
      ],
      "text/plain": [
       "   output             parameter index     value  confidence\n",
       "0      y1                  ao.r    S1  0.005099    0.000286\n",
       "1      y1                  ao.c    S1  0.013634    0.000790\n",
       "2      y1                 art.r    S1  0.003368    0.000182\n",
       "3      y1                 art.c    S1  0.009501    0.000835\n",
       "4      y1                 ven.r    S1  0.000885    0.000058\n",
       "..    ...                   ...   ...       ...         ...\n",
       "86     y1  (la.k_pas, lv.E_act)    S2  0.000334    0.014780\n",
       "87     y1  (la.k_pas, lv.k_pas)    S2  0.001425    0.019299\n",
       "88     y1  (lv.E_pas, lv.E_act)    S2 -0.000609    0.007823\n",
       "89     y1  (lv.E_pas, lv.k_pas)    S2 -0.000232    0.009912\n",
       "90     y1  (lv.E_act, lv.k_pas)    S2  0.000311    0.016566\n",
       "\n",
       "[119 rows x 5 columns]"
      ]
     },
     "execution_count": 41,
     "metadata": {},
     "output_type": "execute_result"
    }
   ],
   "source": [
    "sobol_df = sa.run(method=\"sobol\", n_samples=1024*2*2)\n",
    "sobol_df"
   ]
  },
  {
   "cell_type": "code",
   "execution_count": 42,
   "id": "534d7187",
   "metadata": {},
   "outputs": [],
   "source": [
    "# Due to a bug in autoemulate plotting, we must swap ST and S1 rows.\n",
    "\n",
    "# Get the indices of rows where index == 'ST'\n",
    "mask_st = sobol_df['index'] == 'ST'\n",
    "mask_s1 = sobol_df['index'] == 'S1'\n",
    "\n",
    "# For those rows, change the index to be 'S1'\n",
    "sobol_df.loc[mask_st, 'index'] = 'S1'\n",
    "\n",
    "# For those rows, change the index to be 'ST'\n",
    "sobol_df.loc[mask_s1, 'index'] = 'ST'"
   ]
  },
  {
   "cell_type": "code",
   "execution_count": 43,
   "id": "110dbd05",
   "metadata": {},
   "outputs": [
    {
     "data": {
      "image/png": "[encoded data removed]",
      "text/plain": [
       "<Figure size 900x500 with 1 Axes>"
      ]
     },
     "execution_count": 43,
     "metadata": {},
     "output_type": "execute_result"
    }
   ],
   "source": [
    "sa.plot_sobol(sobol_df, index=\"ST\", figsize=figsize) "
   ]
  },
  {
   "cell_type": "code",
   "execution_count": 44,
   "id": "4a6d7ece",
   "metadata": {},
   "outputs": [
    {
     "data": {
      "image/png": "[encoded data removed]",
      "text/plain": [
       "<Figure size 900x500 with 1 Axes>"
      ]
     },
     "execution_count": 44,
     "metadata": {},
     "output_type": "execute_result"
    }
   ],
   "source": [
    "sa.plot_sobol(sobol_df, index=\"ST\", figsize=figsize) "
   ]
  },
  {
   "cell_type": "code",
   "execution_count": 45,
   "id": "f883632e",
   "metadata": {},
   "outputs": [
    {
     "name": "stdout",
     "output_type": "stream",
     "text": [
      "S1 plot saved to: ../outputs/simulations/output_2048_samples_parameters_naghavi_constrained_fixed_T_v_tot_v_ref_lower_k_pas/plots/p_ao_max_2048_samples\n",
      "ST plot saved to: ../outputs/simulations/output_2048_samples_parameters_naghavi_constrained_fixed_T_v_tot_v_ref_lower_k_pas/plots/p_ao_max_2048_samples\n"
     ]
    }
   ],
   "source": [
    "# Create directories for saving plots if they don't exist\n",
    "plots_dir = os.path.join(simulation_out_path, 'plots', f'{output_to_emulate}_{n_samples}_samples')\n",
    "os.makedirs(plots_dir, exist_ok=True)\n",
    "\n",
    "figsize = (9, 5)\n",
    "\n",
    "# Plot and save S1\n",
    "fig_S1 = SensitivityAnalysis.plot_sobol(sobol_df, index=\"S1\", figsize=figsize)\n",
    "if fig_S1 is None:\n",
    "    # If the function does not return a fig, get the current figure instead\n",
    "    fig_S1 = plt.gcf()\n",
    "fig_S1.savefig(os.path.join(plots_dir, f'S1_{output_to_emulate}_{n_samples}_samples.png'), \n",
    "               dpi=300, bbox_inches='tight')\n",
    "fig_S1.savefig(os.path.join(plots_dir, f'S1_{output_to_emulate}_{n_samples}_samples.pdf'), \n",
    "               bbox_inches='tight')\n",
    "plt.close(fig_S1)  # Close the figure to free memory\n",
    "\n",
    "print(f\"S1 plot saved to: {plots_dir}\")\n",
    "\n",
    "# Plot and save ST\n",
    "fig_ST = SensitivityAnalysis.plot_sobol(sobol_df, index=\"ST\", figsize=figsize)\n",
    "if fig_ST is None:\n",
    "    fig_ST = plt.gcf()\n",
    "fig_ST.savefig(os.path.join(plots_dir, f'ST_{output_to_emulate}_{n_samples}_samples.png'), \n",
    "               dpi=300, bbox_inches='tight')\n",
    "fig_ST.savefig(os.path.join(plots_dir, f'ST_{output_to_emulate}_{n_samples}_samples.pdf'), \n",
    "               bbox_inches='tight')\n",
    "plt.close(fig_ST)\n",
    "\n",
    "print(f\"ST plot saved to: {plots_dir}\")"
   ]
  }
 ],
 "metadata": {
  "kernelspec": {
   "display_name": "venv",
   "language": "python",
   "name": "python3"
  },
  "language_info": {
   "codemirror_mode": {
    "name": "ipython",
    "version": 3
   },
   "file_extension": ".py",
   "mimetype": "text/x-python",
   "name": "python",
   "nbconvert_exporter": "python",
   "pygments_lexer": "ipython3",
   "version": "3.12.11"
  }
 },
 "nbformat": 4,
 "nbformat_minor": 5
}
