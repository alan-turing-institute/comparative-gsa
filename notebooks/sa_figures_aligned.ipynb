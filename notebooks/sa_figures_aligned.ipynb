{
 "cells": [
  {
   "cell_type": "code",
   "execution_count": 6,
   "id": "1a483f4e",
   "metadata": {},
   "outputs": [],
   "source": [
    "import os\n",
    "import pandas as pd"
   ]
  },
  {
   "cell_type": "code",
   "execution_count": 7,
   "id": "5563e18c",
   "metadata": {},
   "outputs": [],
   "source": [
    "param_path = '../inputs/parameters_naghavi_constrained_fixed_T_v_tot_v_ref_lower_k_pas.json'\n",
    "# Get the filename from the path, without extension\n",
    "param_filename = os.path.splitext(os.path.basename(param_path))[0]\n",
    "\n",
    "n_saltelli_samples = 245760\n",
    "\n",
    "figures_path = f'../outputs/sa_results/saltelli_samples_{n_saltelli_samples}_{param_filename}/'"
   ]
  },
  {
   "cell_type": "code",
   "execution_count": 8,
   "id": "653f80b5",
   "metadata": {},
   "outputs": [],
   "source": [
    "# Load the simulations summary stats to get feature names\n",
    "summary_stats = pd.read_csv(os.path.join(f'../outputs/simulations/output_{n_saltelli_samples}_samples_{param_filename}/simulations_summary.csv'))\n",
    "\n",
    "all_features = summary_stats.columns.to_list()"
   ]
  },
  {
   "cell_type": "code",
   "execution_count": null,
   "id": "b2285ba3",
   "metadata": {},
   "outputs": [],
   "source": [
    "import matplotlib.pyplot as plt\n",
    "import matplotlib.image as mpimg\n",
    "import numpy as np\n",
    "\n",
    "# Define the figure layout\n",
    "n_features = len(all_features)\n",
    "n_cols = 4\n",
    "fig, axes = plt.subplots(n_features, n_cols, figsize=(20, 4*n_features))\n",
    "\n",
    "# Column titles\n",
    "col_titles = ['S1 (Simulations)', 'ST (Simulations)', 'ST (Emulations)', 'S1 (Emulations)']\n",
    "\n",
    "# File patterns for each column\n",
    "file_patterns = [\n",
    "    ('simulations', 's1_indices.png'),\n",
    "    ('simulations', 'st_indices.png'), \n",
    "    ('emulations', 'st_indices.png'),\n",
    "    ('emulations', 's1_indices.png')\n",
    "]\n",
    "\n",
    "# Loop through each feature (row)\n",
    "for i, feature in enumerate(all_features):\n",
    "    feature_folder = os.path.join(figures_path, feature)\n",
    "    \n",
    "    # Loop through each column\n",
    "    for j, (subfolder, filename) in enumerate(file_patterns):\n",
    "        ax = axes[i, j] if n_features > 1 else axes[j]\n",
    "        \n",
    "        # Construct the full path to the image\n",
    "        img_path = os.path.join(feature_folder, subfolder, filename)\n",
    "        \n",
    "        # Check if file exists and load image\n",
    "        if os.path.exists(img_path):\n",
    "            try:\n",
    "                img = mpimg.imread(img_path)\n",
    "                ax.imshow(img)\n",
    "                ax.axis('off')\n",
    "            except Exception as e:\n",
    "                ax.text(0.5, 0.5, f'Error loading\\n{filename}', \n",
    "                       ha='center', va='center', transform=ax.transAxes)\n",
    "                ax.axis('off')\n",
    "        else:\n",
    "            # Display placeholder if file doesn't exist\n",
    "            ax.text(0.5, 0.5, f'Missing:\\n{filename}', \n",
    "                   ha='center', va='center', transform=ax.transAxes)\n",
    "            ax.axis('off')\n",
    "        \n",
    "        # Add column titles to the first row\n",
    "        if i == 0:\n",
    "            ax.set_title(col_titles[j], fontsize=12, fontweight='bold')\n",
    "    \n",
    "    # Add feature name as row label\n",
    "    if n_features > 1:\n",
    "        axes[i, 0].set_ylabel(feature, rotation=90, fontsize=10, fontweight='bold')\n",
    "    else:\n",
    "        axes[0].set_ylabel(feature, rotation=90, fontsize=10, fontweight='bold')\n",
    "\n",
    "# Adjust layout\n",
    "plt.tight_layout()\n",
    "plt.subplots_adjust(left=0.1, right=0.95, top=0.95, bottom=0.05)\n",
    "\n",
    "# Save the collage\n",
    "# output_path = os.path.join(figures_path, 'sensitivity_analysis_collage.png')\n",
    "# plt.savefig(output_path, dpi=300, bbox_inches='tight')\n",
    "# plt.show()\n",
    "\n",
    "# print(f\"Collage saved to: {output_path}\")\n",
    "# print(f\"Created {n_features} x {n_cols} figure collage\")"
   ]
  }
 ],
 "metadata": {
  "kernelspec": {
   "display_name": "venv",
   "language": "python",
   "name": "python3"
  },
  "language_info": {
   "codemirror_mode": {
    "name": "ipython",
    "version": 3
   },
   "file_extension": ".py",
   "mimetype": "text/x-python",
   "name": "python",
   "nbconvert_exporter": "python",
   "pygments_lexer": "ipython3",
   "version": "3.12.11"
  }
 },
 "nbformat": 4,
 "nbformat_minor": 5
}
