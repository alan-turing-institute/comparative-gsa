{
 "cells": [
  {
   "cell_type": "code",
   "execution_count": 1,
   "id": "2388fde8",
   "metadata": {},
   "outputs": [],
   "source": [
    "import os\n",
    "import numpy as np\n",
    "import pandas as pd\n",
    "from SALib.analyze.sobol import analyze\n",
    "from SALib.sample.sobol import sample as sobol_sample\n",
    "from SALib.analyze.sobol import analyze as sobol_analyze\n",
    "import matplotlib.pyplot as plt\n",
    "from autoemulate.compare import AutoEmulate\n",
    "from SALib.analyze.sobol import analyze\n",
    "import numpy as np\n",
    "import json\n",
    "from SALib.sample import saltelli\n",
    "from SALib.analyze import sobol"
   ]
  },
  {
   "cell_type": "code",
   "execution_count": 2,
   "id": "4e37b05f",
   "metadata": {},
   "outputs": [],
   "source": [
    "# Load them back\n",
    "n_samples = 256\n",
    "simulation_out_path = f'outputs/simulations/output_{n_samples}_samples'\n",
    "\n",
    "with open(os.path.join(simulation_out_path,\"bool_indices.json\"), 'r') as f:\n",
    "    bool_indices = json.load(f)"
   ]
  },
  {
   "cell_type": "markdown",
   "id": "707ef8d2",
   "metadata": {},
   "source": [
    "- load input_256_samples.csv\n",
    "- load simulation_summary.csv \n",
    "\n",
    "Get rid of those rows in input_256_camples that correspond to bool_indices"
   ]
  },
  {
   "cell_type": "code",
   "execution_count": 3,
   "id": "1858ad94",
   "metadata": {},
   "outputs": [
    {
     "name": "stdout",
     "output_type": "stream",
     "text": [
      "Loaded input samples: (256, 35)\n",
      "Loaded simulation summary: (255, 32)\n"
     ]
    }
   ],
   "source": [
    "# Load input_256_samples.csv\n",
    "input_csv = os.path.join(simulation_out_path, \"input_samples_256.csv\")\n",
    "X = pd.read_csv(input_csv)\n",
    "print(\"Loaded input samples:\", X.shape)\n",
    "\n",
    "# Load simulation_summary.csv\n",
    "summary_csv = os.path.join(simulation_out_path, \"simulations_summary.csv\")\n",
    "Y = pd.read_csv(summary_csv)\n",
    "print(\"Loaded simulation summary:\", Y.shape)"
   ]
  },
  {
   "cell_type": "code",
   "execution_count": 4,
   "id": "35f93671",
   "metadata": {},
   "outputs": [
    {
     "name": "stdout",
     "output_type": "stream",
     "text": [
      "Cleaned input samples: (255, 17)\n"
     ]
    }
   ],
   "source": [
    "# Lets get cleaning and removing \n",
    "\n",
    "# Take only the columns up to column 'T' \n",
    "t_column_index = X.columns.get_loc('T')\n",
    "X = X.iloc[:, :t_column_index + 1]\n",
    "\n",
    "# Remove rows at the indices in bool_indices\n",
    "X_cleaned = X.drop(index=bool_indices).reset_index(drop=True)\n",
    "print(\"Cleaned input samples:\", X_cleaned.shape)  # Should be (255, 35)"
   ]
  },
  {
   "cell_type": "code",
   "execution_count": null,
   "id": "d6bb97a1",
   "metadata": {},
   "outputs": [],
   "source": [
    "# Generate random 128 indices between 0-255\n",
    "random_indices = np.random.choice(X_cleaned.index, size=152, replace=False)\n",
    "\n",
    "# Select the rows at these indices\n",
    "X_random = X_cleaned.loc[random_indices].reset_index(drop=True)\n",
    "\n",
    "# do the same for Y\n",
    "Y_random = Y.loc[random_indices].reset_index(drop=True)"
   ]
  },
  {
   "cell_type": "code",
   "execution_count": 6,
   "id": "247d8533",
   "metadata": {},
   "outputs": [
    {
     "name": "stdout",
     "output_type": "stream",
     "text": [
      "{'num_vars': 17, 'names': ['ao.r', 'ao.c', 'art.r', 'art.c', 'ven.r', 'ven.c', 'av.r', 'mv.r', 'la.E_pas', 'la.E_act', 'la.v_ref', 'la.k_pas', 'lv.E_pas', 'lv.E_act', 'lv.v_ref', 'lv.k_pas', 'T'], 'bounds': [[120.4730413109064, 356.97165973484516], [0.1501288413070142, 0.4497803824022411], [581.9474360905588, 1680.8077952591702], [1.5051338151097298, 4.496986096724868], [4.555707033723593, 13.47739865910262], [66.66633032094688, 198.98351196199656], [3.0191556215286255, 8.978285131976008], [2.07870946675539, 6.149927610345184], [0.2214999428391456, 0.6590420363843441], [0.2289844097569585, 0.673807582911104], [5.00167858786881, 14.949526619166136], [0.0166580392375588, 0.0747955199363641], [0.503231662325561, 1.49579946603626], [1.514614968560636, 4.49680962972343], [5.069448268041015, 14.984136689454315], [0.0101046401275321, 0.0447869439997058], [305.34246750175953, 1193.0236967280507]]}\n"
     ]
    }
   ],
   "source": [
    "parameter_names = list(X.columns)\n",
    "parameter_bounds = []\n",
    "for name in parameter_names:\n",
    "    min_val = X_random[name].min()\n",
    "    max_val = X_random[name].max()\n",
    "    parameter_bounds.append([min_val, max_val])\n",
    "\n",
    "problem = {\n",
    "    'num_vars': len(parameter_names),\n",
    "    'names': parameter_names,\n",
    "    'bounds': parameter_bounds\n",
    "}\n",
    "print(problem)\n",
    "\n"
   ]
  },
  {
   "cell_type": "code",
   "execution_count": 7,
   "id": "b6f23f72",
   "metadata": {},
   "outputs": [
    {
     "name": "stdout",
     "output_type": "stream",
     "text": [
      "17\n",
      "av.r: S1=0.738 ± 0.620\n",
      "art.c: S1=0.662 ± 0.810\n",
      "T: S1=0.582 ± 0.609\n",
      "la.E_act: S1=0.514 ± 0.560\n",
      "la.k_pas: S1=0.484 ± 0.685\n",
      "art.r: S1=0.467 ± 0.697\n",
      "ao.r: S1=0.432 ± 1.064\n",
      "mv.r: S1=0.368 ± 0.806\n",
      "la.v_ref: S1=0.342 ± 1.223\n",
      "lv.E_act: S1=0.332 ± 0.862\n",
      "lv.E_pas: S1=0.313 ± 0.772\n",
      "ven.c: S1=0.295 ± 1.395\n",
      "la.E_pas: S1=0.294 ± 1.632\n",
      "ao.c: S1=0.277 ± 1.308\n",
      "lv.k_pas: S1=0.191 ± 0.669\n",
      "lv.v_ref: S1=0.114 ± 2.599\n",
      "ven.r: S1=0.104 ± 1.956\n"
     ]
    },
    {
     "name": "stderr",
     "output_type": "stream",
     "text": [
      "/Users/lbokeria/projects/health_gc/cvd_net_project/comparative-gsa/venv/lib/python3.12/site-packages/SALib/util/__init__.py:274: FutureWarning: unique with argument that is not not a Series, Index, ExtensionArray, or np.ndarray is deprecated and will raise in a future version.\n",
      "  names = list(pd.unique(groups))\n"
     ]
    }
   ],
   "source": [
    "import numpy as np\n",
    "\n",
    "output_feature = \"v_la_mean\"  # Change to any column name in Y\n",
    "\n",
    "Y_feature = Y_random[output_feature].values  # .values converts to numpy array.\n",
    "\n",
    "# Run Sobol sensitivity analysis (first-order only)\n",
    "sobol_indices = sobol_analyze(problem, Y_feature, calc_second_order=False)\n",
    "\n",
    "# Sorting using argsort function S1 indices returns in ascending order, so we reverse it with [::-1], so biggest first\n",
    "names = np.array(problem['names'])  # Names should match columns of X_cleaned\n",
    "S1 = np.array(sobol_indices['S1'])\n",
    "S1_conf = np.array(sobol_indices['S1_conf'])  # Uncertainties of the S1 indices\n",
    "sorted_idx = np.argsort(S1)[::-1]\n",
    "S1_sorted = S1[sorted_idx]\n",
    "S1_conf_sorted = S1_conf[sorted_idx]\n",
    "names_sorted = names[sorted_idx]\n",
    "\n",
    "# Show the sorted sensitivities\n",
    "for n, s, c in zip(names_sorted, S1_sorted, S1_conf_sorted):\n",
    "    print(f\"{n}: S1={s:.3f} ± {c:.3f}\")"
   ]
  }
 ],
 "metadata": {
  "kernelspec": {
   "display_name": "venv",
   "language": "python",
   "name": "python3"
  },
  "language_info": {
   "codemirror_mode": {
    "name": "ipython",
    "version": 3
   },
   "file_extension": ".py",
   "mimetype": "text/x-python",
   "name": "python",
   "nbconvert_exporter": "python",
   "pygments_lexer": "ipython3",
   "version": "3.12.11"
  }
 },
 "nbformat": 4,
 "nbformat_minor": 5
}
