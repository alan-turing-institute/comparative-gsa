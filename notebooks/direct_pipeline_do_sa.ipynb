{
 "cells": [
  {
   "cell_type": "code",
   "execution_count": null,
   "id": "a9b5c525",
   "metadata": {},
   "outputs": [],
   "source": [
    "# Import relevant libraries\n",
    "import os\n",
    "import pandas as pd\n",
    "\n",
    "from ModularCirc.Models.NaghaviModel import NaghaviModel, NaghaviModelParameters, TEMPLATE_TIME_SETUP_DICT\n",
    "\n",
    "import numpy as np\n",
    "\n",
    "from SALib.sample import saltelli\n",
    "\n",
    "from comparative_gsa.sample_input_space import sample_input_space\n",
    "\n",
    "import json\n",
    "\n",
    "from ModularCirc import BatchRunner\n",
    "\n",
    "from comparative_gsa.simulate_data import simulate_data\n",
    "from comparative_gsa.calculate_output_features import calculate_output_features\n",
    "\n",
    "from SALib.analyze.sobol import analyze\n",
    "import matplotlib.pyplot as plt"
   ]
  },
  {
   "cell_type": "code",
   "execution_count": null,
   "id": "ee593217",
   "metadata": {},
   "outputs": [],
   "source": [
    "param_path = '../inputs/parameters_naghavi_constrained_fixed_T_v_tot_v_ref_lower_k_pas.json'\n",
    "# Get the filename from the path, without extension\n",
    "param_filename = os.path.splitext(os.path.basename(param_path))[0]\n",
    "\n",
    "n_samples = 245760\n",
    "\n",
    "simulation_out_path = f'../outputs/simulations/output_{n_samples}_samples_{param_filename}/'\n"
   ]
  },
  {
   "cell_type": "code",
   "execution_count": null,
   "id": "ef079d2b",
   "metadata": {},
   "outputs": [],
   "source": [
    "# Load input_544_samples.csv\n",
    "input_csv = os.path.join(simulation_out_path, f\"input_samples_{n_samples}.csv\")\n",
    "X = pd.read_csv(input_csv)\n",
    "print(\"Loaded input samples:\", X.shape)\n",
    "\n",
    "# Load simulation_summary.csv\n",
    "summary_csv = os.path.join(simulation_out_path, \"simulations_summary.csv\")\n",
    "Y = pd.read_csv(summary_csv)\n",
    "print(\"Loaded simulation summary:\", Y.shape)"
   ]
  },
  {
   "cell_type": "code",
   "execution_count": null,
   "id": "f83af976",
   "metadata": {},
   "outputs": [],
   "source": [
    "output_feature = \"p_ao_max\"  # Change to any column name in Y\n",
    "Y_feature = Y[output_feature].values  # .values converts to numpy array.\n",
    "Y_feature.shape"
   ]
  },
  {
   "cell_type": "code",
   "execution_count": null,
   "id": "9964d6ac",
   "metadata": {},
   "outputs": [],
   "source": [
    "relevant_columns = ['ao.r',\n",
    " 'ao.c',\n",
    " 'art.r',\n",
    " 'art.c',\n",
    " 'ven.r',\n",
    " 'ven.c',\n",
    " 'av.r',\n",
    " 'mv.r',\n",
    " 'la.E_pas',\n",
    " 'la.E_act',\n",
    " 'la.k_pas',\n",
    " 'lv.E_pas',\n",
    " 'lv.E_act',\n",
    " 'lv.k_pas']\n",
    "\n",
    "problem = {\n",
    "    'num_vars': len(relevant_columns),\n",
    "    'names': relevant_columns,\n",
    "    'bounds' : X[relevant_columns].describe().loc[['min', 'max']].T.values\n",
    "}"
   ]
  },
  {
   "cell_type": "code",
   "execution_count": null,
   "id": "41670c4c",
   "metadata": {},
   "outputs": [],
   "source": [
    "# Instead, load the pre-existing problem definition and saltelli samples\n",
    "problem_path = '../outputs/simulations/output_245760_samples_parameters_naghavi_constrained_fixed_T_v_tot_v_ref_lower_k_pas/problem.pkl'\n",
    "\n",
    "# Load the problem pickle file\n",
    "import pickle\n",
    "import pandas as pd\n",
    "with open(problem_path, 'rb') as f:\n",
    "    problem = pickle.load(f)\n",
    "\n",
    "problem"
   ]
  },
  {
   "cell_type": "code",
   "execution_count": null,
   "id": "ffceb389",
   "metadata": {},
   "outputs": [],
   "source": [
    "# Do the sobol_analyse for GSA\n",
    "sobol_indices = analyze(problem, Y_feature, calc_second_order=True)"
   ]
  },
  {
   "cell_type": "code",
   "execution_count": null,
   "id": "f005251b",
   "metadata": {},
   "outputs": [],
   "source": [
    "sobol_indices"
   ]
  },
  {
   "cell_type": "code",
   "execution_count": null,
   "id": "39c9c59a",
   "metadata": {},
   "outputs": [],
   "source": [
    "from autoemulate.core.sensitivity_analysis import SensitivityAnalysis\n",
    "from autoemulate.core.sensitivity_analysis import _sobol_results_to_df "
   ]
  },
  {
   "cell_type": "code",
   "execution_count": null,
   "id": "c8ec43f7",
   "metadata": {},
   "outputs": [],
   "source": [
    "results = {\n",
    "    output_feature: sobol_indices\n",
    "}"
   ]
  },
  {
   "cell_type": "code",
   "execution_count": null,
   "id": "0a053a28",
   "metadata": {},
   "outputs": [],
   "source": [
    "sobol_df = _sobol_results_to_df(results)"
   ]
  },
  {
   "cell_type": "code",
   "execution_count": null,
   "id": "ea95a68e",
   "metadata": {},
   "outputs": [],
   "source": [
    "# Due to a bug in autoemulate plotting, we must swap ST and S1 rows.\n",
    "\n",
    "# Get the indices of rows where index == 'ST'\n",
    "mask_st = sobol_df['index'] == 'ST'\n",
    "mask_s1 = sobol_df['index'] == 'S1'\n",
    "\n",
    "# For those rows, change the index to be 'S1'\n",
    "sobol_df.loc[mask_st, 'index'] = 'S1'\n",
    "\n",
    "# For those rows, change the index to be 'ST'\n",
    "sobol_df.loc[mask_s1, 'index'] = 'ST'"
   ]
  },
  {
   "cell_type": "code",
   "execution_count": null,
   "id": "d81cc3b2",
   "metadata": {},
   "outputs": [],
   "source": [
    "figsize = (9, 5)\n",
    "\n",
    "SensitivityAnalysis.plot_sobol(sobol_df, index=\"S1\", figsize=figsize) "
   ]
  },
  {
   "cell_type": "code",
   "execution_count": null,
   "id": "27512bc1",
   "metadata": {},
   "outputs": [],
   "source": [
    "figsize = (9, 5)\n",
    "\n",
    "SensitivityAnalysis.plot_sobol(sobol_df, index=\"ST\", figsize=figsize) "
   ]
  },
  {
   "cell_type": "code",
   "execution_count": null,
   "id": "84636774",
   "metadata": {},
   "outputs": [],
   "source": [
    "# Create directories for saving plots if they don't exist\n",
    "plots_dir = os.path.join(simulation_out_path, 'plots', f'{output_feature}_{n_samples}_samples')\n",
    "os.makedirs(plots_dir, exist_ok=True)\n",
    "\n",
    "figsize = (9, 5)\n",
    "\n",
    "# Plot and save S1\n",
    "fig_S1 = SensitivityAnalysis.plot_sobol(sobol_df, index=\"S1\", figsize=figsize)\n",
    "if fig_S1 is None:\n",
    "    # If the function does not return a fig, get the current figure instead\n",
    "    fig_S1 = plt.gcf()\n",
    "fig_S1.savefig(os.path.join(plots_dir, f'S1_{output_feature}_{n_samples}_samples.png'), \n",
    "               dpi=300, bbox_inches='tight')\n",
    "fig_S1.savefig(os.path.join(plots_dir, f'S1_{output_feature}_{n_samples}_samples.pdf'), \n",
    "               bbox_inches='tight')\n",
    "plt.close(fig_S1)  # Close the figure to free memory\n",
    "\n",
    "print(f\"S1 plot saved to: {plots_dir}\")\n",
    "\n",
    "# Plot and save ST\n",
    "fig_ST = SensitivityAnalysis.plot_sobol(sobol_df, index=\"ST\", figsize=figsize)\n",
    "if fig_ST is None:\n",
    "    fig_ST = plt.gcf()\n",
    "fig_ST.savefig(os.path.join(plots_dir, f'ST_{output_feature}_{n_samples}_samples.png'), \n",
    "               dpi=300, bbox_inches='tight')\n",
    "fig_ST.savefig(os.path.join(plots_dir, f'ST_{output_feature}_{n_samples}_samples.pdf'), \n",
    "               bbox_inches='tight')\n",
    "plt.close(fig_ST)\n",
    "\n",
    "print(f\"ST plot saved to: {plots_dir}\")"
   ]
  },
  {
   "cell_type": "code",
   "execution_count": null,
   "id": "ce72b449",
   "metadata": {},
   "outputs": [],
   "source": [
    "# Plot a histogram of y_pred_np\n",
    "plt.hist(Y_feature, bins=1000, alpha=0.7)\n",
    "plt.xlabel('Predicted Values')\n",
    "plt.ylabel('Frequency')\n",
    "plt.title('Histogram of Predicted Values')\n",
    "plt.show()"
   ]
  },
  {
   "cell_type": "code",
   "execution_count": null,
   "id": "e67b352a",
   "metadata": {},
   "outputs": [],
   "source": [
    "fig, axes = plt.subplots(nrows=4, ncols=4, figsize=(20, 18))\n",
    "axes = axes.flatten()\n",
    "\n",
    "for i, param_name in enumerate(X[relevant_columns].columns):\n",
    "    axes[i].scatter(Y_feature, X[relevant_columns][param_name], alpha=0.1, s=0.1)\n",
    "    axes[i].set_xlabel(f'{output_feature} emulated')\n",
    "    axes[i].set_ylabel(param_name)\n",
    "    axes[i].set_title(param_name)\n",
    "\n",
    "# Add a super title\n",
    "plt.suptitle(f'{output_feature} corr with parameters', fontsize=16)\n",
    "\n",
    "plt.tight_layout()\n",
    "plt.show()\n"
   ]
  },
  {
   "cell_type": "code",
   "execution_count": null,
   "id": "699fe8ae",
   "metadata": {},
   "outputs": [],
   "source": [
    "problem['bounds'][-1]"
   ]
  }
 ],
 "metadata": {
  "kernelspec": {
   "display_name": "venv",
   "language": "python",
   "name": "python3"
  },
  "language_info": {
   "codemirror_mode": {
    "name": "ipython",
    "version": 3
   },
   "file_extension": ".py",
   "mimetype": "text/x-python",
   "name": "python",
   "nbconvert_exporter": "python",
   "pygments_lexer": "ipython3",
   "version": "3.12.11"
  }
 },
 "nbformat": 4,
 "nbformat_minor": 5
}
