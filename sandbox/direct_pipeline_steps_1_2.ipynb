{
 "cells": [
  {
   "cell_type": "markdown",
   "id": "9518d7e3",
   "metadata": {},
   "source": [
    "1. Read json file\n",
    "2. Set up the sampler through batchrunner\n",
    "3. generate the input file\n",
    "4. save it."
   ]
  },
  {
   "cell_type": "code",
   "execution_count": null,
   "id": "102d5be6",
   "metadata": {},
   "outputs": [],
   "source": [
    "# Import relevant libraries\n",
    "import os\n",
    "from ModularCirc import BatchRunner\n",
    "import numpy as np\n",
    "import pandas as pd\n",
    "from ModularCirc.Models.NaghaviModel import NaghaviModel, NaghaviModelParameters, TEMPLATE_TIME_SETUP_DICT"
   ]
  },
  {
   "cell_type": "code",
   "execution_count": null,
   "id": "89dd74cd",
   "metadata": {},
   "outputs": [],
   "source": [
    "os.getcwd()"
   ]
  },
  {
   "cell_type": "code",
   "execution_count": null,
   "id": "54213b6e",
   "metadata": {},
   "outputs": [],
   "source": [
    "# Define variables\n",
    "param_path = \"./parameters_01.json\"\n",
    "\n",
    "n_samples = 64 # Powers of 2\n",
    "\n",
    "simulation_out_path = f'outputs/simulations/output_{n_samples}_samples/'"
   ]
  },
  {
   "cell_type": "code",
   "execution_count": null,
   "id": "822c05b3",
   "metadata": {},
   "outputs": [],
   "source": [
    "# Set up the batch runner\n",
    "br = BatchRunner('Sobol', 0) # why are we using 'Sobol' here? \n",
    "br.setup_sampler(param_path)\n",
    "br.sample(n_samples)"
   ]
  },
  {
   "cell_type": "code",
   "execution_count": null,
   "id": "6e7cfa91",
   "metadata": {},
   "outputs": [],
   "source": [
    "map_ = {\n",
    "    'lv.t_tr' : ['lv.t_tr',],\n",
    "    'la.t_tr' : ['la.t_tr',],\n",
    "    'la.delay' : ['la.delay',],\n",
    "    'lv.tau' : ['lv.tau',],\n",
    "    'la.tau' : ['la.tau',],\n",
    "    'lv.t_max' : ['lv.t_max',],\n",
    "    'la.t_max' : ['la.t_max',],\n",
    "}\n",
    "br.map_sample_timings(\n",
    "    ref_time=1000., # double check if 1000 or 1\n",
    "    map=map_\n",
    "    )"
   ]
  },
  {
   "cell_type": "code",
   "execution_count": null,
   "id": "a1f9758e",
   "metadata": {},
   "outputs": [],
   "source": [
    "br.map_vessel_volume()"
   ]
  },
  {
   "cell_type": "code",
   "execution_count": null,
   "id": "89ad6605",
   "metadata": {},
   "outputs": [],
   "source": [
    "br.samples"
   ]
  },
  {
   "cell_type": "code",
   "execution_count": null,
   "id": "d33439da",
   "metadata": {},
   "outputs": [],
   "source": [
    "# Save the samples to a CSV file\n",
    "output_path = \"./samples.csv\"\n",
    "\n",
    "br.samples.to_csv(output_path, index=False)"
   ]
  },
  {
   "cell_type": "code",
   "execution_count": null,
   "id": "6928d601",
   "metadata": {},
   "outputs": [],
   "source": [
    "br.setup_model(model=NaghaviModel, po=NaghaviModelParameters,\n",
    "                   time_setup=TEMPLATE_TIME_SETUP_DICT)"
   ]
  },
  {
   "cell_type": "code",
   "execution_count": null,
   "id": "b9648510",
   "metadata": {},
   "outputs": [],
   "source": [
    "os.makedirs(simulation_out_path, exist_ok=True)"
   ]
  },
  {
   "cell_type": "code",
   "execution_count": null,
   "id": "6d9cc350",
   "metadata": {},
   "outputs": [],
   "source": [
    "simulations = br.run_batch(\n",
    "            n_jobs=10,\n",
    "            output_path=simulation_out_path,\n",
    "        )"
   ]
  },
  {
   "cell_type": "code",
   "execution_count": null,
   "id": "28b34869",
   "metadata": {},
   "outputs": [],
   "source": [
    "## Setting up the headers of the columns for my simulation summary similar to fay\n",
    "headers = [\n",
    "    'v_ao', 'v_art', 'v_ven', 'v_la', 'v_lv', 'p_lv', 'q_av', 'p_ao', 'p_art',\n",
    "    'q_ao', 'p_ven', 'q_art', 'p_la', 'q_ven', 'q_mv', 'T'\n",
    "]\n",
    "\n",
    "summary_rows = []\n",
    "\n",
    "for i_sim in range(len(simulations)): ## stuck with the length of simulations like fay\n",
    "    sim_df = simulations[i_sim]\n",
    "    \n",
    "    # Skip if not a DataFrame this was needed because sometimes simulations can return None or other types. or false.\n",
    "    if not isinstance(sim_df, pd.DataFrame):\n",
    "        print(f\"Simulation {i_sim} is not a DataFrame, skipping.\")\n",
    "        continue\n",
    "\n",
    "    row = {} ##the 'dictiionary' to hold the summary for each simulation\n",
    "    for h in headers: ## using the headers defined above to make the new csv file headers eg v_ao_mean, v_ao_max, etc.\n",
    "        row[f\"{h}_mean\"] = sim_df[h].mean()\n",
    "        row[f\"{h}_max\"] = sim_df[h].max()\n",
    "    summary_rows.append(row) # this is a list that is being used to collect summary data for our simulations.\n",
    "    print(f\"Simulation {i_sim} done.\") # simple way to track progress \n",
    "\n",
    "summary_df = pd.DataFrame(summary_rows)\n",
    "summary_df.to_csv('simulation_summary.csv', index=False)\n",
    "print(\"Saved as simulation_summary.csv\") # not really needed but nice to show the file has been saved! :D"
   ]
  }
 ],
 "metadata": {
  "kernelspec": {
   "display_name": "venv",
   "language": "python",
   "name": "python3"
  },
  "language_info": {
   "codemirror_mode": {
    "name": "ipython",
    "version": 3
   },
   "file_extension": ".py",
   "mimetype": "text/x-python",
   "name": "python",
   "nbconvert_exporter": "python",
   "pygments_lexer": "ipython3",
   "version": "3.11.13"
  }
 },
 "nbformat": 4,
 "nbformat_minor": 5
}
